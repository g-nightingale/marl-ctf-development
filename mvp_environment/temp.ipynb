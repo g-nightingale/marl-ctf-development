{
 "cells": [
  {
   "cell_type": "markdown",
   "metadata": {},
   "source": [
    "## Testing"
   ]
  },
  {
   "cell_type": "code",
   "execution_count": 22,
   "metadata": {},
   "outputs": [],
   "source": [
    "import numpy as np"
   ]
  },
  {
   "cell_type": "markdown",
   "metadata": {},
   "source": [
    "#### Test speed of functions calling attributes or creating variables"
   ]
  },
  {
   "cell_type": "code",
   "execution_count": 1,
   "metadata": {},
   "outputs": [],
   "source": [
    "class TestClass:\n",
    "    def __init__(self):\n",
    "        self.AGENT_TEAMS = {\n",
    "            0: 0,\n",
    "            1: 0,\n",
    "            2: 1,\n",
    "            3: 1\n",
    "        }\n",
    "\n",
    "        self.CAPTURE_POSITIONS = {\n",
    "            0: (1, 1),\n",
    "            1: (8, 8)\n",
    "        }\n",
    "\n",
    "    def test_function1(self, agent_idx):\n",
    "        \"\"\"\n",
    "        Create variables from attributes.\n",
    "        \"\"\"\n",
    "        agent_team = self.AGENT_TEAMS[agent_idx]\n",
    "        agent_capture_pos = self.CAPTURE_POSITIONS[agent_team]\n",
    "        return agent_capture_pos\n",
    "\n",
    "    def test_function2(self, agent_idx):\n",
    "        \"\"\"\n",
    "        Mixture.\n",
    "        \"\"\"\n",
    "        agent_team = self.AGENT_TEAMS[agent_idx]\n",
    "        return self.CAPTURE_POSITIONS[agent_team]\n",
    "\n",
    "    def test_function3(self, agent_idx):\n",
    "        \"\"\"\n",
    "        Reference attributes.\n",
    "        \"\"\"\n",
    "        return self.CAPTURE_POSITIONS[self.AGENT_TEAMS[agent_idx]]"
   ]
  },
  {
   "cell_type": "code",
   "execution_count": 2,
   "metadata": {},
   "outputs": [],
   "source": [
    "tester = TestClass()"
   ]
  },
  {
   "cell_type": "code",
   "execution_count": 7,
   "metadata": {},
   "outputs": [
    {
     "name": "stdout",
     "output_type": "stream",
     "text": [
      "216 ns ± 6.83 ns per loop (mean ± std. dev. of 7 runs, 1,000,000 loops each)\n"
     ]
    }
   ],
   "source": [
    "%%timeit\n",
    "tester.test_function1(0)"
   ]
  },
  {
   "cell_type": "code",
   "execution_count": 8,
   "metadata": {},
   "outputs": [
    {
     "name": "stdout",
     "output_type": "stream",
     "text": [
      "203 ns ± 3.7 ns per loop (mean ± std. dev. of 7 runs, 1,000,000 loops each)\n"
     ]
    }
   ],
   "source": [
    "%%timeit\n",
    "tester.test_function2(0)"
   ]
  },
  {
   "cell_type": "code",
   "execution_count": 9,
   "metadata": {},
   "outputs": [
    {
     "name": "stdout",
     "output_type": "stream",
     "text": [
      "200 ns ± 18.8 ns per loop (mean ± std. dev. of 7 runs, 1,000,000 loops each)\n"
     ]
    }
   ],
   "source": [
    "%%timeit\n",
    "tester.test_function3(0)"
   ]
  },
  {
   "cell_type": "markdown",
   "metadata": {},
   "source": [
    "#### Testing retrieving stuff from tuples"
   ]
  },
  {
   "cell_type": "code",
   "execution_count": 30,
   "metadata": {},
   "outputs": [],
   "source": [
    "mini_batch = [(1, 2, 3, 4, 5), \n",
    "              (1, 2, 3, 4, 5), \n",
    "              (1, 2, 3, 4, 5)]"
   ]
  },
  {
   "cell_type": "code",
   "execution_count": 19,
   "metadata": {},
   "outputs": [
    {
     "name": "stdout",
     "output_type": "stream",
     "text": [
      "1.65 µs ± 45.3 ns per loop (mean ± std. dev. of 7 runs, 1,000,000 loops each)\n"
     ]
    }
   ],
   "source": [
    "%%timeit\n",
    "\n",
    "s = [s1 for (s1, a, r, s2, d) in mini_batch]\n",
    "a = [a for (s1, a, r, s2, d) in mini_batch]\n",
    "r = [r for (s1, a, r, s2, d) in mini_batch]\n",
    "s2 = [s2 for (s1, a, r, s2, d) in mini_batch]\n",
    "d = [d for (s1, a, r, s2, d) in mini_batch]"
   ]
  },
  {
   "cell_type": "code",
   "execution_count": 20,
   "metadata": {},
   "outputs": [
    {
     "name": "stdout",
     "output_type": "stream",
     "text": [
      "1.62 µs ± 99.1 ns per loop (mean ± std. dev. of 7 runs, 100,000 loops each)\n"
     ]
    }
   ],
   "source": [
    "%%timeit\n",
    "\n",
    "s = [s1 for (s1, _, _, _, _) in mini_batch]\n",
    "a = [a for (_, a, _, _, _) in mini_batch]\n",
    "r = [r for (_, _, r, _, _) in mini_batch]\n",
    "s2 = [s2 for (_, _, _, s2, _) in mini_batch]\n",
    "d = [d for (_, _, _, _, d) in mini_batch]"
   ]
  },
  {
   "cell_type": "code",
   "execution_count": 31,
   "metadata": {},
   "outputs": [
    {
     "name": "stdout",
     "output_type": "stream",
     "text": [
      "1.56 µs ± 87.1 ns per loop (mean ± std. dev. of 7 runs, 100,000 loops each)\n"
     ]
    }
   ],
   "source": [
    "%%timeit\n",
    "\n",
    "s = [x[0] for x in mini_batch]\n",
    "a = [x[1] for x in mini_batch]\n",
    "r = [x[2] for x in mini_batch]\n",
    "s2 = [x[3] for x in mini_batch]\n",
    "d = [x[4] for x in mini_batch]"
   ]
  },
  {
   "cell_type": "markdown",
   "metadata": {},
   "source": [
    "#### Retrieving elements from tuples "
   ]
  },
  {
   "cell_type": "code",
   "execution_count": 34,
   "metadata": {},
   "outputs": [],
   "source": [
    "mini_batch = [((10, 15), 2, 3, 4, 5), \n",
    "              ((20, 25), 2, 3, 4, 5), \n",
    "              ((30, 35), 2, 3, 4, 5)]"
   ]
  },
  {
   "cell_type": "code",
   "execution_count": 37,
   "metadata": {},
   "outputs": [
    {
     "name": "stdout",
     "output_type": "stream",
     "text": [
      "[10, 20, 30]\n",
      "[15, 25, 35]\n"
     ]
    }
   ],
   "source": [
    "s1 = [x[0][0] for x in mini_batch]\n",
    "s2 = [x[0][1] for x in mini_batch]\n",
    "\n",
    "print(s1)\n",
    "print(s2)"
   ]
  },
  {
   "cell_type": "markdown",
   "metadata": {},
   "source": [
    "#### List comprehension vs inserting values into array"
   ]
  },
  {
   "cell_type": "code",
   "execution_count": 23,
   "metadata": {},
   "outputs": [],
   "source": [
    "idx = 2"
   ]
  },
  {
   "cell_type": "code",
   "execution_count": 28,
   "metadata": {},
   "outputs": [
    {
     "name": "stdout",
     "output_type": "stream",
     "text": [
      "1.15 µs ± 21.4 ns per loop (mean ± std. dev. of 7 runs, 1,000,000 loops each)\n"
     ]
    }
   ],
   "source": [
    "%%timeit\n",
    "\n",
    "agent_turn = np.array([1 if i==idx else 0 for i in range(4)], dtype=np.int8)"
   ]
  },
  {
   "cell_type": "code",
   "execution_count": 29,
   "metadata": {},
   "outputs": [
    {
     "name": "stdout",
     "output_type": "stream",
     "text": [
      "692 ns ± 14.3 ns per loop (mean ± std. dev. of 7 runs, 1,000,000 loops each)\n"
     ]
    }
   ],
   "source": [
    "%%timeit\n",
    "\n",
    "agent_turn = np.array([0, 0, 0, 0], dtype=np.int8)\n",
    "agent_turn[idx] = 1"
   ]
  },
  {
   "cell_type": "markdown",
   "metadata": {},
   "source": [
    "#### Does a while loop break out immediately when criteria met?"
   ]
  },
  {
   "cell_type": "code",
   "execution_count": 3,
   "metadata": {},
   "outputs": [
    {
     "name": "stdout",
     "output_type": "stream",
     "text": [
      "test 1\n",
      "test 2\n",
      "test 3\n",
      "test 4\n"
     ]
    }
   ],
   "source": [
    "done = False\n",
    "\n",
    "while not done:\n",
    "    print('test 1')\n",
    "    print('test 2')\n",
    "    done = True\n",
    "    print('test 3')\n",
    "    print('test 4')\n"
   ]
  }
 ],
 "metadata": {
  "kernelspec": {
   "display_name": "Python 3.10.8 ('torch-env')",
   "language": "python",
   "name": "python3"
  },
  "language_info": {
   "codemirror_mode": {
    "name": "ipython",
    "version": 3
   },
   "file_extension": ".py",
   "mimetype": "text/x-python",
   "name": "python",
   "nbconvert_exporter": "python",
   "pygments_lexer": "ipython3",
   "version": "3.10.8"
  },
  "orig_nbformat": 4,
  "vscode": {
   "interpreter": {
    "hash": "8cd690e671e1ea295c2072b349b255c40ccf2d1e4972d8ea9053035da215f2ef"
   }
  }
 },
 "nbformat": 4,
 "nbformat_minor": 2
}
