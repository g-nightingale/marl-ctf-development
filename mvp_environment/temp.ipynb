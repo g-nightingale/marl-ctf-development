{
 "cells": [
  {
   "cell_type": "markdown",
   "metadata": {},
   "source": [
    "## Testing"
   ]
  },
  {
   "cell_type": "code",
   "execution_count": 175,
   "metadata": {},
   "outputs": [],
   "source": [
    "import numpy as np\n",
    "import matplotlib.pyplot as plt\n",
    "import torch\n",
    "import torch.nn as nn\n",
    "from collections import defaultdict\n",
    "from torch.distributions.categorical import Categorical\n",
    "from functools import partial\n",
    "from torch.optim import Adam"
   ]
  },
  {
   "cell_type": "markdown",
   "metadata": {},
   "source": [
    "#### Test speed of functions calling attributes or creating variables"
   ]
  },
  {
   "cell_type": "code",
   "execution_count": 1,
   "metadata": {},
   "outputs": [],
   "source": [
    "class TestClass:\n",
    "    def __init__(self):\n",
    "        self.AGENT_TEAMS = {\n",
    "            0: 0,\n",
    "            1: 0,\n",
    "            2: 1,\n",
    "            3: 1\n",
    "        }\n",
    "\n",
    "        self.CAPTURE_POSITIONS = {\n",
    "            0: (1, 1),\n",
    "            1: (8, 8)\n",
    "        }\n",
    "\n",
    "    def test_function1(self, agent_idx):\n",
    "        \"\"\"\n",
    "        Create variables from attributes.\n",
    "        \"\"\"\n",
    "        agent_team = self.AGENT_TEAMS[agent_idx]\n",
    "        agent_capture_pos = self.CAPTURE_POSITIONS[agent_team]\n",
    "        return agent_capture_pos\n",
    "\n",
    "    def test_function2(self, agent_idx):\n",
    "        \"\"\"\n",
    "        Mixture.\n",
    "        \"\"\"\n",
    "        agent_team = self.AGENT_TEAMS[agent_idx]\n",
    "        return self.CAPTURE_POSITIONS[agent_team]\n",
    "\n",
    "    def test_function3(self, agent_idx):\n",
    "        \"\"\"\n",
    "        Reference attributes.\n",
    "        \"\"\"\n",
    "        return self.CAPTURE_POSITIONS[self.AGENT_TEAMS[agent_idx]]"
   ]
  },
  {
   "cell_type": "code",
   "execution_count": 2,
   "metadata": {},
   "outputs": [],
   "source": [
    "tester = TestClass()"
   ]
  },
  {
   "cell_type": "code",
   "execution_count": 7,
   "metadata": {},
   "outputs": [
    {
     "name": "stdout",
     "output_type": "stream",
     "text": [
      "216 ns ± 6.83 ns per loop (mean ± std. dev. of 7 runs, 1,000,000 loops each)\n"
     ]
    }
   ],
   "source": [
    "%%timeit\n",
    "tester.test_function1(0)"
   ]
  },
  {
   "cell_type": "code",
   "execution_count": 8,
   "metadata": {},
   "outputs": [
    {
     "name": "stdout",
     "output_type": "stream",
     "text": [
      "203 ns ± 3.7 ns per loop (mean ± std. dev. of 7 runs, 1,000,000 loops each)\n"
     ]
    }
   ],
   "source": [
    "%%timeit\n",
    "tester.test_function2(0)"
   ]
  },
  {
   "cell_type": "code",
   "execution_count": 9,
   "metadata": {},
   "outputs": [
    {
     "name": "stdout",
     "output_type": "stream",
     "text": [
      "200 ns ± 18.8 ns per loop (mean ± std. dev. of 7 runs, 1,000,000 loops each)\n"
     ]
    }
   ],
   "source": [
    "%%timeit\n",
    "tester.test_function3(0)"
   ]
  },
  {
   "cell_type": "markdown",
   "metadata": {},
   "source": [
    "#### Testing retrieving stuff from tuples"
   ]
  },
  {
   "cell_type": "code",
   "execution_count": 30,
   "metadata": {},
   "outputs": [],
   "source": [
    "mini_batch = [(1, 2, 3, 4, 5), \n",
    "              (1, 2, 3, 4, 5), \n",
    "              (1, 2, 3, 4, 5)]"
   ]
  },
  {
   "cell_type": "code",
   "execution_count": 19,
   "metadata": {},
   "outputs": [
    {
     "name": "stdout",
     "output_type": "stream",
     "text": [
      "1.65 µs ± 45.3 ns per loop (mean ± std. dev. of 7 runs, 1,000,000 loops each)\n"
     ]
    }
   ],
   "source": [
    "%%timeit\n",
    "\n",
    "s = [s1 for (s1, a, r, s2, d) in mini_batch]\n",
    "a = [a for (s1, a, r, s2, d) in mini_batch]\n",
    "r = [r for (s1, a, r, s2, d) in mini_batch]\n",
    "s2 = [s2 for (s1, a, r, s2, d) in mini_batch]\n",
    "d = [d for (s1, a, r, s2, d) in mini_batch]"
   ]
  },
  {
   "cell_type": "code",
   "execution_count": 20,
   "metadata": {},
   "outputs": [
    {
     "name": "stdout",
     "output_type": "stream",
     "text": [
      "1.62 µs ± 99.1 ns per loop (mean ± std. dev. of 7 runs, 100,000 loops each)\n"
     ]
    }
   ],
   "source": [
    "%%timeit\n",
    "\n",
    "s = [s1 for (s1, _, _, _, _) in mini_batch]\n",
    "a = [a for (_, a, _, _, _) in mini_batch]\n",
    "r = [r for (_, _, r, _, _) in mini_batch]\n",
    "s2 = [s2 for (_, _, _, s2, _) in mini_batch]\n",
    "d = [d for (_, _, _, _, d) in mini_batch]"
   ]
  },
  {
   "cell_type": "code",
   "execution_count": 31,
   "metadata": {},
   "outputs": [
    {
     "name": "stdout",
     "output_type": "stream",
     "text": [
      "1.56 µs ± 87.1 ns per loop (mean ± std. dev. of 7 runs, 100,000 loops each)\n"
     ]
    }
   ],
   "source": [
    "%%timeit\n",
    "\n",
    "s = [x[0] for x in mini_batch]\n",
    "a = [x[1] for x in mini_batch]\n",
    "r = [x[2] for x in mini_batch]\n",
    "s2 = [x[3] for x in mini_batch]\n",
    "d = [x[4] for x in mini_batch]"
   ]
  },
  {
   "cell_type": "markdown",
   "metadata": {},
   "source": [
    "#### Retrieving elements from tuples "
   ]
  },
  {
   "cell_type": "code",
   "execution_count": 34,
   "metadata": {},
   "outputs": [],
   "source": [
    "mini_batch = [((10, 15), 2, 3, 4, 5), \n",
    "              ((20, 25), 2, 3, 4, 5), \n",
    "              ((30, 35), 2, 3, 4, 5)]"
   ]
  },
  {
   "cell_type": "code",
   "execution_count": 37,
   "metadata": {},
   "outputs": [
    {
     "name": "stdout",
     "output_type": "stream",
     "text": [
      "[10, 20, 30]\n",
      "[15, 25, 35]\n"
     ]
    }
   ],
   "source": [
    "s1 = [x[0][0] for x in mini_batch]\n",
    "s2 = [x[0][1] for x in mini_batch]\n",
    "\n",
    "print(s1)\n",
    "print(s2)"
   ]
  },
  {
   "cell_type": "markdown",
   "metadata": {},
   "source": [
    "#### List comprehension vs inserting values into array"
   ]
  },
  {
   "cell_type": "code",
   "execution_count": 23,
   "metadata": {},
   "outputs": [],
   "source": [
    "idx = 2"
   ]
  },
  {
   "cell_type": "code",
   "execution_count": 28,
   "metadata": {},
   "outputs": [
    {
     "name": "stdout",
     "output_type": "stream",
     "text": [
      "1.15 µs ± 21.4 ns per loop (mean ± std. dev. of 7 runs, 1,000,000 loops each)\n"
     ]
    }
   ],
   "source": [
    "%%timeit\n",
    "\n",
    "agent_turn = np.array([1 if i==idx else 0 for i in range(4)], dtype=np.int8)"
   ]
  },
  {
   "cell_type": "code",
   "execution_count": 29,
   "metadata": {},
   "outputs": [
    {
     "name": "stdout",
     "output_type": "stream",
     "text": [
      "692 ns ± 14.3 ns per loop (mean ± std. dev. of 7 runs, 1,000,000 loops each)\n"
     ]
    }
   ],
   "source": [
    "%%timeit\n",
    "\n",
    "agent_turn = np.array([0, 0, 0, 0], dtype=np.int8)\n",
    "agent_turn[idx] = 1"
   ]
  },
  {
   "cell_type": "markdown",
   "metadata": {},
   "source": [
    "#### Does a while loop break out immediately when criteria met?"
   ]
  },
  {
   "cell_type": "code",
   "execution_count": 3,
   "metadata": {},
   "outputs": [
    {
     "name": "stdout",
     "output_type": "stream",
     "text": [
      "test 1\n",
      "test 2\n",
      "test 3\n",
      "test 4\n"
     ]
    }
   ],
   "source": [
    "done = False\n",
    "\n",
    "while not done:\n",
    "    print('test 1')\n",
    "    print('test 2')\n",
    "    done = True\n",
    "    print('test 3')\n",
    "    print('test 4')\n"
   ]
  },
  {
   "cell_type": "code",
   "execution_count": 3,
   "metadata": {},
   "outputs": [
    {
     "name": "stdout",
     "output_type": "stream",
     "text": [
      "test 1\n",
      "test 2\n",
      "\n",
      "test 1\n",
      "test 2\n",
      "\n",
      "test 1\n",
      "Yahoo!\n"
     ]
    }
   ],
   "source": [
    "i = 0\n",
    "\n",
    "while True:\n",
    "    print('test 1')\n",
    "    if i == 2:\n",
    "        print(\"Yahoo!\")\n",
    "        break\n",
    "    print('test 2\\n')\n",
    "    i += 1"
   ]
  },
  {
   "cell_type": "code",
   "execution_count": 5,
   "metadata": {},
   "outputs": [
    {
     "name": "stdout",
     "output_type": "stream",
     "text": [
      "test 1\n",
      "test 2\n",
      "\n",
      "test 1\n",
      "test 2\n",
      "\n",
      "test 1\n",
      "test 2\n",
      "\n",
      "test 1\n",
      "Yahoo!\n",
      "test 2\n",
      "\n"
     ]
    }
   ],
   "source": [
    "done = False\n",
    "i = 0\n",
    "while not done:\n",
    "\n",
    "    print('test 1')\n",
    "    if i == 3:\n",
    "        done = True\n",
    "        print(\"Yahoo!\")\n",
    "        \n",
    "    print('test 2\\n')\n",
    "    i += 1"
   ]
  },
  {
   "cell_type": "markdown",
   "metadata": {},
   "source": [
    "#### Flattening a numpy array"
   ]
  },
  {
   "cell_type": "code",
   "execution_count": 18,
   "metadata": {},
   "outputs": [
    {
     "data": {
      "text/plain": [
       "array([[[11]]])"
      ]
     },
     "execution_count": 18,
     "metadata": {},
     "output_type": "execute_result"
    }
   ],
   "source": [
    "arr = np.array([[[11]]])\n",
    "arr"
   ]
  },
  {
   "cell_type": "code",
   "execution_count": 23,
   "metadata": {},
   "outputs": [
    {
     "name": "stdout",
     "output_type": "stream",
     "text": [
      "609 ns ± 10.3 ns per loop (mean ± std. dev. of 7 runs, 1,000,000 loops each)\n"
     ]
    }
   ],
   "source": [
    "%%timeit\n",
    "val = arr.flatten()"
   ]
  },
  {
   "cell_type": "code",
   "execution_count": 24,
   "metadata": {},
   "outputs": [
    {
     "name": "stdout",
     "output_type": "stream",
     "text": [
      "868 ns ± 35.9 ns per loop (mean ± std. dev. of 7 runs, 1,000,000 loops each)\n"
     ]
    }
   ],
   "source": [
    "%%timeit\n",
    "val = np.squeeze(arr)"
   ]
  },
  {
   "cell_type": "code",
   "execution_count": 25,
   "metadata": {},
   "outputs": [
    {
     "name": "stdout",
     "output_type": "stream",
     "text": [
      "78 ns ± 2.31 ns per loop (mean ± std. dev. of 7 runs, 10,000,000 loops each)\n"
     ]
    }
   ],
   "source": [
    "%%timeit\n",
    "val = arr.item()"
   ]
  },
  {
   "cell_type": "markdown",
   "metadata": {},
   "source": [
    "#### Generate a cumulative sum"
   ]
  },
  {
   "cell_type": "code",
   "execution_count": 4,
   "metadata": {},
   "outputs": [],
   "source": [
    "arr = [0, 1, 1, 1, 0, 0, 3, 0, 0, 1, 1]"
   ]
  },
  {
   "cell_type": "code",
   "execution_count": 5,
   "metadata": {},
   "outputs": [
    {
     "data": {
      "image/png": "[encoded data removed]",
      "text/plain": [
       "<Figure size 640x480 with 1 Axes>"
      ]
     },
     "metadata": {},
     "output_type": "display_data"
    }
   ],
   "source": [
    "plt.plot(np.cumsum(arr))\n",
    "plt.show()"
   ]
  },
  {
   "cell_type": "markdown",
   "metadata": {},
   "source": [
    "#### Softmax with temperature"
   ]
  },
  {
   "cell_type": "code",
   "execution_count": 27,
   "metadata": {},
   "outputs": [],
   "source": [
    "qvals = torch.Tensor([20, 20, 21, 20, 20])\n",
    "temps = [1.0, 0.9, 0.8, 0.7, 0.6, 0.5, 0.4]"
   ]
  },
  {
   "cell_type": "code",
   "execution_count": 28,
   "metadata": {},
   "outputs": [
    {
     "name": "stdout",
     "output_type": "stream",
     "text": [
      "temp: 1.0 \n",
      "soft: [0.14884758 0.14884758 0.40460968 0.14884758 0.14884758] \n",
      "action_probs: 3 \n",
      "\n",
      "temp: 0.9 \n",
      "soft: [0.14209126 0.14209126 0.43163496 0.14209126 0.14209126] \n",
      "action_probs: 3 \n",
      "\n",
      "temp: 0.8 \n",
      "soft: [0.13350524 0.13350524 0.46597907 0.13350524 0.13350524] \n",
      "action_probs: 2 \n",
      "\n",
      "temp: 0.7 \n",
      "soft: [0.12235807 0.12235807 0.5105678  0.12235807 0.12235807] \n",
      "action_probs: 3 \n",
      "\n",
      "temp: 0.6 \n",
      "soft: [0.10759054 0.10759054 0.5696378  0.10759054 0.10759054] \n",
      "action_probs: 0 \n",
      "\n",
      "temp: 0.5 \n",
      "soft: [0.08780358 0.08780358 0.6487856  0.08780358 0.08780358] \n",
      "action_probs: 2 \n",
      "\n",
      "temp: 0.4 \n",
      "soft: [0.06179517 0.06179517 0.7528193  0.06179517 0.06179517] \n",
      "action_probs: 2 \n",
      "\n"
     ]
    }
   ],
   "source": [
    "for temp in temps:\n",
    "\n",
    "    soft = torch.exp(qvals/temp) / torch.sum(torch.exp(qvals/temp))\n",
    "    action = torch.multinomial(soft, 1) \n",
    "    print(f\"temp: {temp} \\nsoft: {soft.numpy()} \\naction_probs: {action.cpu().numpy().item()} \\n\")"
   ]
  },
  {
   "cell_type": "markdown",
   "metadata": {},
   "source": [
    "#### Pytorch argmax"
   ]
  },
  {
   "cell_type": "code",
   "execution_count": 31,
   "metadata": {},
   "outputs": [
    {
     "name": "stdout",
     "output_type": "stream",
     "text": [
      "tensor([[-0.9617,  1.0869, -1.2201],\n",
      "        [-0.2074, -1.8541,  0.6735],\n",
      "        [-0.6237,  1.5903,  0.0448],\n",
      "        [-2.2092,  0.8992, -0.1374],\n",
      "        [-0.0863,  0.7266, -1.3727],\n",
      "        [-0.2931, -0.1200, -0.8094],\n",
      "        [ 0.9258, -1.0958, -1.4117],\n",
      "        [ 0.8449,  0.8673,  1.0521],\n",
      "        [ 1.0607, -0.2916, -1.0127],\n",
      "        [ 0.0947,  0.5460,  1.2831]])\n",
      "tensor([[-0.8593, -1.4995, -1.1900],\n",
      "        [ 0.8606, -1.6358,  0.4789],\n",
      "        [-1.5139, -1.4613, -1.5253],\n",
      "        [ 0.4223, -0.5797,  0.4200],\n",
      "        [-0.3815, -1.2304, -0.8843],\n",
      "        [ 0.2630,  0.0121, -1.1800],\n",
      "        [ 0.5711,  0.2760, -0.2803],\n",
      "        [ 0.7317, -1.2094,  1.0007],\n",
      "        [ 1.3611,  0.9654,  0.6239],\n",
      "        [-0.8210, -1.2034,  0.8725]])\n"
     ]
    }
   ],
   "source": [
    "q1 = torch.randn(10, 3)\n",
    "q2 = torch.randn(10, 3)\n",
    "\n",
    "print(q1)\n",
    "print(q2)"
   ]
  },
  {
   "cell_type": "code",
   "execution_count": 55,
   "metadata": {},
   "outputs": [
    {
     "name": "stdout",
     "output_type": "stream",
     "text": [
      "4.03 µs ± 84.6 ns per loop (mean ± std. dev. of 7 runs, 100,000 loops each)\n"
     ]
    }
   ],
   "source": [
    "%%timeit\n",
    "q1_argmax = torch.argmax(q1, dim=1)\n"
   ]
  },
  {
   "cell_type": "code",
   "execution_count": 56,
   "metadata": {},
   "outputs": [
    {
     "name": "stdout",
     "output_type": "stream",
     "text": [
      "8.58 µs ± 120 ns per loop (mean ± std. dev. of 7 runs, 100,000 loops each)\n"
     ]
    }
   ],
   "source": [
    "%%timeit\n",
    "q1_argmax = q1.max(1)[1]"
   ]
  },
  {
   "cell_type": "code",
   "execution_count": 60,
   "metadata": {},
   "outputs": [
    {
     "data": {
      "text/plain": [
       "tensor([-1.4995,  0.4789, -1.4613, -0.5797, -1.2304,  0.0121,  0.5711,  1.0007,\n",
       "         1.3611,  0.8725])"
      ]
     },
     "execution_count": 60,
     "metadata": {},
     "output_type": "execute_result"
    }
   ],
   "source": [
    "q1_argmax = torch.argmax(q1, dim=1)\n",
    "\n",
    "q2_max = q2[np.arange(10), q1_argmax]\n",
    "q2_max"
   ]
  },
  {
   "cell_type": "code",
   "execution_count": 64,
   "metadata": {},
   "outputs": [
    {
     "name": "stdout",
     "output_type": "stream",
     "text": [
      "20.6 µs ± 1.18 µs per loop (mean ± std. dev. of 7 runs, 10,000 loops each)\n"
     ]
    }
   ],
   "source": [
    "%%timeit\n",
    "q2[np.arange(10), q1_argmax]"
   ]
  },
  {
   "cell_type": "code",
   "execution_count": 65,
   "metadata": {},
   "outputs": [
    {
     "name": "stdout",
     "output_type": "stream",
     "text": [
      "12.6 µs ± 150 ns per loop (mean ± std. dev. of 7 runs, 100,000 loops each)\n"
     ]
    }
   ],
   "source": [
    "%%timeit\n",
    "q2[torch.arange(10), q1_argmax]"
   ]
  },
  {
   "cell_type": "markdown",
   "metadata": {},
   "source": [
    "#### Testing respawn logic"
   ]
  },
  {
   "cell_type": "code",
   "execution_count": 118,
   "metadata": {},
   "outputs": [
    {
     "data": {
      "text/plain": [
       "array([[7, 0, 6, 3, 1],\n",
       "       [1, 3, 6, 7, 1],\n",
       "       [5, 1, 0, 3, 9],\n",
       "       [7, 0, 4, 8, 8],\n",
       "       [1, 7, 3, 7, 2]])"
      ]
     },
     "execution_count": 118,
     "metadata": {},
     "output_type": "execute_result"
    }
   ],
   "source": [
    "arr = np.random.randint(10, size=(5, 5))\n",
    "arr"
   ]
  },
  {
   "cell_type": "code",
   "execution_count": 119,
   "metadata": {},
   "outputs": [
    {
     "name": "stdout",
     "output_type": "stream",
     "text": [
      "(0, 0)\n"
     ]
    }
   ],
   "source": [
    "x = 3\n",
    "y = 3\n",
    "\n",
    "possible_respawn_offset = np.where(arr[max(x-1, 0):x+2, max(y-1, 0):y+2]==0)\n",
    "new_pos = (possible_respawn_offset[0][0], possible_respawn_offset[1][0])\n",
    "\n",
    "print(new_pos)"
   ]
  },
  {
   "cell_type": "code",
   "execution_count": 120,
   "metadata": {},
   "outputs": [
    {
     "data": {
      "text/plain": [
       "(array([0], dtype=int64), array([0], dtype=int64))"
      ]
     },
     "execution_count": 120,
     "metadata": {},
     "output_type": "execute_result"
    }
   ],
   "source": [
    "possible_respawn_offset"
   ]
  },
  {
   "cell_type": "code",
   "execution_count": 115,
   "metadata": {},
   "outputs": [
    {
     "name": "stdout",
     "output_type": "stream",
     "text": [
      "(array([0, 0], dtype=int64), array([0, 1], dtype=int64))\n",
      "2\n"
     ]
    }
   ],
   "source": [
    "open_tile = 0\n",
    "open_tiles = np.where(arr==open_tile)\n",
    "\n",
    "print(open_tiles)\n",
    "print(open_tiles[0].shape[0])"
   ]
  },
  {
   "cell_type": "code",
   "execution_count": 103,
   "metadata": {},
   "outputs": [
    {
     "data": {
      "text/plain": [
       "5"
      ]
     },
     "execution_count": 103,
     "metadata": {},
     "output_type": "execute_result"
    }
   ],
   "source": [
    "arr.shape[0]"
   ]
  },
  {
   "cell_type": "markdown",
   "metadata": {},
   "source": [
    "#### Testing speed of np.where\n"
   ]
  },
  {
   "cell_type": "code",
   "execution_count": 143,
   "metadata": {},
   "outputs": [
    {
     "data": {
      "text/plain": [
       "array([[2, 7, 2, 0, 4, 9, 8, 6, 8, 3],\n",
       "       [9, 4, 3, 4, 9, 5, 6, 6, 5, 5],\n",
       "       [8, 0, 1, 3, 3, 3, 0, 1, 1, 5],\n",
       "       [3, 9, 3, 2, 6, 4, 9, 7, 4, 0],\n",
       "       [1, 2, 3, 1, 6, 5, 1, 8, 5, 9],\n",
       "       [4, 9, 7, 9, 9, 8, 0, 3, 3, 5],\n",
       "       [1, 9, 8, 7, 8, 1, 3, 2, 8, 6],\n",
       "       [3, 3, 9, 1, 3, 8, 8, 2, 3, 1],\n",
       "       [6, 0, 4, 6, 9, 1, 2, 4, 7, 5],\n",
       "       [2, 3, 2, 2, 4, 8, 7, 4, 8, 3]])"
      ]
     },
     "execution_count": 143,
     "metadata": {},
     "output_type": "execute_result"
    }
   ],
   "source": [
    "arr = np.random.randint(10, size=(10, 10))\n",
    "arr"
   ]
  },
  {
   "cell_type": "code",
   "execution_count": 145,
   "metadata": {},
   "outputs": [
    {
     "name": "stdout",
     "output_type": "stream",
     "text": [
      "[[  2 100   2   0   4   9   8   6   8   3]\n",
      " [  9   4   3   4   9   5   6   6   5   5]\n",
      " [  8   0   1   3   3   3   0   1   1   5]\n",
      " [  3   9   3   2   6   4   9   7   4   0]\n",
      " [  1   2   3   1   6   5   1   8   5   9]\n",
      " [  4   9   7   9   9   8   0   3   3   5]\n",
      " [  1   9   8   7   8   1   3   2   8   6]\n",
      " [  3   3   9   1   3   8   8   2   3   1]\n",
      " [  6   0   4   6   9   1   2   4   7   5]\n",
      " [  2   3   2   2   4   8   7   4   8   3]]\n"
     ]
    }
   ],
   "source": [
    "arr[(0, 1)] = 100\n",
    "print(arr)"
   ]
  },
  {
   "cell_type": "code",
   "execution_count": 139,
   "metadata": {},
   "outputs": [
    {
     "name": "stdout",
     "output_type": "stream",
     "text": [
      "4.94 µs ± 531 ns per loop (mean ± std. dev. of 7 runs, 100,000 loops each)\n"
     ]
    }
   ],
   "source": [
    "%%timeit\n",
    "(arr==0).any()"
   ]
  },
  {
   "cell_type": "code",
   "execution_count": 140,
   "metadata": {},
   "outputs": [
    {
     "name": "stdout",
     "output_type": "stream",
     "text": [
      "5.27 µs ± 743 ns per loop (mean ± std. dev. of 7 runs, 100,000 loops each)\n"
     ]
    }
   ],
   "source": [
    "%%timeit\n",
    "np.where(arr==0)"
   ]
  },
  {
   "cell_type": "code",
   "execution_count": 147,
   "metadata": {},
   "outputs": [
    {
     "name": "stdout",
     "output_type": "stream",
     "text": [
      "[[1 9 4 0 0 3 3 6 4 9]\n",
      " [3 1 0 1 4 8 2 5 0 7]\n",
      " [6 5 5 2 1 4 7 4 5 1]\n",
      " [4 5 4 1 7 2 8 9 7 1]\n",
      " [6 0 5 1 8 5 8 0 9 7]\n",
      " [8 2 7 1 5 2 1 9 9 8]\n",
      " [7 9 2 4 3 5 2 5 6 3]\n",
      " [0 3 2 4 2 7 4 9 9 5]\n",
      " [4 3 5 7 2 8 7 8 5 0]\n",
      " [0 0 9 9 4 1 4 8 0 8]]\n",
      "0 3\n",
      "0 4\n",
      "1 2\n",
      "1 8\n",
      "4 1\n",
      "4 7\n",
      "7 0\n",
      "8 9\n",
      "9 0\n",
      "9 1\n",
      "9 8\n",
      "[[  1   9   4 100 100   3   3   6   4   9]\n",
      " [  3   1 100   1   4   8   2   5 100   7]\n",
      " [  6   5   5   2   1   4   7   4   5   1]\n",
      " [  4   5   4   1   7   2   8   9   7   1]\n",
      " [  6 100   5   1   8   5   8 100   9   7]\n",
      " [  8   2   7   1   5   2   1   9   9   8]\n",
      " [  7   9   2   4   3   5   2   5   6   3]\n",
      " [100   3   2   4   2   7   4   9   9   5]\n",
      " [  4   3   5   7   2   8   7   8   5 100]\n",
      " [100 100   9   9   4   1   4   8 100   8]]\n"
     ]
    }
   ],
   "source": [
    "arr = np.random.randint(10, size=(10, 10))\n",
    "\n",
    "x_pos, y_pos = np.where(arr==0)\n",
    "print(arr)\n",
    "for i in range(x_pos.shape[0]):\n",
    "    print(x_pos[i], y_pos[i])\n",
    "    arr[(x_pos[i], y_pos[i])] = 100\n",
    "\n",
    "print(arr)"
   ]
  },
  {
   "cell_type": "markdown",
   "metadata": {},
   "source": [
    "#### Unrolling values from a dict"
   ]
  },
  {
   "cell_type": "code",
   "execution_count": 120,
   "metadata": {},
   "outputs": [
    {
     "data": {
      "text/plain": [
       "[0, 1, 0, 1]"
      ]
     },
     "execution_count": 120,
     "metadata": {},
     "output_type": "execute_result"
    }
   ],
   "source": [
    "AGENT_TYPES = {\n",
    "    0: 0,\n",
    "    1: 1,\n",
    "    2: 0,\n",
    "    3: 1\n",
    "}\n",
    "\n",
    "[v for v in AGENT_TYPES.values()]"
   ]
  },
  {
   "cell_type": "markdown",
   "metadata": {},
   "source": [
    "#### Tensor multiplication"
   ]
  },
  {
   "cell_type": "code",
   "execution_count": 19,
   "metadata": {},
   "outputs": [],
   "source": [
    "qvals = torch.Tensor([20, 20, 21, 20, 20])\n",
    "available_actions = torch.Tensor([1, 1, 1, 0, 0])\n",
    "available_actions2 = torch.Tensor([1, 1, 1, -float(\"Inf\"), -float(\"Inf\")])\n",
    "actions = torch.arange(qvals.shape[0])"
   ]
  },
  {
   "cell_type": "code",
   "execution_count": 3,
   "metadata": {},
   "outputs": [
    {
     "data": {
      "text/plain": [
       "tensor([20., 20., 21.,  0.,  0.])"
      ]
     },
     "execution_count": 3,
     "metadata": {},
     "output_type": "execute_result"
    }
   ],
   "source": [
    "qvals * available_actions"
   ]
  },
  {
   "cell_type": "code",
   "execution_count": 9,
   "metadata": {},
   "outputs": [
    {
     "data": {
      "text/plain": [
       "tensor([20., 20., 21., -inf, -inf])"
      ]
     },
     "execution_count": 9,
     "metadata": {},
     "output_type": "execute_result"
    }
   ],
   "source": [
    "qvals * available_actions2"
   ]
  },
  {
   "cell_type": "code",
   "execution_count": 17,
   "metadata": {},
   "outputs": [
    {
     "data": {
      "text/plain": [
       "tensor([0., 1., 2.])"
      ]
     },
     "execution_count": 17,
     "metadata": {},
     "output_type": "execute_result"
    }
   ],
   "source": [
    "torch.unique(actions * available_actions)"
   ]
  },
  {
   "cell_type": "code",
   "execution_count": 6,
   "metadata": {},
   "outputs": [
    {
     "name": "stdout",
     "output_type": "stream",
     "text": [
      "3.36 µs ± 213 ns per loop (mean ± std. dev. of 7 runs, 100,000 loops each)\n"
     ]
    }
   ],
   "source": [
    "%%timeit\n",
    "qvals * available_actions"
   ]
  },
  {
   "cell_type": "code",
   "execution_count": 7,
   "metadata": {},
   "outputs": [
    {
     "name": "stdout",
     "output_type": "stream",
     "text": [
      "2.88 µs ± 58.1 ns per loop (mean ± std. dev. of 7 runs, 100,000 loops each)\n"
     ]
    }
   ],
   "source": [
    "%%timeit\n",
    "qvals * available_actions2"
   ]
  },
  {
   "cell_type": "code",
   "execution_count": 14,
   "metadata": {},
   "outputs": [
    {
     "data": {
      "text/plain": [
       "[1, 1, 1, 1, -inf, -inf, -inf, -inf]"
      ]
     },
     "execution_count": 14,
     "metadata": {},
     "output_type": "execute_result"
    }
   ],
   "source": [
    "[1]*4 + [-float(\"inf\")]*4"
   ]
  },
  {
   "cell_type": "code",
   "execution_count": 51,
   "metadata": {},
   "outputs": [
    {
     "name": "stdout",
     "output_type": "stream",
     "text": [
      "22.9 µs ± 1.73 µs per loop (mean ± std. dev. of 7 runs, 10,000 loops each)\n"
     ]
    }
   ],
   "source": [
    "%%timeit\n",
    "actions = available_actions2 > -float(\"Inf\")\n",
    "actions.nonzero().flatten()"
   ]
  },
  {
   "cell_type": "code",
   "execution_count": 50,
   "metadata": {},
   "outputs": [
    {
     "name": "stdout",
     "output_type": "stream",
     "text": [
      "21 µs ± 791 ns per loop (mean ± std. dev. of 7 runs, 100,000 loops each)\n"
     ]
    }
   ],
   "source": [
    "%%timeit\n",
    "(available_actions2 > -float(\"Inf\")).nonzero().flatten()"
   ]
  },
  {
   "cell_type": "code",
   "execution_count": 46,
   "metadata": {},
   "outputs": [
    {
     "data": {
      "text/plain": [
       "1"
      ]
     },
     "execution_count": 46,
     "metadata": {},
     "output_type": "execute_result"
    }
   ],
   "source": [
    "np.random.choice(actions.nonzero().flatten())"
   ]
  },
  {
   "cell_type": "markdown",
   "metadata": {},
   "source": [
    "### Debug softmax policy"
   ]
  },
  {
   "cell_type": "code",
   "execution_count": 523,
   "metadata": {},
   "outputs": [],
   "source": [
    "def softmax_policy(vals, temp):\n",
    "    \"\"\"\n",
    "    Softmax policy - taken from Deep Reinforcement Learning in Action.\n",
    "    \"\"\"\n",
    "    scaled_qvals = vals/temp\n",
    "    norm_qvals = scaled_qvals - scaled_qvals.max() \n",
    "    soft = torch.exp(norm_qvals) / torch.sum(torch.exp(norm_qvals))\n",
    "    return soft"
   ]
  },
  {
   "cell_type": "code",
   "execution_count": 549,
   "metadata": {},
   "outputs": [
    {
     "name": "stdout",
     "output_type": "stream",
     "text": [
      "Raw values: [-0.0046, 0.0555, -0.0306, 0.0413, 0.0715, 0.9022, -0.0843, -0.036]\n",
      "Actual proportions: [-0.005, 0.0607, -0.0334, 0.0451, 0.0781, 0.986, -0.0921, -0.0393]\n",
      "PyTorch softmax probs: tensor([0.1049, 0.1114, 0.1022, 0.1098, 0.1132, 0.2598, 0.0969, 0.1017])\n",
      "Softmax with temp probs: tensor([0.1128, 0.1174, 0.1109, 0.1163, 0.1187, 0.2065, 0.1070, 0.1105])\n"
     ]
    },
    {
     "data": {
      "image/png": "[encoded data removed]",
      "text/plain": [
       "<Figure size 600x400 with 1 Axes>"
      ]
     },
     "metadata": {},
     "output_type": "display_data"
    }
   ],
   "source": [
    "vals = [-0.0046,  0.0555, -0.0306,  0.0413,  0.0715,  0.9022, -0.0843, -0.0360]\n",
    "temp = 1.5\n",
    "\n",
    "qvals = torch.Tensor(vals)\n",
    "sm = torch.softmax(qvals, dim=0)\n",
    "sm_with_temp = softmax_policy(qvals, temp)\n",
    "\n",
    "# Print results\n",
    "print(f'Raw values: {vals}')\n",
    "print(f'Actual proportions: {[round(v / sum(vals), 4) for v in vals]}')\n",
    "print(f'PyTorch softmax probs: {sm}')\n",
    "print(f'Softmax with temp probs: {sm_with_temp}')\n",
    "\n",
    "# Plot results\n",
    "plt.figure(figsize=(6, 4))\n",
    "plt.title('Softmax & Softmax with temp comparison')\n",
    "plt.xlabel('action index')\n",
    "plt.ylabel('probability')\n",
    "plt.plot(sm, label='softmax')\n",
    "plt.plot(sm_with_temp, label='softmax w. temp', linestyle='dashed')\n",
    "plt.legend()\n",
    "plt.show()\n"
   ]
  },
  {
   "cell_type": "markdown",
   "metadata": {},
   "source": [
    "### Dict comprehension (and other dict stuff)"
   ]
  },
  {
   "cell_type": "code",
   "execution_count": 69,
   "metadata": {},
   "outputs": [
    {
     "data": {
      "text/plain": [
       "{0: 0, 1: 0, 2: 0, 3: 0}"
      ]
     },
     "execution_count": 69,
     "metadata": {},
     "output_type": "execute_result"
    }
   ],
   "source": [
    "{k:0 for k in np.arange(4)}"
   ]
  },
  {
   "cell_type": "code",
   "execution_count": 79,
   "metadata": {},
   "outputs": [
    {
     "data": {
      "text/plain": [
       "defaultdict(int, {})"
      ]
     },
     "execution_count": 79,
     "metadata": {},
     "output_type": "execute_result"
    }
   ],
   "source": [
    "agent_flag_captures = defaultdict(int)\n",
    "agent_flag_captures"
   ]
  },
  {
   "cell_type": "code",
   "execution_count": 80,
   "metadata": {},
   "outputs": [
    {
     "data": {
      "text/plain": [
       "defaultdict(int, {0: 1})"
      ]
     },
     "execution_count": 80,
     "metadata": {},
     "output_type": "execute_result"
    }
   ],
   "source": [
    "\n",
    "agent_flag_captures[0] += 1\n",
    "agent_flag_captures"
   ]
  },
  {
   "cell_type": "code",
   "execution_count": 104,
   "metadata": {},
   "outputs": [
    {
     "data": {
      "text/plain": [
       "{0: 8, 1: 4, 2: 3, 3: 3}"
      ]
     },
     "execution_count": 104,
     "metadata": {},
     "output_type": "execute_result"
    }
   ],
   "source": [
    "agent_types = {\n",
    "    0: 0,\n",
    "    1: 1,\n",
    "    2: 2,\n",
    "    3: 2\n",
    "}\n",
    "\n",
    "agent_hp = {\n",
    "    0: 8,\n",
    "    1: 4,\n",
    "    2: 3,\n",
    "}\n",
    "\n",
    "{kv[0]:agent_hp[kv[1]] for kv in agent_types.items()}"
   ]
  },
  {
   "cell_type": "code",
   "execution_count": 105,
   "metadata": {},
   "outputs": [
    {
     "data": {
      "text/plain": [
       "3"
      ]
     },
     "execution_count": 105,
     "metadata": {},
     "output_type": "execute_result"
    }
   ],
   "source": [
    "agent_idx = 3\n",
    "agent_hp[agent_types[agent_idx]]"
   ]
  },
  {
   "cell_type": "code",
   "execution_count": 108,
   "metadata": {},
   "outputs": [
    {
     "data": {
      "text/plain": [
       "{0: 0, 1: 0, 2: 5, 3: 5}"
      ]
     },
     "execution_count": 108,
     "metadata": {},
     "output_type": "execute_result"
    }
   ],
   "source": [
    "inventory = 5\n",
    "\n",
    "agent_inventory = {kv[0]:inventory if kv[1]==2 else 0 for kv in agent_types.items()}\n",
    "\n",
    "agent_inventory"
   ]
  },
  {
   "cell_type": "code",
   "execution_count": 109,
   "metadata": {},
   "outputs": [
    {
     "data": {
      "text/plain": [
       "10"
      ]
     },
     "execution_count": 109,
     "metadata": {},
     "output_type": "execute_result"
    }
   ],
   "source": [
    "sum([v for v in agent_inventory.values()])"
   ]
  },
  {
   "cell_type": "code",
   "execution_count": 271,
   "metadata": {},
   "outputs": [
    {
     "data": {
      "text/plain": [
       "[8, 4, 3, 3]"
      ]
     },
     "execution_count": 271,
     "metadata": {},
     "output_type": "execute_result"
    }
   ],
   "source": [
    "agent_types = {\n",
    "    0: 0,\n",
    "    1: 1,\n",
    "    2: 2,\n",
    "    3: 2\n",
    "}\n",
    "\n",
    "agent_hp = {\n",
    "    0: 8,\n",
    "    1: 4,\n",
    "    2: 3,\n",
    "}\n",
    "\n",
    "[agent_hp[kv[1]] for kv in agent_types.items()]"
   ]
  },
  {
   "cell_type": "code",
   "execution_count": 276,
   "metadata": {},
   "outputs": [
    {
     "data": {
      "text/plain": [
       "array([8, 4, 3, 3, 0, 0, 0, 0, 0, 0, 0, 0], dtype=uint32)"
      ]
     },
     "execution_count": 276,
     "metadata": {},
     "output_type": "execute_result"
    }
   ],
   "source": [
    "metadata = np.zeros(16, dtype=np.uint)\n",
    "metadata[0:4] = [agent_hp[kv[1]] for kv in agent_types.items()]\n",
    "\n",
    "metadata\n"
   ]
  },
  {
   "cell_type": "markdown",
   "metadata": {},
   "source": [
    "#### Sub-array locating"
   ]
  },
  {
   "cell_type": "code",
   "execution_count": 233,
   "metadata": {},
   "outputs": [],
   "source": [
    "def get_subarray(arr, x, y):\n",
    "    \"\"\"\n",
    "    Return sub-array.\n",
    "    \"\"\"\n",
    "    return arr[max(x-1, 0):x+2, max(y-1, 0):y+2]\n",
    "\n",
    "def get_tile_pos_within_one_cell(arr, x, y, object_tile):\n",
    "    \"\"\"\n",
    "    Returns all positions of a specified tile within one cell of an agent.\n",
    "    \"\"\"\n",
    "    return np.where(arr[max(x-1, 0):x+2, max(y-1, 0):y+2] == object_tile)"
   ]
  },
  {
   "cell_type": "code",
   "execution_count": 258,
   "metadata": {},
   "outputs": [
    {
     "name": "stdout",
     "output_type": "stream",
     "text": [
      "array\n",
      "[[11  2  0  0  0  0  0  0  0 11]\n",
      " [11  0  0  0  0  0  0  0  3  0]\n",
      " [ 0  2  0  0  0  0  0  0  0  0]\n",
      " [ 0  0  0  0  0  0  0  0  0  0]\n",
      " [ 0  0  0  0  4  0  0  0  0  0]\n",
      " [ 0  0  0  0  0 11  0  0  5 11]\n",
      " [ 0  0  0  0  0  0  0  0  0  0]\n",
      " [ 0  0  0  0  0  0  0  0  0  0]\n",
      " [ 0  0  0  0  6  0  0  0  0  0]\n",
      " [ 0  0  0  0  0 11  0  0  0  0]]\n",
      "\n",
      "sub array 0\n",
      "shape:(2, 2)\n",
      "[[11  2]\n",
      " [11  0]]\n",
      "\n",
      "sub array 1\n",
      "shape:(3, 2)\n",
      "[[11  2]\n",
      " [11  0]\n",
      " [ 0  2]]\n",
      "\n",
      "sub array 2\n",
      "shape:(2, 2)\n",
      "[[ 0 11]\n",
      " [ 3  0]]\n",
      "\n",
      "sub array 3\n",
      "shape:(3, 3)\n",
      "[[ 4  0  0]\n",
      " [ 0 11  0]\n",
      " [ 0  0  0]]\n",
      "\n",
      "sub array 4\n",
      "shape:(3, 2)\n",
      "[[ 0  0]\n",
      " [ 5 11]\n",
      " [ 0  0]]\n",
      "\n",
      "sub array 5\n",
      "shape:(2, 3)\n",
      "[[ 6  0  0]\n",
      " [ 0 11  0]]\n",
      "\n"
     ]
    }
   ],
   "source": [
    "# checking subarrays\n",
    "arr =np.zeros((10, 10), dtype=np.uint8)\n",
    "\n",
    "# test data of form: test xy, object xy, test tile, object tile\n",
    "test_data = [\n",
    "    [(0, 0), (0, 1), 11, 2],\n",
    "    [(1, 0), (2, 1), 11, 2],\n",
    "    [(0, 9), (1, 8), 11, 3],\n",
    "    [(5, 5), (4, 4), 11, 4],\n",
    "    [(5, 9), (5, 8), 11, 5],\n",
    "    [(9, 5), (8, 4), 11, 6],\n",
    "]\n",
    "\n",
    "for d in test_data:\n",
    "    arr[d[0]] = d[2]\n",
    "    arr[d[1]] = d[3]\n",
    "\n",
    "print(f\"array\\n{arr}\\n\")\n",
    "\n",
    "for i, d in enumerate(test_data):\n",
    "    sub = get_subarray(arr, d[0][0], d[0][1])\n",
    "    print(f\"sub array {i}\\nshape:{sub.shape}\\n{sub}\\n\")\n"
   ]
  },
  {
   "cell_type": "code",
   "execution_count": 262,
   "metadata": {},
   "outputs": [
    {
     "name": "stdout",
     "output_type": "stream",
     "text": [
      "[[11  2  0  0  0  0  0  0  0 11]\n",
      " [11  0  0  0  0  0  0  0  3  0]\n",
      " [ 0  2  0  0  0  0  0  0  0  0]\n",
      " [ 0  0  0  0  0  0  0  0  0  0]\n",
      " [ 0  0  0  0  4  0  0  0  0  0]\n",
      " [ 0  0  0  0  0 11  0  0  5 11]\n",
      " [ 0  0  0  0  0  0  0  0  0  0]\n",
      " [ 0  0  0  0  0  0  0  0  0  0]\n",
      " [ 0  0  0  0  6  0  0  0  0  0]\n",
      " [ 0  0  0  0  0 11  0  0  0  0]]\n",
      "\n",
      "position with target tile: (array([0], dtype=int64), array([1], dtype=int64))\n",
      "agent position:(0, 0)\n",
      "replace pos 0 = (array([0], dtype=int64), array([1], dtype=int64))\n",
      "\n",
      "position with target tile: (array([0, 2], dtype=int64), array([1, 1], dtype=int64))\n",
      "agent position:(1, 0)\n",
      "replace pos 0 = (array([0, 2], dtype=int64), array([1, 1], dtype=int64))\n",
      "\n",
      "agent position:(1, 0)\n",
      "replace pos 1 = (array([0, 2], dtype=int64), array([1, 1], dtype=int64))\n",
      "\n",
      "position with target tile: (array([1], dtype=int64), array([0], dtype=int64))\n",
      "agent position:(0, 9)\n",
      "replace pos 0 = (array([1], dtype=int64), array([8], dtype=int64))\n",
      "\n",
      "position with target tile: (array([0], dtype=int64), array([0], dtype=int64))\n",
      "agent position:(5, 5)\n",
      "replace pos 0 = (array([4], dtype=int64), array([4], dtype=int64))\n",
      "\n",
      "position with target tile: (array([1], dtype=int64), array([0], dtype=int64))\n",
      "agent position:(5, 9)\n",
      "replace pos 0 = (array([5], dtype=int64), array([8], dtype=int64))\n",
      "\n",
      "position with target tile: (array([0], dtype=int64), array([0], dtype=int64))\n",
      "agent position:(9, 5)\n",
      "replace pos 0 = (array([8], dtype=int64), array([4], dtype=int64))\n",
      "\n",
      "\n",
      "[[ 11 100   0   0   0   0   0   0   0  11]\n",
      " [ 11   0   0   0   0   0   0   0 100   0]\n",
      " [  0 100   0   0   0   0   0   0   0   0]\n",
      " [  0   0   0   0   0   0   0   0   0   0]\n",
      " [  0   0   0   0 100   0   0   0   0   0]\n",
      " [  0   0   0   0   0  11   0   0 100  11]\n",
      " [  0   0   0   0   0   0   0   0   0   0]\n",
      " [  0   0   0   0   0   0   0   0   0   0]\n",
      " [  0   0   0   0 100   0   0   0   0   0]\n",
      " [  0   0   0   0   0  11   0   0   0   0]]\n"
     ]
    }
   ],
   "source": [
    "print(arr)\n",
    "print()\n",
    "\n",
    "arr_new = arr.copy()\n",
    "for d in test_data:\n",
    "    x_pos, y_pos = get_tile_pos_within_one_cell(arr, d[0][0], d[0][1], d[3])\n",
    "    print(f\"position with target tile: {x_pos, y_pos}\")\n",
    "\n",
    "    for i in range(x_pos.shape[0]):\n",
    "        x = d[0][0]\n",
    "        y = d[0][1]\n",
    "        print(f\"agent position:{x, y}\")\n",
    "        # line below is key\n",
    "        replace_pos =  (x + x_pos + -1*(x!=0), y + y_pos + -1*(y!=0))\n",
    "        arr_new[replace_pos] = 100\n",
    "        print(f\"replace pos {i} = {replace_pos}\\n\")\n",
    "\n",
    "print()\n",
    "print(arr_new)"
   ]
  },
  {
   "cell_type": "code",
   "execution_count": 252,
   "metadata": {},
   "outputs": [
    {
     "name": "stdout",
     "output_type": "stream",
     "text": [
      "(1, 4)\n",
      "(1, 4)\n"
     ]
    }
   ],
   "source": [
    "x = 0\n",
    "x_pos = 1\n",
    "y = 2\n",
    "y_pos = 3\n",
    "\n",
    "x_offset = -1\n",
    "y_offset = -1\n",
    "if x==0:\n",
    "    x_offset = 0\n",
    "if y==0:\n",
    "    y_offset = 0\n",
    "\n",
    "replace_pos1 = (x + x_pos + x_offset, y + y_pos + y_offset)\n",
    "replace_pos2 = (x + x_pos + -1*(x!=0), y + y_pos + -1*(y!=0))\n",
    "\n",
    "print(replace_pos1)\n",
    "print(replace_pos2)"
   ]
  },
  {
   "cell_type": "code",
   "execution_count": 253,
   "metadata": {},
   "outputs": [
    {
     "name": "stdout",
     "output_type": "stream",
     "text": [
      "702 ns ± 102 ns per loop (mean ± std. dev. of 7 runs, 1,000,000 loops each)\n"
     ]
    }
   ],
   "source": [
    "%%timeit\n",
    "x_offset = -1\n",
    "y_offset = -1\n",
    "if x==0:\n",
    "    x_offset = 0\n",
    "if y==0:\n",
    "    y_offset = 0\n",
    "\n",
    "replace_pos = (x + x_pos + x_offset, y + y_pos + y_offset)"
   ]
  },
  {
   "cell_type": "code",
   "execution_count": 255,
   "metadata": {},
   "outputs": [
    {
     "name": "stdout",
     "output_type": "stream",
     "text": [
      "666 ns ± 39.3 ns per loop (mean ± std. dev. of 7 runs, 1,000,000 loops each)\n"
     ]
    }
   ],
   "source": [
    "%%timeit\n",
    "replace_pos = (x + x_pos + -1*(x!=0), y + y_pos + -1*(y!=0))"
   ]
  },
  {
   "cell_type": "markdown",
   "metadata": {},
   "source": [
    "### Appending dict items to a list"
   ]
  },
  {
   "cell_type": "code",
   "execution_count": 263,
   "metadata": {},
   "outputs": [],
   "source": [
    "from collections import defaultdict"
   ]
  },
  {
   "cell_type": "code",
   "execution_count": 267,
   "metadata": {},
   "outputs": [],
   "source": [
    "d1 = {0:1, 1:1}\n",
    "d2 = {0:2, 1:3}\n",
    "\n",
    "metrics = {\n",
    "    'metric1':defaultdict(list)\n",
    "}"
   ]
  },
  {
   "cell_type": "code",
   "execution_count": 268,
   "metadata": {},
   "outputs": [],
   "source": [
    "for i in range(2):\n",
    "    metrics['metric1'][i].append(d1[i])"
   ]
  },
  {
   "cell_type": "code",
   "execution_count": 269,
   "metadata": {},
   "outputs": [
    {
     "data": {
      "text/plain": [
       "{'metric1': defaultdict(list, {0: [1], 1: [1]})}"
      ]
     },
     "execution_count": 269,
     "metadata": {},
     "output_type": "execute_result"
    }
   ],
   "source": [
    "metrics"
   ]
  },
  {
   "cell_type": "markdown",
   "metadata": {},
   "source": [
    "#### Map randomisation"
   ]
  },
  {
   "cell_type": "code",
   "execution_count": 349,
   "metadata": {},
   "outputs": [
    {
     "data": {
      "text/plain": [
       "array([[ 0,  0,  0,  0,  0,  0,  0,  0,  0,  0],\n",
       "       [ 0, 22,  0,  0,  1,  1,  1,  0, 20,  0],\n",
       "       [ 0,  0,  0,  0,  0,  1,  1,  0,  0,  0],\n",
       "       [ 0,  0,  0,  0,  1,  1,  1,  1,  1,  0],\n",
       "       [ 0,  0,  1,  1,  1,  1,  0,  0,  0,  0],\n",
       "       [ 1,  0,  0,  0,  0,  0,  1,  0,  0,  0],\n",
       "       [ 1,  0,  0,  0,  0,  0,  1,  0,  0,  0],\n",
       "       [ 0,  0,  0,  0,  1,  1,  1,  0,  0,  0],\n",
       "       [ 0, 11,  0,  0,  0,  0,  1,  0, 10,  0],\n",
       "       [ 0,  0,  0,  0,  0,  0,  0,  0,  0,  0]], dtype=uint8)"
      ]
     },
     "execution_count": 349,
     "metadata": {},
     "output_type": "execute_result"
    }
   ],
   "source": [
    "grid_len = 10\n",
    "\n",
    "# Initialise grid\n",
    "grid = np.zeros((grid_len, grid_len), dtype=np.uint8)\n",
    "\n",
    "# Place obstacles\n",
    "while (grid==1).sum() < grid_len**2 * 0.3:\n",
    "    # Get random coordinates\n",
    "    x = np.random.randint(0, grid_len-1)\n",
    "    y = np.random.randint(0, grid_len-1)\n",
    "    if np.random.rand() < 0.7:\n",
    "        if np.random.rand() < 0.5:\n",
    "            grid[x, y:y+3] = 1\n",
    "        else:\n",
    "            grid[x:x+3, y] = 1\n",
    "    else:\n",
    "        grid[x:x+2, y:y+2] = 1\n",
    "\n",
    "# Clear spawning zones\n",
    "grid[0:3, 0:3] = 0\n",
    "grid[0:3, grid_len-3:] = 0\n",
    "grid[grid_len-3:, 0:3] = 0\n",
    "grid[grid_len-3:, grid_len-3:] = 0\n",
    "\n",
    "# Place flags\n",
    "flag_and_spawn_locations = [(1, 1), (1, grid_len-2), (grid_len-2, 1), (grid_len-2, grid_len-2)]\n",
    "flag_and_spawn_locations\n",
    "\n",
    "combinations = [\n",
    "    [0, 1, 2, 3], \n",
    "    [0, 1, 3, 2], \n",
    "    [1, 0, 2, 3], \n",
    "    [1, 0, 3, 2], \n",
    "    [0, 2, 1, 3],\n",
    "    [0, 2, 3, 1],\n",
    "    [2, 0, 1, 3],\n",
    "    [2, 0, 3, 1]\n",
    "]\n",
    "\n",
    "combo = np.random.choice(8)\n",
    "\n",
    "if np.random.rand() < 0.5:\n",
    "    t1_flag = flag_and_spawn_locations[combinations[combo][0]]\n",
    "    t1_spawn = flag_and_spawn_locations[combinations[combo][1]]\n",
    "    t2_flag = flag_and_spawn_locations[combinations[combo][2]]\n",
    "    t2_spawn = flag_and_spawn_locations[combinations[combo][3]]\n",
    "else:\n",
    "    t2_flag = flag_and_spawn_locations[combinations[combo][0]]\n",
    "    t2_spawn = flag_and_spawn_locations[combinations[combo][1]]\n",
    "    t1_flag = flag_and_spawn_locations[combinations[combo][2]]\n",
    "    t1_spawn = flag_and_spawn_locations[combinations[combo][3]]\n",
    "\n",
    "grid[t1_flag] = 10\n",
    "grid[t1_spawn] = 11\n",
    "grid[t2_flag] = 20\n",
    "grid[t2_spawn] = 22\n",
    "\n",
    "grid\n"
   ]
  },
  {
   "cell_type": "code",
   "execution_count": 319,
   "metadata": {},
   "outputs": [
    {
     "data": {
      "text/plain": [
       "74"
      ]
     },
     "execution_count": 319,
     "metadata": {},
     "output_type": "execute_result"
    }
   ],
   "source": [
    "(grid==0).sum()"
   ]
  },
  {
   "cell_type": "markdown",
   "metadata": {},
   "source": [
    "#### Agent config testing"
   ]
  },
  {
   "cell_type": "code",
   "execution_count": 354,
   "metadata": {},
   "outputs": [],
   "source": [
    "AGENT_CONFIG = {\n",
    "    0: {'team':0, 'type':0},\n",
    "    1: {'team':1, 'type':0},\n",
    "    2: {'team':0, 'type':1},\n",
    "    3: {'team':1, 'type':1},\n",
    "    4: {'team':0, 'type':2},\n",
    "    5: {'team':1, 'type':2}\n",
    "}"
   ]
  },
  {
   "cell_type": "code",
   "execution_count": 355,
   "metadata": {},
   "outputs": [
    {
     "data": {
      "text/plain": [
       "{0: 0, 1: 1, 2: 0, 3: 1, 4: 0, 5: 1}"
      ]
     },
     "execution_count": 355,
     "metadata": {},
     "output_type": "execute_result"
    }
   ],
   "source": [
    "{k:AGENT_CONFIG[k]['team'] for k in AGENT_CONFIG.keys()}"
   ]
  },
  {
   "cell_type": "code",
   "execution_count": 359,
   "metadata": {},
   "outputs": [
    {
     "data": {
      "text/plain": [
       "8"
      ]
     },
     "execution_count": 359,
     "metadata": {},
     "output_type": "execute_result"
    }
   ],
   "source": [
    "agent_idx = 1\n",
    "\n",
    "AGENT_TYPE_TILE_MAP = {\n",
    "    0: {0:5, 1:8},\n",
    "    1: {0:6, 1:9},\n",
    "    2: {0:7, 1:10},\n",
    "}\n",
    "\n",
    "AGENT_TYPE_TILE_MAP[AGENT_CONFIG[agent_idx]['type']][AGENT_CONFIG[agent_idx]['team']]"
   ]
  },
  {
   "cell_type": "code",
   "execution_count": 361,
   "metadata": {},
   "outputs": [
    {
     "data": {
      "text/plain": [
       "{0: 5, 1: 8, 2: 6, 3: 9, 4: 7, 5: 9}"
      ]
     },
     "execution_count": 361,
     "metadata": {},
     "output_type": "execute_result"
    }
   ],
   "source": [
    "{k:AGENT_TYPE_TILE_MAP[AGENT_CONFIG[k]['type']][AGENT_CONFIG[k]['team']] for k in AGENT_CONFIG.keys()}"
   ]
  },
  {
   "cell_type": "markdown",
   "metadata": {},
   "source": [
    "#### Conv layer dimensions"
   ]
  },
  {
   "cell_type": "code",
   "execution_count": 402,
   "metadata": {},
   "outputs": [
    {
     "name": "stdout",
     "output_type": "stream",
     "text": [
      "Conv 1 output dim: 4 x 4\n",
      "Conv 2 output dim: 2 x 2\n",
      "Conv 3 output dim: 1 x 1\n",
      "Conv 3 unrolled output shape: 12\n"
     ]
    }
   ],
   "source": [
    "grid_len = 6\n",
    "\n",
    "conv1_filter_size=3\n",
    "conv2_filter_size=3\n",
    "conv3_filter_size=2\n",
    "conv2_out_channels=12\n",
    "# W_1 = [(W_0 + 2P - F)/S] + 1\n",
    "\n",
    "dim1 = grid_len - conv1_filter_size + 1\n",
    "dim2 = dim1 - conv2_filter_size + 1\n",
    "dim3 = dim2 - conv3_filter_size + 1\n",
    "\n",
    "print(f'Conv 1 output dim: {dim1} x {dim1}')\n",
    "print(f'Conv 2 output dim: {dim2} x {dim2}')\n",
    "print(f'Conv 3 output dim: {dim3} x {dim3}')\n",
    "print(f'Conv 3 unrolled output shape: {conv2_out_channels * dim3 * dim3}')\n"
   ]
  },
  {
   "cell_type": "code",
   "execution_count": 405,
   "metadata": {},
   "outputs": [],
   "source": [
    "x = np.ones(10, dtype=np.int8)"
   ]
  },
  {
   "cell_type": "code",
   "execution_count": 410,
   "metadata": {},
   "outputs": [
    {
     "data": {
      "text/plain": [
       "array([0.5, 0.5, 0.5, 0.5, 0.5, 0.5, 0.5, 0.5, 0.5, 0.5], dtype=float16)"
      ]
     },
     "execution_count": 410,
     "metadata": {},
     "output_type": "execute_result"
    }
   ],
   "source": [
    "y = np.array(x / 2.0, dtype=np.float16) \n",
    "y"
   ]
  },
  {
   "cell_type": "code",
   "execution_count": 408,
   "metadata": {},
   "outputs": [
    {
     "data": {
      "text/plain": [
       "numpy.ndarray"
      ]
     },
     "execution_count": 408,
     "metadata": {},
     "output_type": "execute_result"
    }
   ],
   "source": [
    "type(y)"
   ]
  },
  {
   "cell_type": "code",
   "execution_count": 416,
   "metadata": {},
   "outputs": [
    {
     "data": {
      "text/plain": [
       "array([0.00921167])"
      ]
     },
     "execution_count": 416,
     "metadata": {},
     "output_type": "execute_result"
    }
   ],
   "source": [
    "np.random.rand(1)/100.0"
   ]
  },
  {
   "cell_type": "markdown",
   "metadata": {},
   "source": [
    "#### Pytorch - Understanding categorical distribution and probability ratio"
   ]
  },
  {
   "cell_type": "code",
   "execution_count": 469,
   "metadata": {},
   "outputs": [
    {
     "data": {
      "text/plain": [
       "tensor([[0.1000, 0.9000, 0.3000, 0.1000],\n",
       "        [0.9000, 0.6000, 0.3000, 0.2000]])"
      ]
     },
     "execution_count": 469,
     "metadata": {},
     "output_type": "execute_result"
    }
   ],
   "source": [
    "# Each row represents the action values taking 1 of 4 actions, as output from an actor network\n",
    "nn_output = torch.tensor([[0.1, 0.9, 0.3, 0.1],\n",
    "                          [0.9, 0.6, 0.3, 0.2]])\n",
    "nn_output\n"
   ]
  },
  {
   "cell_type": "code",
   "execution_count": 471,
   "metadata": {},
   "outputs": [
    {
     "data": {
      "text/plain": [
       "tensor([[0.1836, 0.4086, 0.2242, 0.1836],\n",
       "        [0.3589, 0.2659, 0.1970, 0.1782]])"
      ]
     },
     "execution_count": 471,
     "metadata": {},
     "output_type": "execute_result"
    }
   ],
   "source": [
    "# These outputs are then fed through a softmax function to produce probabilities\n",
    "sm = torch.softmax(nn_output, dim=1)\n",
    "sm"
   ]
  },
  {
   "cell_type": "code",
   "execution_count": 472,
   "metadata": {},
   "outputs": [
    {
     "name": "stdout",
     "output_type": "stream",
     "text": [
      "tensor(1.)\n",
      "tensor(1.)\n"
     ]
    }
   ],
   "source": [
    "# Checking that the probs sum to 1\n",
    "print(sm[0].sum())\n",
    "print(sm[1].sum())"
   ]
  },
  {
   "cell_type": "code",
   "execution_count": 473,
   "metadata": {},
   "outputs": [
    {
     "data": {
      "text/plain": [
       "tensor([2, 0])"
      ]
     },
     "execution_count": 473,
     "metadata": {},
     "output_type": "execute_result"
    }
   ],
   "source": [
    "# Sampling from the distribution\n",
    "dist = Categorical(sm)\n",
    "action = dist.sample()\n",
    "\n",
    "action"
   ]
  },
  {
   "cell_type": "code",
   "execution_count": 474,
   "metadata": {},
   "outputs": [
    {
     "data": {
      "text/plain": [
       "tensor([-1.6951, -1.3247])"
      ]
     },
     "execution_count": 474,
     "metadata": {},
     "output_type": "execute_result"
    }
   ],
   "source": [
    "# Given actions actually taken what are the probabilities of these actions using the latest output from the ann\n",
    "actions = torch.tensor([0, 1])\n",
    "\n",
    "new_probs = dist.log_prob(actions)\n",
    "new_probs"
   ]
  },
  {
   "cell_type": "code",
   "execution_count": 464,
   "metadata": {},
   "outputs": [
    {
     "data": {
      "text/plain": [
       "tensor([1.0509, 1.0435])"
      ]
     },
     "execution_count": 464,
     "metadata": {},
     "output_type": "execute_result"
    }
   ],
   "source": [
    "# Calculating the probability ratio\n",
    "old_probs = torch.tensor([-1.6, -1.3])\n",
    "prob_ratio = new_probs.exp() / old_probs.exp()\n",
    "prob_ratio"
   ]
  },
  {
   "cell_type": "markdown",
   "metadata": {},
   "source": [
    "#### Agent visitation map"
   ]
  },
  {
   "cell_type": "code",
   "execution_count": 11,
   "metadata": {},
   "outputs": [
    {
     "data": {
      "text/plain": [
       "defaultdict(<function __main__.<lambda>()>,\n",
       "            {0: array([[1, 0, 0, 0, 0],\n",
       "                    [0, 0, 0, 0, 0],\n",
       "                    [0, 0, 0, 0, 0],\n",
       "                    [0, 0, 0, 0, 0],\n",
       "                    [0, 0, 0, 0, 0]], dtype=uint8),\n",
       "             1: array([[0, 0, 0, 0, 0],\n",
       "                    [0, 1, 0, 0, 0],\n",
       "                    [0, 0, 0, 0, 0],\n",
       "                    [0, 0, 0, 0, 0],\n",
       "                    [0, 0, 0, 0, 0]], dtype=uint8),\n",
       "             2: array([[0, 0, 0, 0, 0],\n",
       "                    [0, 0, 0, 0, 0],\n",
       "                    [0, 0, 1, 0, 0],\n",
       "                    [0, 0, 0, 0, 0],\n",
       "                    [0, 0, 0, 0, 0]], dtype=uint8)})"
      ]
     },
     "execution_count": 11,
     "metadata": {},
     "output_type": "execute_result"
    }
   ],
   "source": [
    "grid_len = 5\n",
    "\n",
    "agent_positions = {\n",
    "    0: (0, 0),\n",
    "    1: (1, 1),\n",
    "    2: (2, 2)\n",
    "}\n",
    "\n",
    "metrics = {\n",
    "            \"agent_visitation_map\": defaultdict(lambda: np.zeros((grid_len, grid_len), dtype=np.uint8))\n",
    "        }\n",
    "\n",
    "for i in range(3):\n",
    "    metrics[\"agent_visitation_map\"][i][agent_positions[i][0], agent_positions[i][1]] += 1\n",
    "\n",
    "\n",
    "metrics[\"agent_visitation_map\"]"
   ]
  },
  {
   "cell_type": "markdown",
   "metadata": {},
   "source": [
    "#### Numpy concatting arrays"
   ]
  },
  {
   "cell_type": "code",
   "execution_count": 19,
   "metadata": {},
   "outputs": [
    {
     "name": "stdout",
     "output_type": "stream",
     "text": [
      "[1 2 3 4]\n",
      "[5 6 7 8]\n",
      "[9, 10, 11, 12]\n"
     ]
    }
   ],
   "source": [
    "arr1 = np.array([1, 2, 3, 4], dtype=np.uint8)\n",
    "arr2 = np.array([5, 6, 7, 8], dtype=np.uint8)\n",
    "arr3 = [9, 10, 11, 12]\n",
    "\n",
    "print(arr1)\n",
    "print(arr2)\n",
    "print(arr3)"
   ]
  },
  {
   "cell_type": "code",
   "execution_count": 23,
   "metadata": {},
   "outputs": [
    {
     "name": "stdout",
     "output_type": "stream",
     "text": [
      "[ 1  2  3  4  5  6  7  8  9 10 11 12]\n",
      "int32\n"
     ]
    }
   ],
   "source": [
    "arr4 = np.concatenate((arr1, arr2, arr3))\n",
    "\n",
    "print(arr4)\n",
    "print(arr4.dtype)"
   ]
  },
  {
   "cell_type": "markdown",
   "metadata": {},
   "source": [
    "#### One hot actions"
   ]
  },
  {
   "cell_type": "code",
   "execution_count": 37,
   "metadata": {},
   "outputs": [
    {
     "data": {
      "text/plain": [
       "array([1, 0, 0, 0, 0, 1, 0, 0, 0, 0, 1, 0, 0, 0, 0, 1], dtype=uint8)"
      ]
     },
     "execution_count": 37,
     "metadata": {},
     "output_type": "execute_result"
    }
   ],
   "source": [
    "N_AGENTS = 4\n",
    "N_ACTIONS = 4\n",
    "actions = [0, 1, 2, 3]\n",
    "\n",
    "one_hot_actions = np.zeros(N_AGENTS*N_ACTIONS, dtype=np.uint8)\n",
    "\n",
    "for i, action in enumerate(actions):\n",
    "    one_hot_actions[(i*4)+action] = 1\n",
    "\n",
    "one_hot_actions"
   ]
  },
  {
   "cell_type": "markdown",
   "metadata": {},
   "source": [
    "#### Abc"
   ]
  },
  {
   "cell_type": "code",
   "execution_count": 52,
   "metadata": {},
   "outputs": [
    {
     "data": {
      "text/plain": [
       "array([[[1, 1, 1, 1],\n",
       "        [1, 0, 1, 1],\n",
       "        [1, 1, 0, 1],\n",
       "        [1, 1, 1, 0]],\n",
       "\n",
       "       [[0, 0, 0, 0],\n",
       "        [0, 1, 0, 0],\n",
       "        [0, 0, 0, 0],\n",
       "        [0, 0, 0, 0]],\n",
       "\n",
       "       [[0, 0, 0, 0],\n",
       "        [0, 0, 0, 0],\n",
       "        [0, 0, 1, 0],\n",
       "        [0, 0, 0, 0]],\n",
       "\n",
       "       [[0, 0, 0, 0],\n",
       "        [0, 0, 0, 0],\n",
       "        [0, 0, 0, 0],\n",
       "        [0, 0, 0, 1]]], dtype=uint8)"
      ]
     },
     "execution_count": 52,
     "metadata": {},
     "output_type": "execute_result"
    }
   ],
   "source": [
    "grid = np.array([[0, 0, 0, 0],\n",
    "                 [0, 1, 0, 0],\n",
    "                 [0, 0, 2, 0], \n",
    "                 [0, 0, 0, 3]],dtype=np.uint8)\n",
    "\n",
    "multi_channel_grid = np.zeros((4, 4, 4), dtype=np.uint8)\n",
    "\n",
    "for i in range(4):\n",
    "    multi_channel_grid[i, :, :] = np.where(grid==i, 1, 0)\n",
    "\n",
    "multi_channel_grid"
   ]
  },
  {
   "cell_type": "code",
   "execution_count": 59,
   "metadata": {},
   "outputs": [
    {
     "data": {
      "text/plain": [
       "array([0.0038401 , 0.00951989, 0.0075542 , 0.00716921, 0.00478474,\n",
       "       0.00581268, 0.00287545, 0.0032242 , 0.00797832, 0.00928792],\n",
       "      dtype=float32)"
      ]
     },
     "execution_count": 59,
     "metadata": {},
     "output_type": "execute_result"
    }
   ],
   "source": [
    "np.random.rand((10)).astype(np.float32)/100.0"
   ]
  },
  {
   "cell_type": "code",
   "execution_count": 24,
   "metadata": {},
   "outputs": [
    {
     "data": {
      "text/plain": [
       "(1, 10)"
      ]
     },
     "execution_count": 24,
     "metadata": {},
     "output_type": "execute_result"
    }
   ],
   "source": [
    "x = np.random.rand(10)\n",
    "x = np.expand_dims(x, axis=0)\n",
    "x.shape"
   ]
  },
  {
   "cell_type": "code",
   "execution_count": 23,
   "metadata": {},
   "outputs": [
    {
     "data": {
      "text/plain": [
       "(1, 10, 2)"
      ]
     },
     "execution_count": 23,
     "metadata": {},
     "output_type": "execute_result"
    }
   ],
   "source": [
    "x = np.random.rand(10, 2)\n",
    "x = np.expand_dims(x, axis=0)\n",
    "x.shape"
   ]
  },
  {
   "cell_type": "markdown",
   "metadata": {},
   "source": [
    "#### Zip"
   ]
  },
  {
   "cell_type": "code",
   "execution_count": 2,
   "metadata": {},
   "outputs": [
    {
     "name": "stdout",
     "output_type": "stream",
     "text": [
      "(1, 5)\n",
      "(2, 6)\n",
      "(3, 7)\n",
      "(4, 8)\n"
     ]
    }
   ],
   "source": [
    "list_a = [1, 2, 3, 4]\n",
    "list_b = [5, 6, 7, 8]\n",
    "\n",
    "zipped = zip(list_a, list_b)\n",
    "\n",
    "for i in zipped:\n",
    "    print(i)\n"
   ]
  },
  {
   "cell_type": "code",
   "execution_count": 9,
   "metadata": {},
   "outputs": [
    {
     "name": "stdout",
     "output_type": "stream",
     "text": [
      "9\n",
      "8\n",
      "7\n",
      "6\n",
      "5\n",
      "4\n",
      "3\n",
      "2\n",
      "1\n",
      "0\n"
     ]
    }
   ],
   "source": [
    "for i in range(10 - 1, -1, -1):\n",
    "    print(i)"
   ]
  },
  {
   "cell_type": "markdown",
   "metadata": {},
   "source": [
    "#### Numpy arange vs range"
   ]
  },
  {
   "cell_type": "code",
   "execution_count": 18,
   "metadata": {},
   "outputs": [
    {
     "name": "stdout",
     "output_type": "stream",
     "text": [
      "1.8 µs ± 173 ns per loop (mean ± std. dev. of 7 runs, 100,000 loops each)\n"
     ]
    }
   ],
   "source": [
    "%%timeit\n",
    "for i in np.arange(4):\n",
    "    i = 0"
   ]
  },
  {
   "cell_type": "code",
   "execution_count": 17,
   "metadata": {},
   "outputs": [
    {
     "name": "stdout",
     "output_type": "stream",
     "text": [
      "282 ns ± 7.97 ns per loop (mean ± std. dev. of 7 runs, 1,000,000 loops each)\n"
     ]
    }
   ],
   "source": [
    "%%timeit\n",
    "for i in range(4):\n",
    "    i = 0"
   ]
  },
  {
   "cell_type": "markdown",
   "metadata": {},
   "source": [
    "### PyTorch Functions\n",
    "\n",
    "Functions to test\n",
    "- T.flatten(x1, 1)\n",
    "- .item() -> Returns the value of this tensor as a standard Python number. This only works for tensors with one element.\n",
    "- T.concat((x1, x2), dim=1)\n",
    "- T.cat([batch[i][2] for i in range(n)]).view(n, 1)\n",
    "- new_logits.gather(1, actions)\n",
    "- T.clip(ratios, 1 - margin, 1 + margin)\n",
    "- @T.no_grad()"
   ]
  },
  {
   "cell_type": "code",
   "execution_count": 117,
   "metadata": {},
   "outputs": [
    {
     "name": "stdout",
     "output_type": "stream",
     "text": [
      "array shape: torch.Size([5, 1])\n",
      "array: tensor([[2],\n",
      "        [3],\n",
      "        [7],\n",
      "        [9],\n",
      "        [4]], dtype=torch.int32)\n",
      "array[1]: tensor([3], dtype=torch.int32)\n",
      "array[1].item(): 3\n",
      "\n",
      "view(5): tensor([2, 3, 7, 9, 4], dtype=torch.int32)\n",
      "view(1, 5): tensor([[2, 3, 7, 9, 4]], dtype=torch.int32)\n",
      "view(5, 1): tensor([[2],\n",
      "        [3],\n",
      "        [7],\n",
      "        [9],\n",
      "        [4]], dtype=torch.int32)\n",
      "\n",
      "tensor([2, 3, 7, 9, 4], dtype=torch.int32)\n",
      "\n",
      "clip: (-2, 4)\n",
      "tensor([[2],\n",
      "        [3],\n",
      "        [4],\n",
      "        [4],\n",
      "        [4]], dtype=torch.int32)\n"
     ]
    }
   ],
   "source": [
    "arr = np.random.randint(0, 10, (5, 1))\n",
    "arr_pt = torch.from_numpy(arr)\n",
    "margin = 3\n",
    "\n",
    "# Print the array\n",
    "print('array shape:', arr_pt.shape)\n",
    "print('array:', arr_pt)\n",
    "print('array[1]:', arr_pt[1])\n",
    "print('array[1].item():', arr_pt[1].item())\n",
    "print()\n",
    "\n",
    "# view() reshapes the tensor without copying memory, similar to numpy's reshape()\n",
    "print('view(5):', arr_pt.view(5))\n",
    "print('view(1, 5):', arr_pt.view(1, 5))\n",
    "print('view(5, 1):', arr_pt.view(5, 1))\n",
    "print()\n",
    "\n",
    "# Flatten the array -> applicable to multi dimensional arrays\n",
    "print(torch.flatten(arr_pt, 0))\n",
    "print()\n",
    "\n",
    "# Clip function\n",
    "print(f'clip: {1 - margin, 1 + margin}\\n{torch.clip(arr_pt, 1 - margin, 1 + margin)}')"
   ]
  },
  {
   "cell_type": "code",
   "execution_count": 142,
   "metadata": {},
   "outputs": [
    {
     "name": "stdout",
     "output_type": "stream",
     "text": [
      "tensor([[7],\n",
      "        [1],\n",
      "        [3]], dtype=torch.int32)\n",
      "tensor([[7],\n",
      "        [1],\n",
      "        [7]], dtype=torch.int32)\n",
      "tensor([[4],\n",
      "        [4],\n",
      "        [1]], dtype=torch.int32)\n",
      "\n",
      "tensor([1, 1, 4], dtype=torch.int32) \n",
      "\n",
      "tensor([[1],\n",
      "        [1],\n",
      "        [4]], dtype=torch.int32)\n"
     ]
    }
   ],
   "source": [
    "memory = []\n",
    "for i in range(3):\n",
    "        arr = np.random.randint(0, 10, (3, 1))\n",
    "        arr_pt = torch.from_numpy(arr)\n",
    "        memory.append(arr_pt)\n",
    "\n",
    "# Creating a new array with cat method using the second element of each array\n",
    "memory_cat = torch.cat([x[1] for x in memory])\n",
    "memory_cat_vw = torch.cat([x[1] for x in memory]).view(3, 1)\n",
    "\n",
    "# Print memory arrays\n",
    "[print(x) for x in memory]\n",
    "print()\n",
    "print(memory_cat, '\\n')\n",
    "print(memory_cat_vw)"
   ]
  },
  {
   "cell_type": "code",
   "execution_count": 113,
   "metadata": {},
   "outputs": [
    {
     "name": "stdout",
     "output_type": "stream",
     "text": [
      "tensor([[4],\n",
      "        [3],\n",
      "        [4],\n",
      "        [2],\n",
      "        [0]])\n",
      "tensor([[0.6078, 0.8323, 0.3560, 0.0376, 0.7533],\n",
      "        [0.8106, 0.4298, 0.0742, 0.4327, 0.0456],\n",
      "        [0.6012, 0.8980, 0.1531, 0.4349, 0.6543],\n",
      "        [0.4689, 0.0735, 0.7088, 0.5862, 0.1632],\n",
      "        [0.5960, 0.9476, 0.7934, 0.7507, 0.3064]])\n",
      "tensor([[0.7533],\n",
      "        [0.4327],\n",
      "        [0.6543],\n",
      "        [0.7088],\n",
      "        [0.5960]])\n"
     ]
    }
   ],
   "source": [
    "# Testing gather function\n",
    "actions = torch.randint(5, (5, 1))\n",
    "probs = torch.rand(5, 5)\n",
    "gather_test = probs.gather(1, actions)\n",
    "\n",
    "print(actions)\n",
    "print(probs)\n",
    "print(gather_test)"
   ]
  },
  {
   "cell_type": "markdown",
   "metadata": {},
   "source": [
    "#### Pytorch concat"
   ]
  },
  {
   "cell_type": "code",
   "execution_count": 176,
   "metadata": {},
   "outputs": [
    {
     "name": "stdout",
     "output_type": "stream",
     "text": [
      "Concat square tensors with the same shape\n",
      "tensor([[1, 1, 2],\n",
      "        [3, 1, 7],\n",
      "        [5, 4, 4]])\n",
      "tensor([[4, 9, 0],\n",
      "        [3, 9, 0],\n",
      "        [4, 3, 4]])\n",
      "\n",
      "Concat dim=0: \n",
      "tensor([[1, 1, 2],\n",
      "        [3, 1, 7],\n",
      "        [5, 4, 4],\n",
      "        [4, 9, 0],\n",
      "        [3, 9, 0],\n",
      "        [4, 3, 4]])\n",
      "Concat dim=1: \n",
      "tensor([[1, 1, 2, 4, 9, 0],\n",
      "        [3, 1, 7, 3, 9, 0],\n",
      "        [5, 4, 4, 4, 3, 4]])\n",
      "\n",
      "Concat tensors with different shapes\n",
      "tensor([[3, 1, 3],\n",
      "        [9, 6, 1],\n",
      "        [4, 1, 4],\n",
      "        [2, 9, 9]])\n",
      "tensor([[8, 3, 6],\n",
      "        [9, 6, 7],\n",
      "        [9, 0, 5]])\n",
      "\n",
      "Concat dim=0: \n",
      "tensor([[3, 1, 3],\n",
      "        [9, 6, 1],\n",
      "        [4, 1, 4],\n",
      "        [2, 9, 9],\n",
      "        [8, 3, 6],\n",
      "        [9, 6, 7],\n",
      "        [9, 0, 5]])\n",
      "Concat dim=1 (using view): \n",
      "tensor([[3, 1, 3, 9, 8, 3, 6],\n",
      "        [6, 1, 4, 1, 9, 6, 7],\n",
      "        [4, 2, 9, 9, 9, 0, 5]])\n",
      "\n"
     ]
    }
   ],
   "source": [
    "# Testing concat\n",
    "print('Concat square tensors with the same shape')\n",
    "arr1 = torch.randint(10, (3, 3))\n",
    "arr2 = torch.randint(10, (3, 3))\n",
    "\n",
    "print(arr1)\n",
    "print(arr2)\n",
    "print()\n",
    "print(f'Concat dim=0: \\n{torch.concat((arr1, arr2), dim=0)}')\n",
    "print(f'Concat dim=1: \\n{torch.concat((arr1, arr2), dim=1)}\\n')\n",
    "\n",
    "print('Concat tensors with different shapes')\n",
    "arr1 = torch.randint(10, (4, 3))\n",
    "arr2 = torch.randint(10, (3, 3))\n",
    "\n",
    "print(arr1)\n",
    "print(arr2)\n",
    "print()\n",
    "print(f'Concat dim=0: \\n{torch.concat((arr1, arr2), dim=0)}')\n",
    "print(f'Concat dim=1 (using view): \\n{torch.concat((arr1.view(3, 4), arr2), dim=1)}\\n')"
   ]
  },
  {
   "cell_type": "code",
   "execution_count": 158,
   "metadata": {},
   "outputs": [
    {
     "name": "stdout",
     "output_type": "stream",
     "text": [
      "tensor([[ 0.5635, -0.1851,  0.4630],\n",
      "        [-2.1659,  0.5167,  0.7641]])\n",
      "tensor([[0.4206, 0.1990, 0.3804],\n",
      "        [0.0291, 0.4257, 0.5452]])\n",
      "tensor([1., 1.])\n"
     ]
    }
   ],
   "source": [
    "# Spftmax\n",
    "m = nn.Softmax(dim=1)\n",
    "input = torch.randn(2, 3)\n",
    "output = m(input)\n",
    "\n",
    "print(input)\n",
    "print(output)\n",
    "\n",
    "print(output.sum(dim=1))"
   ]
  },
  {
   "cell_type": "markdown",
   "metadata": {},
   "source": [
    "#### Simple linear regression example"
   ]
  },
  {
   "cell_type": "code",
   "execution_count": 220,
   "metadata": {},
   "outputs": [
    {
     "name": "stdout",
     "output_type": "stream",
     "text": [
      "torch.Size([10, 1])\n",
      "tensor([[3.],\n",
      "        [8.],\n",
      "        [3.],\n",
      "        [5.],\n",
      "        [2.],\n",
      "        [8.],\n",
      "        [1.],\n",
      "        [8.],\n",
      "        [8.],\n",
      "        [3.]]) tensor([[ 7.9551],\n",
      "        [17.4092],\n",
      "        [ 8.3963],\n",
      "        [11.9480],\n",
      "        [ 5.3690],\n",
      "        [15.6795],\n",
      "        [ 3.3452],\n",
      "        [16.3815],\n",
      "        [17.0166],\n",
      "        [ 6.8921]])\n"
     ]
    }
   ],
   "source": [
    "def data_generator(n=10):\n",
    "    w1 = 1\n",
    "    w2 = 2\n",
    "\n",
    "    x = torch.randint(10, (n, 1), dtype=torch.float32)\n",
    "\n",
    "    y = w1 + w2 * x + torch.randn((n, 1), dtype=torch.float32)\n",
    "\n",
    "    return x, y\n",
    "\n",
    "x, y = data_generator()\n",
    "\n",
    "print(x.shape)\n",
    "print(x, y)"
   ]
  },
  {
   "cell_type": "code",
   "execution_count": 221,
   "metadata": {},
   "outputs": [
    {
     "name": "stdout",
     "output_type": "stream",
     "text": [
      "epoch 1, loss 218.283203125\n",
      "epoch 51, loss 135.5340576171875\n",
      "epoch 101, loss 78.82185363769531\n",
      "epoch 151, loss 42.983604431152344\n",
      "epoch 201, loss 22.000343322753906\n",
      "epoch 251, loss 10.713483810424805\n",
      "epoch 301, loss 5.172562599182129\n",
      "epoch 351, loss 2.6990091800689697\n",
      "epoch 401, loss 1.6949329376220703\n",
      "epoch 451, loss 1.3221454620361328\n",
      "epoch 501, loss 1.1927944421768188\n",
      "epoch 551, loss 1.1478227376937866\n",
      "epoch 601, loss 1.129150152206421\n",
      "epoch 651, loss 1.117835283279419\n",
      "epoch 701, loss 1.1083611249923706\n",
      "epoch 751, loss 1.0993118286132812\n",
      "epoch 801, loss 1.0903819799423218\n",
      "epoch 851, loss 1.0815378427505493\n",
      "epoch 901, loss 1.072801947593689\n",
      "epoch 951, loss 1.064204454421997\n"
     ]
    },
    {
     "data": {
      "image/png": "[encoded data removed]",
      "text/plain": [
       "<Figure size 640x480 with 1 Axes>"
      ]
     },
     "metadata": {},
     "output_type": "display_data"
    }
   ],
   "source": [
    "class LinearRegression(torch.nn.Module):\n",
    "    def __init__(self, \n",
    "                 input_n=1, \n",
    "                 output_n=1,\n",
    "                 lr=0.01):\n",
    "        super(LinearRegression, self).__init__()\n",
    "        self.linear = torch.nn.Linear(input_n, output_n)\n",
    "        self.optimizer = Adam(self.parameters(), lr=lr)\n",
    "\n",
    "    def forward(self, x):\n",
    "        out = self.linear(x)\n",
    "        return out\n",
    "\n",
    "    def train(self, x, y, epochs=1000):\n",
    "        losses = []\n",
    "        for i, epoch in enumerate(range(epochs)):\n",
    "            epoch += 1\n",
    "\n",
    "            # Clear gradients w.r.t. parameters\n",
    "            self.optimizer.zero_grad() \n",
    "\n",
    "            # Forward to get output\n",
    "            y_pred = self.forward(x_train)\n",
    "\n",
    "            # Calculate Loss\n",
    "            loss = torch.mean((y_train - y_pred)**2)\n",
    "\n",
    "            losses.append(loss.detach().numpy())\n",
    "\n",
    "            # Getting gradients w.r.t. parameters\n",
    "            loss.backward()\n",
    "\n",
    "            # Updating parameters\n",
    "            self.optimizer.step()\n",
    "\n",
    "            if i%50==0:\n",
    "                print('epoch {}, loss {}'.format(epoch, loss.item()))\n",
    "\n",
    "        return losses\n",
    "\n",
    "# Create training data\n",
    "x_train, y_train = data_generator()\n",
    "\n",
    "lr = LinearRegression()\n",
    "losses = lr.train(x_train, y_train)\n",
    "\n",
    "# Plot losses\n",
    "plt.title('Losses over training iterations')\n",
    "plt.plot(losses)\n",
    "plt.show()\n"
   ]
  },
  {
   "cell_type": "markdown",
   "metadata": {},
   "source": [
    "#### Test nograd on model trained in previous section"
   ]
  },
  {
   "cell_type": "code",
   "execution_count": 210,
   "metadata": {},
   "outputs": [],
   "source": [
    "def inference(n=1000):\n",
    "    x_train, y_train = data_generator(n=n)\n",
    "    y_pred = lr(x_train)\n",
    "\n",
    "@torch.no_grad()\n",
    "def inference_nograd(n=1000):\n",
    "    x_train, y_train = data_generator(n=n)\n",
    "    y_pred = lr(x_train)"
   ]
  },
  {
   "cell_type": "code",
   "execution_count": 214,
   "metadata": {},
   "outputs": [
    {
     "name": "stdout",
     "output_type": "stream",
     "text": [
      "146 µs ± 26.4 µs per loop (mean ± std. dev. of 7 runs, 1,000 loops each)\n"
     ]
    }
   ],
   "source": [
    "%%timeit\n",
    "inference()"
   ]
  },
  {
   "cell_type": "code",
   "execution_count": 213,
   "metadata": {},
   "outputs": [
    {
     "name": "stdout",
     "output_type": "stream",
     "text": [
      "109 µs ± 4.25 µs per loop (mean ± std. dev. of 7 runs, 10,000 loops each)\n"
     ]
    }
   ],
   "source": [
    "%%timeit\n",
    "inference_nograd()"
   ]
  },
  {
   "cell_type": "markdown",
   "metadata": {},
   "source": [
    "#### Investigating how PyTorch accumulates gradients"
   ]
  },
  {
   "cell_type": "code",
   "execution_count": 228,
   "metadata": {},
   "outputs": [
    {
     "name": "stdout",
     "output_type": "stream",
     "text": [
      "x: tensor(2., requires_grad=True)\n",
      "y: tensor(9., grad_fn=<AddBackward0>)\n",
      "x.grad first pass: tensor(12.)\n",
      "x.grad second pass: tensor(24.)\n",
      "x.grad third pass: tensor(36.)\n"
     ]
    }
   ],
   "source": [
    "# create tensors with requires_grad = true\n",
    "x = torch.tensor(2.0, requires_grad = True)\n",
    "\n",
    "# print the tensor\n",
    "print(\"x:\", x)\n",
    "\n",
    "# define a function y for the tensor, x\n",
    "y = x**3 + 1\n",
    "print(\"y:\", y)\n",
    "\n",
    "# First backward pass\n",
    "# Compute gradients using backward function for y\n",
    "y.backward(retain_graph=True)\n",
    "\n",
    "# Access the gradients using x.grad\n",
    "dx = x.grad\n",
    "print(\"x.grad first pass:\", dx)\n",
    "\n",
    "# Second backward pass\n",
    "y.backward(retain_graph=True)\n",
    "\n",
    "# Access the gradients using x.grad\n",
    "dx = x.grad\n",
    "print(\"x.grad second pass:\", dx)\n",
    "\n",
    "# Third backward pass\n",
    "y.backward()\n",
    "\n",
    "# Access the gradients using x.grad\n",
    "dx = x.grad\n",
    "print(\"x.grad third pass:\", dx)\n"
   ]
  },
  {
   "cell_type": "markdown",
   "metadata": {},
   "source": [
    "#### Pytorch random numbers vs Numpy then converting to Pytorch"
   ]
  },
  {
   "cell_type": "code",
   "execution_count": 139,
   "metadata": {},
   "outputs": [
    {
     "name": "stdout",
     "output_type": "stream",
     "text": [
      "26 µs ± 4.13 µs per loop (mean ± std. dev. of 7 runs, 10,000 loops each)\n"
     ]
    }
   ],
   "source": [
    "%%timeit\n",
    "arr = np.random.randint(0, 10, (3, 3))\n",
    "arr_pt = torch.from_numpy(arr)"
   ]
  },
  {
   "cell_type": "code",
   "execution_count": 141,
   "metadata": {},
   "outputs": [
    {
     "name": "stdout",
     "output_type": "stream",
     "text": [
      "6.13 µs ± 320 ns per loop (mean ± std. dev. of 7 runs, 100,000 loops each)\n"
     ]
    }
   ],
   "source": [
    "%%timeit\n",
    "arr_pt = torch.randint(10, (3, 3))"
   ]
  },
  {
   "cell_type": "markdown",
   "metadata": {},
   "source": []
  }
 ],
 "metadata": {
  "kernelspec": {
   "display_name": "Python 3.10.8 ('torch-env')",
   "language": "python",
   "name": "python3"
  },
  "language_info": {
   "codemirror_mode": {
    "name": "ipython",
    "version": 3
   },
   "file_extension": ".py",
   "mimetype": "text/x-python",
   "name": "python",
   "nbconvert_exporter": "python",
   "pygments_lexer": "ipython3",
   "version": "3.10.8"
  },
  "orig_nbformat": 4,
  "vscode": {
   "interpreter": {
    "hash": "8cd690e671e1ea295c2072b349b255c40ccf2d1e4972d8ea9053035da215f2ef"
   }
  }
 },
 "nbformat": 4,
 "nbformat_minor": 2
}
