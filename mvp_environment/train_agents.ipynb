{
 "cells": [
  {
   "attachments": {},
   "cell_type": "markdown",
   "metadata": {},
   "source": [
    "# League Training\n"
   ]
  },
  {
   "cell_type": "code",
   "execution_count": 1,
   "metadata": {},
   "outputs": [
    {
     "name": "stdout",
     "output_type": "stream",
     "text": [
      "8\n"
     ]
    }
   ],
   "source": [
    "from league_training import LeagueTrainer\n",
    "from utils import duel, create_gif, create_plots, plot_heatmaps\n",
    "from scenarios import CtfScenarios as scn\n",
    "import torch\n",
    "\n",
    "# torch.set_num_threads(torch.get_num_threads())\n",
    "print(torch.get_num_threads())"
   ]
  },
  {
   "attachments": {},
   "cell_type": "markdown",
   "metadata": {},
   "source": [
    "### 1. Load config"
   ]
  },
  {
   "cell_type": "code",
   "execution_count": 2,
   "metadata": {},
   "outputs": [],
   "source": [
    "class TrainingConfig():\n",
    "    def __init__(self):\n",
    "        #---------- Overall config\n",
    "        self.wandb_project_name = \"MARL-CTF-Test\"\n",
    "        self.exp_name = \"2_jailbreak\"\n",
    "        self.use_wandb_selfplay = False\n",
    "        self.use_wandb_ppo = False\n",
    "        self.seed = 42\n",
    "        self.checkpoint_frequency = 10\n",
    "        self.number_of_metaruns = 3\n",
    "\n",
    "        #---------- Self-play config\n",
    "        self.number_of_iterations = 20\n",
    "        self.number_of_duels = 30\n",
    "        self.min_learning_rounds = 1\n",
    "        self.n_main_agents = 1\n",
    "        self.n_coaching_agents = 0\n",
    "        self.n_league_agents = 0\n",
    "        self.n_historical_agents = 0\n",
    "        self.min_agent_winrate = 0.4\n",
    "        self.min_historical_agent_winrate = 0.0\n",
    "        self.min_agent_winrate_for_promotion = 0.6\n",
    "        self.min_agent_iterations_for_replacement = 2\n",
    "        self.inference_interval = 1\n",
    "        self.historical_update_interval = 5\n",
    "\n",
    "        #---------- Environment config\n",
    "        self.env_config = {\n",
    "            'GRID_SIZE':11,\n",
    "            'AGENT_CONFIG':{\n",
    "                0: {'team':0, 'type':3},\n",
    "                1: {'team':1, 'type':0},\n",
    "                2: {'team':0, 'type':0},\n",
    "                3: {'team':1, 'type':0},\n",
    "                # 4: {'team':0, 'type':2},\n",
    "                # 5: {'team':1, 'type':2},\n",
    "            },\n",
    "            'SCENARIO': scn.jailbreak,\n",
    "            'GAME_STEPS': 500,\n",
    "            'USE_ADJUSTED_REWARDS': True,\n",
    "            'MAP_SYMMETRY_CHECK': False\n",
    "        }\n",
    "\n",
    "        #---------- PPO Config\n",
    "        self.n_actions = 9\n",
    "        self.learning_rate = 0.0003\n",
    "        self.total_timesteps = 12500\n",
    "        self.torch_deterministic = True\n",
    "        self.cuda = True\n",
    "        self.wandb_entity = None\n",
    "        self.parallel_rollouts = True\n",
    "        self.num_envs = 8\n",
    "        self.num_steps = 500\n",
    "        self.anneal_lr = False\n",
    "        self.gae = True\n",
    "        self.gamma = 0.999\n",
    "        self.gae_lambda = 0.95\n",
    "        self.num_minibatches = 4\n",
    "        self.update_epochs = 4\n",
    "        self.norm_adv = False\n",
    "        self.clip_coef = 0.2\n",
    "        self.clip_vloss = True\n",
    "        self.ent_coef = 0.01\n",
    "        self.vf_coef = 0.5\n",
    "        self.max_grad_norm = 0.5\n",
    "        self.target_kl = None\n",
    "        self.device = 'cpu'\n",
    "\n",
    "args = TrainingConfig()"
   ]
  },
  {
   "attachments": {},
   "cell_type": "markdown",
   "metadata": {},
   "source": [
    "### 2. Train agents"
   ]
  },
  {
   "cell_type": "code",
   "execution_count": 3,
   "metadata": {},
   "outputs": [
    {
     "name": "stderr",
     "output_type": "stream",
     "text": [
      "2023-07-12 19:48:01,347\tINFO worker.py:1625 -- Started a local Ray instance.\n"
     ]
    },
    {
     "name": "stdout",
     "output_type": "stream",
     "text": [
      "Iteration: 0 Training agents...\n",
      "Teams are not symmetric - two leagues will be trained\n",
      "Iteration: 0 Team: 0 Training main agent 0 vs main agent 0\n",
      "Batch size: 8000\n",
      "Minibatch size: 2000\n"
     ]
    },
    {
     "ename": "RuntimeError",
     "evalue": "writeFileRaw: Device not recognized: mps",
     "output_type": "error",
     "traceback": [
      "\u001b[0;31m---------------------------------------------------------------------------\u001b[0m",
      "\u001b[0;31mRuntimeError\u001b[0m                              Traceback (most recent call last)",
      "\u001b[1;32m/Users/geoffrey.nightingale@contino.io/Documents/code/marl-ctf-development/mvp_environment/train_agents.ipynb Cell 6\u001b[0m in \u001b[0;36m3\n\u001b[1;32m      <a href='vscode-notebook-cell:/Users/geoffrey.nightingale%40contino.io/Documents/code/marl-ctf-development/mvp_environment/train_agents.ipynb#W5sZmlsZQ%3D%3D?line=0'>1</a>\u001b[0m \u001b[39m# 16min 11s\u001b[39;00m\n\u001b[1;32m      <a href='vscode-notebook-cell:/Users/geoffrey.nightingale%40contino.io/Documents/code/marl-ctf-development/mvp_environment/train_agents.ipynb#W5sZmlsZQ%3D%3D?line=1'>2</a>\u001b[0m league_trainer \u001b[39m=\u001b[39m LeagueTrainer(args)\n\u001b[0;32m----> <a href='vscode-notebook-cell:/Users/geoffrey.nightingale%40contino.io/Documents/code/marl-ctf-development/mvp_environment/train_agents.ipynb#W5sZmlsZQ%3D%3D?line=2'>3</a>\u001b[0m league_trainer\u001b[39m.\u001b[39;49mtrain_league()\n",
      "File \u001b[0;32m~/Documents/code/marl-ctf-development/mvp_environment/league_training.py:706\u001b[0m, in \u001b[0;36mLeagueTrainer.train_league\u001b[0;34m(self)\u001b[0m\n\u001b[1;32m    704\u001b[0m     \u001b[39mself\u001b[39m\u001b[39m.\u001b[39mtrain_all_agents_symmetric(iteration)\n\u001b[1;32m    705\u001b[0m \u001b[39melse\u001b[39;00m:\n\u001b[0;32m--> 706\u001b[0m     \u001b[39mself\u001b[39;49m\u001b[39m.\u001b[39;49mtrain_all_agents_non_symmetric(iteration)\n\u001b[1;32m    708\u001b[0m end_time \u001b[39m=\u001b[39m time\u001b[39m.\u001b[39mperf_counter()\n\u001b[1;32m    709\u001b[0m elapsed_time \u001b[39m=\u001b[39m end_time \u001b[39m-\u001b[39m start_time\n",
      "File \u001b[0;32m~/Documents/code/marl-ctf-development/mvp_environment/league_training.py:286\u001b[0m, in \u001b[0;36mLeagueTrainer.train_all_agents_non_symmetric\u001b[0;34m(self, iteration)\u001b[0m\n\u001b[1;32m    283\u001b[0m \u001b[39mself\u001b[39m\u001b[39m.\u001b[39mleague_agents_t2_prev \u001b[39m=\u001b[39m [copy\u001b[39m.\u001b[39mdeepcopy(model) \u001b[39mfor\u001b[39;00m model \u001b[39min\u001b[39;00m \u001b[39mself\u001b[39m\u001b[39m.\u001b[39mleague_agents_t2]\n\u001b[1;32m    285\u001b[0m \u001b[39m# Train main agents\u001b[39;00m\n\u001b[0;32m--> 286\u001b[0m \u001b[39mself\u001b[39;49m\u001b[39m.\u001b[39;49mtrain_agent(iteration, \n\u001b[1;32m    287\u001b[0m                 \u001b[39mself\u001b[39;49m\u001b[39m.\u001b[39;49mmain_agents_t1, \n\u001b[1;32m    288\u001b[0m                 \u001b[39mself\u001b[39;49m\u001b[39m.\u001b[39;49mmain_agents_t1_counter, \n\u001b[1;32m    289\u001b[0m                 \u001b[39m'\u001b[39;49m\u001b[39mmain\u001b[39;49m\u001b[39m'\u001b[39;49m, \n\u001b[1;32m    290\u001b[0m                 \u001b[39mself\u001b[39;49m\u001b[39m.\u001b[39;49mmain_agents_t2,\n\u001b[1;32m    291\u001b[0m                 \u001b[39mself\u001b[39;49m\u001b[39m.\u001b[39;49mcoaching_agents_t2,\n\u001b[1;32m    292\u001b[0m                 \u001b[39mself\u001b[39;49m\u001b[39m.\u001b[39;49mleague_agents_t2,\n\u001b[1;32m    293\u001b[0m                 \u001b[39mself\u001b[39;49m\u001b[39m.\u001b[39;49mhistorical_agents_t2,\n\u001b[1;32m    294\u001b[0m                 \u001b[39mself\u001b[39;49m\u001b[39m.\u001b[39;49mmain_agents_t2_prev,\n\u001b[1;32m    295\u001b[0m                 \u001b[39mself\u001b[39;49m\u001b[39m.\u001b[39;49mcoaching_agents_t2_prev,\n\u001b[1;32m    296\u001b[0m                 \u001b[39mself\u001b[39;49m\u001b[39m.\u001b[39;49mleague_agents_t2_prev, \n\u001b[1;32m    297\u001b[0m                 train_team1\u001b[39m=\u001b[39;49m\u001b[39mTrue\u001b[39;49;00m)\n\u001b[1;32m    299\u001b[0m \u001b[39mself\u001b[39m\u001b[39m.\u001b[39mtrain_agent(iteration, \n\u001b[1;32m    300\u001b[0m                 \u001b[39mself\u001b[39m\u001b[39m.\u001b[39mmain_agents_t2, \n\u001b[1;32m    301\u001b[0m                 \u001b[39mself\u001b[39m\u001b[39m.\u001b[39mmain_agents_t2_counter, \n\u001b[0;32m   (...)\u001b[0m\n\u001b[1;32m    309\u001b[0m                 \u001b[39mself\u001b[39m\u001b[39m.\u001b[39mleague_agents_t1_prev, \n\u001b[1;32m    310\u001b[0m                 train_team1\u001b[39m=\u001b[39m\u001b[39mFalse\u001b[39;00m)\n\u001b[1;32m    312\u001b[0m \u001b[39m# Train coaching agents\u001b[39;00m\n",
      "File \u001b[0;32m~/Documents/code/marl-ctf-development/mvp_environment/league_training.py:216\u001b[0m, in \u001b[0;36mLeagueTrainer.train_agent\u001b[0;34m(self, iteration, agent_pool, agent_counter, agent_type, main_agents, coaching_agents, league_agents, historical_agents, main_agents_prev, coaching_agents_prev, league_agents_prev, train_team1)\u001b[0m\n\u001b[1;32m    213\u001b[0m \u001b[39mprint\u001b[39m(\u001b[39mf\u001b[39m\u001b[39m'\u001b[39m\u001b[39mIteration: \u001b[39m\u001b[39m{\u001b[39;00miteration\u001b[39m}\u001b[39;00m\u001b[39m Team: \u001b[39m\u001b[39m{\u001b[39;00mteam_idx\u001b[39m}\u001b[39;00m\u001b[39m Training \u001b[39m\u001b[39m{\u001b[39;00magent_type\u001b[39m}\u001b[39;00m\u001b[39m agent \u001b[39m\u001b[39m{\u001b[39;00magent_idx\u001b[39m}\u001b[39;00m\u001b[39m vs \u001b[39m\u001b[39m{\u001b[39;00mopponent_type\u001b[39m}\u001b[39;00m\u001b[39m agent \u001b[39m\u001b[39m{\u001b[39;00mopponent_idx\u001b[39m}\u001b[39;00m\u001b[39m'\u001b[39m)\n\u001b[1;32m    215\u001b[0m \u001b[39m# Train PPO\u001b[39;00m\n\u001b[0;32m--> 216\u001b[0m total_rewards \u001b[39m=\u001b[39m \u001b[39mself\u001b[39;49m\u001b[39m.\u001b[39;49mppotrainer\u001b[39m.\u001b[39;49mtrain_ppo(\u001b[39mself\u001b[39;49m\u001b[39m.\u001b[39;49margs, \u001b[39mself\u001b[39;49m\u001b[39m.\u001b[39;49menv, agent, opponent, train_team1\u001b[39m=\u001b[39;49mtrain_team1)\n\u001b[1;32m    217\u001b[0m clear_output()\n\u001b[1;32m    219\u001b[0m \u001b[39m# Store rewards\u001b[39;00m\n",
      "File \u001b[0;32m~/Documents/code/marl-ctf-development/mvp_environment/ppo.py:355\u001b[0m, in \u001b[0;36mPPOTrainer.train_ppo\u001b[0;34m(self, args, env, agent, opponent, train_team1, verbose)\u001b[0m\n\u001b[1;32m    352\u001b[0m \u001b[39m# Use apply_async to run the 'get_rollout' method in parallel\u001b[39;00m\n\u001b[1;32m    353\u001b[0m \u001b[39mfor\u001b[39;00m _ \u001b[39min\u001b[39;00m \u001b[39mrange\u001b[39m(\u001b[39mself\u001b[39m\u001b[39m.\u001b[39margs\u001b[39m.\u001b[39mnum_envs):\n\u001b[1;32m    354\u001b[0m     \u001b[39m# opponent = self.get_random_opponent(opponents)\u001b[39;00m\n\u001b[0;32m--> 355\u001b[0m     async_result \u001b[39m=\u001b[39m ray_rollout\u001b[39m.\u001b[39;49mremote(env, agent, opponent)\n\u001b[1;32m    356\u001b[0m     async_results\u001b[39m.\u001b[39mappend(async_result)\n\u001b[1;32m    358\u001b[0m \u001b[39m# Collect the results\u001b[39;00m\n",
      "File \u001b[0;32m~/opt/anaconda3/envs/torch-env/lib/python3.9/site-packages/ray/remote_function.py:128\u001b[0m, in \u001b[0;36mRemoteFunction.__init__.<locals>._remote_proxy\u001b[0;34m(*args, **kwargs)\u001b[0m\n\u001b[1;32m    126\u001b[0m \u001b[39m@wraps\u001b[39m(function)\n\u001b[1;32m    127\u001b[0m \u001b[39mdef\u001b[39;00m \u001b[39m_remote_proxy\u001b[39m(\u001b[39m*\u001b[39margs, \u001b[39m*\u001b[39m\u001b[39m*\u001b[39mkwargs):\n\u001b[0;32m--> 128\u001b[0m     \u001b[39mreturn\u001b[39;00m \u001b[39mself\u001b[39;49m\u001b[39m.\u001b[39;49m_remote(args\u001b[39m=\u001b[39;49margs, kwargs\u001b[39m=\u001b[39;49mkwargs, \u001b[39m*\u001b[39;49m\u001b[39m*\u001b[39;49m\u001b[39mself\u001b[39;49m\u001b[39m.\u001b[39;49m_default_options)\n",
      "File \u001b[0;32m~/opt/anaconda3/envs/torch-env/lib/python3.9/site-packages/ray/util/tracing/tracing_helper.py:301\u001b[0m, in \u001b[0;36m_tracing_task_invocation.<locals>._invocation_remote_span\u001b[0;34m(self, args, kwargs, *_args, **_kwargs)\u001b[0m\n\u001b[1;32m    299\u001b[0m     \u001b[39mif\u001b[39;00m kwargs \u001b[39mis\u001b[39;00m \u001b[39mnot\u001b[39;00m \u001b[39mNone\u001b[39;00m:\n\u001b[1;32m    300\u001b[0m         \u001b[39massert\u001b[39;00m \u001b[39m\"\u001b[39m\u001b[39m_ray_trace_ctx\u001b[39m\u001b[39m\"\u001b[39m \u001b[39mnot\u001b[39;00m \u001b[39min\u001b[39;00m kwargs\n\u001b[0;32m--> 301\u001b[0m     \u001b[39mreturn\u001b[39;00m method(\u001b[39mself\u001b[39;49m, args, kwargs, \u001b[39m*\u001b[39;49m_args, \u001b[39m*\u001b[39;49m\u001b[39m*\u001b[39;49m_kwargs)\n\u001b[1;32m    303\u001b[0m \u001b[39massert\u001b[39;00m \u001b[39m\"\u001b[39m\u001b[39m_ray_trace_ctx\u001b[39m\u001b[39m\"\u001b[39m \u001b[39mnot\u001b[39;00m \u001b[39min\u001b[39;00m kwargs\n\u001b[1;32m    305\u001b[0m tracer \u001b[39m=\u001b[39m _opentelemetry\u001b[39m.\u001b[39mtrace\u001b[39m.\u001b[39mget_tracer(\u001b[39m__name__\u001b[39m)\n",
      "File \u001b[0;32m~/opt/anaconda3/envs/torch-env/lib/python3.9/site-packages/ray/remote_function.py:269\u001b[0m, in \u001b[0;36mRemoteFunction._remote\u001b[0;34m(self, args, kwargs, **task_options)\u001b[0m\n\u001b[1;32m    257\u001b[0m \u001b[39mself\u001b[39m\u001b[39m.\u001b[39m_function_descriptor \u001b[39m=\u001b[39m PythonFunctionDescriptor\u001b[39m.\u001b[39mfrom_function(\n\u001b[1;32m    258\u001b[0m     \u001b[39mself\u001b[39m\u001b[39m.\u001b[39m_function, \u001b[39mself\u001b[39m\u001b[39m.\u001b[39m_uuid\n\u001b[1;32m    259\u001b[0m )\n\u001b[1;32m    260\u001b[0m \u001b[39m# There is an interesting question here. If the remote function is\u001b[39;00m\n\u001b[1;32m    261\u001b[0m \u001b[39m# used by a subsequent driver (in the same script), should the\u001b[39;00m\n\u001b[1;32m    262\u001b[0m \u001b[39m# second driver pickle the function again? If yes, then the remote\u001b[39;00m\n\u001b[0;32m   (...)\u001b[0m\n\u001b[1;32m    267\u001b[0m \u001b[39m# first driver. This is an argument for repickling the function,\u001b[39;00m\n\u001b[1;32m    268\u001b[0m \u001b[39m# which we do here.\u001b[39;00m\n\u001b[0;32m--> 269\u001b[0m \u001b[39mself\u001b[39m\u001b[39m.\u001b[39m_pickled_function \u001b[39m=\u001b[39m pickle_dumps(\n\u001b[1;32m    270\u001b[0m     \u001b[39mself\u001b[39;49m\u001b[39m.\u001b[39;49m_function,\n\u001b[1;32m    271\u001b[0m     \u001b[39mf\u001b[39;49m\u001b[39m\"\u001b[39;49m\u001b[39mCould not serialize the function \u001b[39;49m\u001b[39m{\u001b[39;49;00m\u001b[39mself\u001b[39;49m\u001b[39m.\u001b[39;49m_function_descriptor\u001b[39m.\u001b[39;49mrepr\u001b[39m}\u001b[39;49;00m\u001b[39m\"\u001b[39;49m,\n\u001b[1;32m    272\u001b[0m )\n\u001b[1;32m    274\u001b[0m \u001b[39mself\u001b[39m\u001b[39m.\u001b[39m_last_export_session_and_job \u001b[39m=\u001b[39m worker\u001b[39m.\u001b[39mcurrent_session_and_job\n\u001b[1;32m    275\u001b[0m worker\u001b[39m.\u001b[39mfunction_actor_manager\u001b[39m.\u001b[39mexport(\u001b[39mself\u001b[39m)\n",
      "File \u001b[0;32m~/opt/anaconda3/envs/torch-env/lib/python3.9/site-packages/ray/_private/serialization.py:63\u001b[0m, in \u001b[0;36mpickle_dumps\u001b[0;34m(obj, error_msg)\u001b[0m\n\u001b[1;32m     59\u001b[0m \u001b[39m\"\"\"Wrap cloudpickle.dumps to provide better error message\u001b[39;00m\n\u001b[1;32m     60\u001b[0m \u001b[39mwhen the object is not serializable.\u001b[39;00m\n\u001b[1;32m     61\u001b[0m \u001b[39m\"\"\"\u001b[39;00m\n\u001b[1;32m     62\u001b[0m \u001b[39mtry\u001b[39;00m:\n\u001b[0;32m---> 63\u001b[0m     \u001b[39mreturn\u001b[39;00m pickle\u001b[39m.\u001b[39;49mdumps(obj)\n\u001b[1;32m     64\u001b[0m \u001b[39mexcept\u001b[39;00m \u001b[39mTypeError\u001b[39;00m \u001b[39mas\u001b[39;00m e:\n\u001b[1;32m     65\u001b[0m     sio \u001b[39m=\u001b[39m io\u001b[39m.\u001b[39mStringIO()\n",
      "File \u001b[0;32m~/opt/anaconda3/envs/torch-env/lib/python3.9/site-packages/ray/cloudpickle/cloudpickle_fast.py:88\u001b[0m, in \u001b[0;36mdumps\u001b[0;34m(obj, protocol, buffer_callback)\u001b[0m\n\u001b[1;32m     86\u001b[0m \u001b[39mwith\u001b[39;00m io\u001b[39m.\u001b[39mBytesIO() \u001b[39mas\u001b[39;00m file:\n\u001b[1;32m     87\u001b[0m     cp \u001b[39m=\u001b[39m CloudPickler(file, protocol\u001b[39m=\u001b[39mprotocol, buffer_callback\u001b[39m=\u001b[39mbuffer_callback)\n\u001b[0;32m---> 88\u001b[0m     cp\u001b[39m.\u001b[39;49mdump(obj)\n\u001b[1;32m     89\u001b[0m     \u001b[39mreturn\u001b[39;00m file\u001b[39m.\u001b[39mgetvalue()\n",
      "File \u001b[0;32m~/opt/anaconda3/envs/torch-env/lib/python3.9/site-packages/ray/cloudpickle/cloudpickle_fast.py:733\u001b[0m, in \u001b[0;36mCloudPickler.dump\u001b[0;34m(self, obj)\u001b[0m\n\u001b[1;32m    731\u001b[0m \u001b[39mdef\u001b[39;00m \u001b[39mdump\u001b[39m(\u001b[39mself\u001b[39m, obj):\n\u001b[1;32m    732\u001b[0m     \u001b[39mtry\u001b[39;00m:\n\u001b[0;32m--> 733\u001b[0m         \u001b[39mreturn\u001b[39;00m Pickler\u001b[39m.\u001b[39;49mdump(\u001b[39mself\u001b[39;49m, obj)\n\u001b[1;32m    734\u001b[0m     \u001b[39mexcept\u001b[39;00m \u001b[39mRuntimeError\u001b[39;00m \u001b[39mas\u001b[39;00m e:\n\u001b[1;32m    735\u001b[0m         \u001b[39mif\u001b[39;00m \u001b[39m\"\u001b[39m\u001b[39mrecursion\u001b[39m\u001b[39m\"\u001b[39m \u001b[39min\u001b[39;00m e\u001b[39m.\u001b[39margs[\u001b[39m0\u001b[39m]:\n",
      "File \u001b[0;32m~/opt/anaconda3/envs/torch-env/lib/python3.9/site-packages/torch/storage.py:746\u001b[0m, in \u001b[0;36mTypedStorage.__reduce__\u001b[0;34m(self)\u001b[0m\n\u001b[1;32m    744\u001b[0m \u001b[39mdef\u001b[39;00m \u001b[39m__reduce__\u001b[39m(\u001b[39mself\u001b[39m):\n\u001b[1;32m    745\u001b[0m     b \u001b[39m=\u001b[39m io\u001b[39m.\u001b[39mBytesIO()\n\u001b[0;32m--> 746\u001b[0m     torch\u001b[39m.\u001b[39;49msave(\u001b[39mself\u001b[39;49m, b, _use_new_zipfile_serialization\u001b[39m=\u001b[39;49m\u001b[39mFalse\u001b[39;49;00m)\n\u001b[1;32m    747\u001b[0m     \u001b[39mreturn\u001b[39;00m (_load_from_bytes, (b\u001b[39m.\u001b[39mgetvalue(),))\n",
      "File \u001b[0;32m~/opt/anaconda3/envs/torch-env/lib/python3.9/site-packages/torch/serialization.py:440\u001b[0m, in \u001b[0;36msave\u001b[0;34m(obj, f, pickle_module, pickle_protocol, _use_new_zipfile_serialization)\u001b[0m\n\u001b[1;32m    438\u001b[0m \u001b[39melse\u001b[39;00m:\n\u001b[1;32m    439\u001b[0m     \u001b[39mwith\u001b[39;00m _open_file_like(f, \u001b[39m'\u001b[39m\u001b[39mwb\u001b[39m\u001b[39m'\u001b[39m) \u001b[39mas\u001b[39;00m opened_file:\n\u001b[0;32m--> 440\u001b[0m         _legacy_save(obj, opened_file, pickle_module, pickle_protocol)\n",
      "File \u001b[0;32m~/opt/anaconda3/envs/torch-env/lib/python3.9/site-packages/torch/serialization.py:584\u001b[0m, in \u001b[0;36m_legacy_save\u001b[0;34m(obj, f, pickle_module, pickle_protocol)\u001b[0m\n\u001b[1;32m    582\u001b[0m \u001b[39mfor\u001b[39;00m key \u001b[39min\u001b[39;00m serialized_storage_keys:\n\u001b[1;32m    583\u001b[0m     storage, dtype \u001b[39m=\u001b[39m serialized_storages[key]\n\u001b[0;32m--> 584\u001b[0m     storage\u001b[39m.\u001b[39;49m_write_file(f, _should_read_directly(f), \u001b[39mTrue\u001b[39;49;00m, torch\u001b[39m.\u001b[39;49m_utils\u001b[39m.\u001b[39;49m_element_size(dtype))\n",
      "\u001b[0;31mRuntimeError\u001b[0m: writeFileRaw: Device not recognized: mps"
     ]
    }
   ],
   "source": [
    "# 16min 11s\n",
    "league_trainer = LeagueTrainer(args)\n",
    "league_trainer.train_league()"
   ]
  },
  {
   "cell_type": "code",
   "execution_count": null,
   "metadata": {},
   "outputs": [],
   "source": []
  }
 ],
 "metadata": {
  "kernelspec": {
   "display_name": "torch-env",
   "language": "python",
   "name": "python3"
  },
  "language_info": {
   "codemirror_mode": {
    "name": "ipython",
    "version": 3
   },
   "file_extension": ".py",
   "mimetype": "text/x-python",
   "name": "python",
   "nbconvert_exporter": "python",
   "pygments_lexer": "ipython3",
   "version": "3.9.12"
  },
  "orig_nbformat": 4,
  "vscode": {
   "interpreter": {
    "hash": "1287ba8ead7066fc0830e0bd4af1d69cd835a22f57b43ce0ba097f5b2b7dfbb1"
   }
  }
 },
 "nbformat": 4,
 "nbformat_minor": 2
}
