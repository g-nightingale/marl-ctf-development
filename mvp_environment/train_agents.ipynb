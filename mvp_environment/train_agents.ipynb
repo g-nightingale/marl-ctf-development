{
 "cells": [
  {
   "attachments": {},
   "cell_type": "markdown",
   "metadata": {},
   "source": [
    "# League Training\n"
   ]
  },
  {
   "cell_type": "code",
   "execution_count": 1,
   "metadata": {},
   "outputs": [],
   "source": [
    "from league_training import LeagueTrainer"
   ]
  },
  {
   "attachments": {},
   "cell_type": "markdown",
   "metadata": {},
   "source": [
    "### 1. Load config"
   ]
  },
  {
   "cell_type": "code",
   "execution_count": 3,
   "metadata": {},
   "outputs": [],
   "source": [
    "class TrainingConfig():\n",
    "    def __init__(self):\n",
    "        #---------- Overall config\n",
    "        self.wandb_project_name = \"MARL-CTF-Test\"\n",
    "        self.exp_name = \"Agent metrics logging\"\n",
    "        self.use_wandb_selfplay = True\n",
    "        self.use_wandb_ppo = False\n",
    "        self.seed = 42\n",
    "\n",
    "        #---------- Self-play config\n",
    "        self.number_of_iterations = 5\n",
    "        self.number_of_duels = 3\n",
    "        self.n_main_agents = 5\n",
    "        self.n_exploiters = 3\n",
    "        self.n_historical_agents = 10\n",
    "        self.main_agent_update_interval = 5\n",
    "        self.exploiter_update_interval = 2\n",
    "        self.historical_update_interval = 2\n",
    "        self.max_win_rate_diff = 1.0\n",
    "\n",
    "        #---------- Environment config\n",
    "        self.use_ego_state = True\n",
    "        self.env_config = {\n",
    "            'GRID_SIZE':8,\n",
    "            'AGENT_CONFIG':{\n",
    "                0: {'team':0, 'type':0},\n",
    "                1: {'team':1, 'type':0},\n",
    "                2: {'team':0, 'type':1},\n",
    "                3: {'team':1, 'type':1},\n",
    "            },\n",
    "            'GAME_STEPS': 256,\n",
    "            'USE_ADJUSTED_REWARDS': False,\n",
    "            'RANDOMISE_FLAG_POSITIONS': False,\n",
    "            'HOME_FLAG_CAPTURE': True,\n",
    "            'ENABLE_OBSTACLES': False,\n",
    "            'MAX_BLOCK_TILE_PCT': 0.05\n",
    "        }\n",
    "\n",
    "        #---------- PPO Config\n",
    "        self.learning_rate = 0.0003\n",
    "        self.total_timesteps = 10000\n",
    "        self.torch_deterministic = True\n",
    "        self.cuda = True\n",
    "        self.wandb_entity = None\n",
    "        self.capture_video = False\n",
    "        self.parallel_rollouts = False\n",
    "        self.num_envs = 4\n",
    "        self.num_agents = 1\n",
    "        self.num_steps = 256\n",
    "        self.anneal_lr = False\n",
    "        self.gae = True\n",
    "        self.gamma = 0.95\n",
    "        self.gae_lambda = 0.96\n",
    "        self.num_minibatches = 4\n",
    "        self.update_epochs = 4\n",
    "        self.norm_adv = False\n",
    "        self.clip_coef = 0.2\n",
    "        self.clip_vloss = True\n",
    "        self.ent_coef = 0.01\n",
    "        self.vf_coef = 0.5\n",
    "        self.max_grad_norm = 0.5\n",
    "        self.target_kl = None\n",
    "        self.batch_size = int(self.num_envs * self.num_steps * self.num_agents)\n",
    "        self.minibatch_size = int(self.batch_size // self.num_minibatches)\n",
    "        self.device = 'cpu'\n",
    "\n",
    "        #---------- Metrics config\n",
    "\n",
    "args = TrainingConfig()"
   ]
  },
  {
   "attachments": {},
   "cell_type": "markdown",
   "metadata": {},
   "source": [
    "### 2. Train agents"
   ]
  },
  {
   "cell_type": "code",
   "execution_count": 4,
   "metadata": {},
   "outputs": [
    {
     "name": "stdout",
     "output_type": "stream",
     "text": [
      "Iteration: 0 Training main agent 4 vs exploiter agent 0\n",
      "i: 1\t ar: -80.0000\t mx: 0.0\t lr: 0.0003\t vl: 0.0001\t pl: 0.0514\t ent: 1.3765\t\n",
      "i: 2\t ar: -59.5000\t mx: 21.0\t lr: 0.0003\t vl: 0.0\t pl: 0.0314\t ent: 1.3753\t\n",
      "i: 3\t ar: -66.3300\t mx: 21.0\t lr: 0.0003\t vl: 0.0\t pl: 0.0074\t ent: 1.3787\t\n",
      "i: 4\t ar: -59.5000\t mx: 21.0\t lr: 0.0003\t vl: 0.0\t pl: 0.0003\t ent: 1.383\t\n",
      "i: 5\t ar: -55.4000\t mx: 21.0\t lr: 0.0003\t vl: 0.0\t pl: -0.0005\t ent: 1.3851\t\n",
      "i: 6\t ar: -52.6700\t mx: 21.0\t lr: 0.0003\t vl: 0.0011\t pl: -0.0076\t ent: 1.3787\t\n",
      "i: 7\t ar: -56.5700\t mx: 21.0\t lr: 0.0003\t vl: 0.0001\t pl: 0.0065\t ent: 1.3831\t\n"
     ]
    }
   ],
   "source": [
    "league_trainer = LeagueTrainer(args)\n",
    "league_trainer.train_league()"
   ]
  },
  {
   "attachments": {},
   "cell_type": "markdown",
   "metadata": {},
   "source": [
    "### 3. Test Trained Policies"
   ]
  },
  {
   "cell_type": "code",
   "execution_count": 10,
   "metadata": {},
   "outputs": [
    {
     "data": {
      "image/png": "[encoded data removed]",
      "text/plain": [
       "<Figure size 640x480 with 1 Axes>"
      ]
     },
     "metadata": {},
     "output_type": "display_data"
    },
    {
     "name": "stdout",
     "output_type": "stream",
     "text": [
      "256 2 0\n"
     ]
    },
    {
     "data": {
      "text/plain": [
       "(2, 0)"
      ]
     },
     "execution_count": 10,
     "metadata": {},
     "output_type": "execute_result"
    }
   ],
   "source": [
    "agent = league_trainer.main_agents[0]\n",
    "opponent = league_trainer.main_agents[2]\n",
    "league_trainer.duel(agent, opponent, render=True, sleep_time=0.2)"
   ]
  }
 ],
 "metadata": {
  "kernelspec": {
   "display_name": "torch-env",
   "language": "python",
   "name": "python3"
  },
  "language_info": {
   "codemirror_mode": {
    "name": "ipython",
    "version": 3
   },
   "file_extension": ".py",
   "mimetype": "text/x-python",
   "name": "python",
   "nbconvert_exporter": "python",
   "pygments_lexer": "ipython3",
   "version": "3.9.12"
  },
  "orig_nbformat": 4
 },
 "nbformat": 4,
 "nbformat_minor": 2
}
