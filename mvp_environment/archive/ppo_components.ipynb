{
 "cells": [
  {
   "cell_type": "code",
   "execution_count": 1,
   "metadata": {},
   "outputs": [],
   "source": [
    "import numpy as np\n",
    "import torch"
   ]
  },
  {
   "cell_type": "code",
   "execution_count": 5,
   "metadata": {},
   "outputs": [
    {
     "name": "stdout",
     "output_type": "stream",
     "text": [
      "reward:1.0 gamma:0.99 values_t1:0.95 values:0.9 gae:1.0405000000000002\n",
      "reward:1.0 gamma:0.99 values_t1:0.9 values:0.8 gae:2.06959025\n",
      "reward:1.0 gamma:0.99 values_t1:0.8 values:0.7 gae:3.038449630125\n",
      "reward:1.0 gamma:0.99 values_t1:0.7 values:0.6 gae:3.950661877132563\n",
      "reward:1.0 gamma:0.99 values_t1:0.6 values:0.5 gae:4.809597495443175\n",
      "[4.8095975  3.95066188 3.03844963 2.06959025 1.0405    ]\n"
     ]
    }
   ],
   "source": [
    "import numpy as np\n",
    "\n",
    "def compute_gae(rewards, values, next_value, gamma=0.99, lam=0.95):\n",
    "    \"\"\"\"\n",
    "    GAE function fromm ChatGPT.\n",
    "    \"\"\"\n",
    "    num_steps = len(rewards)\n",
    "    values = np.append(values, next_value)\n",
    "    gae = 0\n",
    "    advantages = np.zeros_like(rewards)\n",
    "    for t in reversed(range(num_steps)):\n",
    "        delta = rewards[t] + gamma * values[t + 1] - values[t]\n",
    "        gae = delta + gamma * lam * gae\n",
    "        print(f'reward:{rewards[t]} gamma:{gamma} values_t1:{values[t + 1]} values:{values[t]} gae:{gae}')\n",
    "        advantages[t] = gae\n",
    "    return advantages\n",
    "\n",
    "# Dummy data\n",
    "rewards = np.array([1.0, 1.0, 1.0, 1.0, 1.0])\n",
    "values = np.array([0.5, 0.6, 0.7, 0.8, 0.9])\n",
    "next_value = 0.95\n",
    "gamma = 0.99\n",
    "gae_lambda = 0.95\n",
    "\n",
    "# Compute GAE\n",
    "advantages = compute_gae(rewards, values, next_value, gamma, gae_lambda)\n",
    "print(advantages)"
   ]
  },
  {
   "cell_type": "code",
   "execution_count": 7,
   "metadata": {},
   "outputs": [
    {
     "name": "stdout",
     "output_type": "stream",
     "text": [
      "t: 4\n",
      "delta: 1.0405000000000002\n",
      "lastgaelam: 1.0405000000000002\n",
      "advantages: [0.     0.     0.     0.     1.0405]\n",
      "\n",
      "t: 3\n",
      "delta: 1.0910000801086426\n",
      "lastgaelam: 2.0695903301239014\n",
      "advantages: [0.         0.         0.         2.06959033 1.0405    ]\n",
      "\n",
      "t: 2\n",
      "delta: 1.0920000076293945\n",
      "lastgaelam: 3.038449764251709\n",
      "advantages: [0.         0.         3.03844976 2.06959033 1.0405    ]\n",
      "\n",
      "t: 1\n",
      "delta: 1.093000054359436\n",
      "lastgaelam: 3.950662136077881\n",
      "advantages: [0.         3.95066214 3.03844976 2.06959033 1.0405    ]\n",
      "\n",
      "t: 0\n",
      "delta: 1.093999981880188\n",
      "lastgaelam: 4.809597969055176\n",
      "advantages: [4.80959797 3.95066214 3.03844976 2.06959033 1.0405    ]\n",
      "\n"
     ]
    }
   ],
   "source": [
    "# next_value = 100\n",
    "# gamma = 0.99\n",
    "# gae_lambda = 0.96\n",
    "\n",
    "# rewards = torch.Tensor([-1, -1, -1, -1, -1, -1, 99])\n",
    "# values = torch.Tensor([-1, -1, -1, -1, -1, -1, 99])\n",
    "# dones = torch.Tensor([0, 0, 0, 0, 0, 0, 0])\n",
    "# num_steps = 7\n",
    "# next_done = 0\n",
    "\n",
    "num_steps = 5\n",
    "\n",
    "\n",
    "advantages = np.zeros_like(rewards)\n",
    "lastgaelam = 0\n",
    "for t in reversed(range(num_steps)):\n",
    "    print(f't: {t}')\n",
    "    if t == num_steps - 1:\n",
    "        nextnonterminal = 1.0 - next_done\n",
    "        nextvalues = next_value\n",
    "    else:\n",
    "        nextnonterminal = 1.0 - dones[t + 1]\n",
    "        nextvalues = values[t + 1]\n",
    "    delta = rewards[t] + gamma * nextvalues * nextnonterminal - values[t]\n",
    "    print(f'delta: {delta}')\n",
    "    advantages[t] = lastgaelam = delta + gamma * gae_lambda * nextnonterminal * lastgaelam\n",
    "    print(f'lastgaelam: {lastgaelam}')\n",
    "    print(f'advantages: {advantages}')\n",
    "    print()\n",
    "returns = advantages + values"
   ]
  },
  {
   "cell_type": "code",
   "execution_count": null,
   "metadata": {},
   "outputs": [],
   "source": []
  }
 ],
 "metadata": {
  "kernelspec": {
   "display_name": "torch-env",
   "language": "python",
   "name": "python3"
  },
  "language_info": {
   "codemirror_mode": {
    "name": "ipython",
    "version": 3
   },
   "file_extension": ".py",
   "mimetype": "text/x-python",
   "name": "python",
   "nbconvert_exporter": "python",
   "pygments_lexer": "ipython3",
   "version": "3.9.12"
  },
  "orig_nbformat": 4
 },
 "nbformat": 4,
 "nbformat_minor": 2
}
