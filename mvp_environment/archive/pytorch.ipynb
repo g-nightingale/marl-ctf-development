{
 "cells": [
  {
   "cell_type": "markdown",
   "metadata": {},
   "source": [
    "# PyTorch"
   ]
  },
  {
   "cell_type": "code",
   "execution_count": 2,
   "metadata": {},
   "outputs": [],
   "source": [
    "import numpy as np\n",
    "import matplotlib.pyplot as plt\n",
    "import torch\n",
    "import torch.nn as nn\n",
    "from collections import defaultdict\n",
    "from torch.distributions.categorical import Categorical\n",
    "from functools import partial\n",
    "from torch.optim import Adam"
   ]
  },
  {
   "cell_type": "markdown",
   "metadata": {},
   "source": [
    "### Basic Functions\n",
    "\n",
    "Functions to test\n",
    "- T.flatten(x1, 1)\n",
    "- .item() -> Returns the value of this tensor as a standard Python number. This only works for tensors with one element.\n",
    "- T.concat((x1, x2), dim=1)\n",
    "- T.cat([batch[i][2] for i in range(n)]).view(n, 1)\n",
    "- new_logits.gather(1, actions)\n",
    "- T.clip(ratios, 1 - margin, 1 + margin)\n",
    "- @T.no_grad()"
   ]
  },
  {
   "cell_type": "code",
   "execution_count": 2,
   "metadata": {},
   "outputs": [
    {
     "name": "stdout",
     "output_type": "stream",
     "text": [
      "array shape: torch.Size([5, 1])\n",
      "array: tensor([[9],\n",
      "        [1],\n",
      "        [9],\n",
      "        [1],\n",
      "        [3]], dtype=torch.int32)\n",
      "array[1]: tensor([1], dtype=torch.int32)\n",
      "array[1].item(): 1\n",
      "\n",
      "view(5): tensor([9, 1, 9, 1, 3], dtype=torch.int32)\n",
      "view(1, 5): tensor([[9, 1, 9, 1, 3]], dtype=torch.int32)\n",
      "view(5, 1): tensor([[9],\n",
      "        [1],\n",
      "        [9],\n",
      "        [1],\n",
      "        [3]], dtype=torch.int32)\n",
      "\n",
      "tensor([9, 1, 9, 1, 3], dtype=torch.int32)\n",
      "\n",
      "clip: (-2, 4)\n",
      "tensor([[4],\n",
      "        [1],\n",
      "        [4],\n",
      "        [1],\n",
      "        [3]], dtype=torch.int32)\n"
     ]
    }
   ],
   "source": [
    "arr = np.random.randint(0, 10, (5, 1))\n",
    "arr_pt = torch.from_numpy(arr)\n",
    "margin = 3\n",
    "\n",
    "# Print the array\n",
    "print('array shape:', arr_pt.shape)\n",
    "print('array:', arr_pt)\n",
    "print('array[1]:', arr_pt[1])\n",
    "print('array[1].item():', arr_pt[1].item())\n",
    "print()\n",
    "\n",
    "# view() reshapes the tensor without copying memory, similar to numpy's reshape()\n",
    "print('view(5):', arr_pt.view(5))\n",
    "print('view(1, 5):', arr_pt.view(1, 5))\n",
    "print('view(5, 1):', arr_pt.view(5, 1))\n",
    "print()\n",
    "\n",
    "# Flatten the array -> applicable to multi dimensional arrays\n",
    "print(torch.flatten(arr_pt, 0))\n",
    "print()\n",
    "\n",
    "# Clip function\n",
    "print(f'clip: {1 - margin, 1 + margin}\\n{torch.clip(arr_pt, 1 - margin, 1 + margin)}')"
   ]
  },
  {
   "cell_type": "code",
   "execution_count": 5,
   "metadata": {},
   "outputs": [
    {
     "name": "stdout",
     "output_type": "stream",
     "text": [
      "array shape: torch.Size([4, 4])\n",
      "array: tensor([[0, 6, 4, 5],\n",
      "        [6, 2, 6, 0],\n",
      "        [4, 2, 3, 8],\n",
      "        [6, 7, 3, 4]])\n",
      "array[1]: tensor([6, 2, 6, 0])\n",
      "\n",
      "view(5): tensor([0, 6, 4, 5, 6, 2, 6, 0, 4, 2, 3, 8, 6, 7, 3, 4])\n",
      "view(1, 5): tensor([[0, 6, 4, 5, 6, 2, 6, 0, 4, 2, 3, 8, 6, 7, 3, 4]])\n",
      "view(5, 1): tensor([[0],\n",
      "        [6],\n",
      "        [4],\n",
      "        [5],\n",
      "        [6],\n",
      "        [2],\n",
      "        [6],\n",
      "        [0],\n",
      "        [4],\n",
      "        [2],\n",
      "        [3],\n",
      "        [8],\n",
      "        [6],\n",
      "        [7],\n",
      "        [3],\n",
      "        [4]])\n",
      "\n",
      "tensor([0, 6, 4, 5, 6, 2, 6, 0, 4, 2, 3, 8, 6, 7, 3, 4])\n",
      "tensor([[0, 6, 4, 5],\n",
      "        [6, 2, 6, 0],\n",
      "        [4, 2, 3, 8],\n",
      "        [6, 7, 3, 4]])\n"
     ]
    }
   ],
   "source": [
    "# Flatten\n",
    "arr_pt = torch.randint(0, 10, (4, 4))\n",
    "\n",
    "# Print the array\n",
    "print('array shape:', arr_pt.shape)\n",
    "print('array:', arr_pt)\n",
    "print('array[1]:', arr_pt[1])\n",
    "print()\n",
    "\n",
    "# view() reshapes the tensor without copying memory, similar to numpy's reshape()\n",
    "print('view(5):', arr_pt.view(16))\n",
    "print('view(1, 5):', arr_pt.view(1, 16))\n",
    "print('view(5, 1):', arr_pt.view(16, 1))\n",
    "print()\n",
    "\n",
    "# Flatten the array -> applicable to multi dimensional arrays\n",
    "print(torch.flatten(arr_pt, 0))\n",
    "print(torch.flatten(arr_pt, 1))"
   ]
  },
  {
   "cell_type": "code",
   "execution_count": null,
   "metadata": {},
   "outputs": [
    {
     "name": "stdout",
     "output_type": "stream",
     "text": [
      "tensor([[7],\n",
      "        [1],\n",
      "        [3]], dtype=torch.int32)\n",
      "tensor([[7],\n",
      "        [1],\n",
      "        [7]], dtype=torch.int32)\n",
      "tensor([[4],\n",
      "        [4],\n",
      "        [1]], dtype=torch.int32)\n",
      "\n",
      "tensor([1, 1, 4], dtype=torch.int32) \n",
      "\n",
      "tensor([[1],\n",
      "        [1],\n",
      "        [4]], dtype=torch.int32)\n"
     ]
    }
   ],
   "source": [
    "memory = []\n",
    "for i in range(3):\n",
    "        arr = np.random.randint(0, 10, (3, 1))\n",
    "        arr_pt = torch.from_numpy(arr)\n",
    "        memory.append(arr_pt)\n",
    "\n",
    "# Creating a new array with cat method using the second element of each array\n",
    "memory_cat = torch.cat([x[1] for x in memory])\n",
    "memory_cat_vw = torch.cat([x[1] for x in memory]).view(3, 1)\n",
    "\n",
    "# Print memory arrays\n",
    "[print(x) for x in memory]\n",
    "print()\n",
    "print(memory_cat, '\\n')\n",
    "print(memory_cat_vw)"
   ]
  },
  {
   "cell_type": "code",
   "execution_count": null,
   "metadata": {},
   "outputs": [
    {
     "name": "stdout",
     "output_type": "stream",
     "text": [
      "tensor([[4],\n",
      "        [3],\n",
      "        [4],\n",
      "        [2],\n",
      "        [0]])\n",
      "tensor([[0.6078, 0.8323, 0.3560, 0.0376, 0.7533],\n",
      "        [0.8106, 0.4298, 0.0742, 0.4327, 0.0456],\n",
      "        [0.6012, 0.8980, 0.1531, 0.4349, 0.6543],\n",
      "        [0.4689, 0.0735, 0.7088, 0.5862, 0.1632],\n",
      "        [0.5960, 0.9476, 0.7934, 0.7507, 0.3064]])\n",
      "tensor([[0.7533],\n",
      "        [0.4327],\n",
      "        [0.6543],\n",
      "        [0.7088],\n",
      "        [0.5960]])\n"
     ]
    }
   ],
   "source": [
    "# Testing gather function\n",
    "actions = torch.randint(5, (5, 1))\n",
    "probs = torch.rand(5, 5)\n",
    "gather_test = probs.gather(1, actions)\n",
    "\n",
    "print(actions)\n",
    "print(probs)\n",
    "print(gather_test)"
   ]
  },
  {
   "cell_type": "markdown",
   "metadata": {},
   "source": [
    "#### Pytorch concat"
   ]
  },
  {
   "cell_type": "code",
   "execution_count": null,
   "metadata": {},
   "outputs": [
    {
     "name": "stdout",
     "output_type": "stream",
     "text": [
      "Concat square tensors with the same shape\n",
      "tensor([[1, 1, 2],\n",
      "        [3, 1, 7],\n",
      "        [5, 4, 4]])\n",
      "tensor([[4, 9, 0],\n",
      "        [3, 9, 0],\n",
      "        [4, 3, 4]])\n",
      "\n",
      "Concat dim=0: \n",
      "tensor([[1, 1, 2],\n",
      "        [3, 1, 7],\n",
      "        [5, 4, 4],\n",
      "        [4, 9, 0],\n",
      "        [3, 9, 0],\n",
      "        [4, 3, 4]])\n",
      "Concat dim=1: \n",
      "tensor([[1, 1, 2, 4, 9, 0],\n",
      "        [3, 1, 7, 3, 9, 0],\n",
      "        [5, 4, 4, 4, 3, 4]])\n",
      "\n",
      "Concat tensors with different shapes\n",
      "tensor([[3, 1, 3],\n",
      "        [9, 6, 1],\n",
      "        [4, 1, 4],\n",
      "        [2, 9, 9]])\n",
      "tensor([[8, 3, 6],\n",
      "        [9, 6, 7],\n",
      "        [9, 0, 5]])\n",
      "\n",
      "Concat dim=0: \n",
      "tensor([[3, 1, 3],\n",
      "        [9, 6, 1],\n",
      "        [4, 1, 4],\n",
      "        [2, 9, 9],\n",
      "        [8, 3, 6],\n",
      "        [9, 6, 7],\n",
      "        [9, 0, 5]])\n",
      "Concat dim=1 (using view): \n",
      "tensor([[3, 1, 3, 9, 8, 3, 6],\n",
      "        [6, 1, 4, 1, 9, 6, 7],\n",
      "        [4, 2, 9, 9, 9, 0, 5]])\n",
      "\n"
     ]
    }
   ],
   "source": [
    "# Testing concat\n",
    "print('Concat square tensors with the same shape')\n",
    "arr1 = torch.randint(10, (3, 3))\n",
    "arr2 = torch.randint(10, (3, 3))\n",
    "\n",
    "print(arr1)\n",
    "print(arr2)\n",
    "print()\n",
    "print(f'Concat dim=0: \\n{torch.concat((arr1, arr2), dim=0)}')\n",
    "print(f'Concat dim=1: \\n{torch.concat((arr1, arr2), dim=1)}\\n')\n",
    "\n",
    "print('Concat tensors with different shapes')\n",
    "arr1 = torch.randint(10, (4, 3))\n",
    "arr2 = torch.randint(10, (3, 3))\n",
    "\n",
    "print(arr1)\n",
    "print(arr2)\n",
    "print()\n",
    "print(f'Concat dim=0: \\n{torch.concat((arr1, arr2), dim=0)}')\n",
    "print(f'Concat dim=1 (using view): \\n{torch.concat((arr1.view(3, 4), arr2), dim=1)}\\n')"
   ]
  },
  {
   "cell_type": "code",
   "execution_count": null,
   "metadata": {},
   "outputs": [
    {
     "name": "stdout",
     "output_type": "stream",
     "text": [
      "tensor([[ 0.5635, -0.1851,  0.4630],\n",
      "        [-2.1659,  0.5167,  0.7641]])\n",
      "tensor([[0.4206, 0.1990, 0.3804],\n",
      "        [0.0291, 0.4257, 0.5452]])\n",
      "tensor([1., 1.])\n"
     ]
    }
   ],
   "source": [
    "# Spftmax\n",
    "m = nn.Softmax(dim=1)\n",
    "input = torch.randn(2, 3)\n",
    "output = m(input)\n",
    "\n",
    "print(input)\n",
    "print(output)\n",
    "\n",
    "print(output.sum(dim=1))"
   ]
  },
  {
   "cell_type": "markdown",
   "metadata": {},
   "source": [
    "#### Simple linear regression example"
   ]
  },
  {
   "cell_type": "code",
   "execution_count": null,
   "metadata": {},
   "outputs": [
    {
     "name": "stdout",
     "output_type": "stream",
     "text": [
      "torch.Size([10, 1])\n",
      "tensor([[3.],\n",
      "        [8.],\n",
      "        [3.],\n",
      "        [5.],\n",
      "        [2.],\n",
      "        [8.],\n",
      "        [1.],\n",
      "        [8.],\n",
      "        [8.],\n",
      "        [3.]]) tensor([[ 7.9551],\n",
      "        [17.4092],\n",
      "        [ 8.3963],\n",
      "        [11.9480],\n",
      "        [ 5.3690],\n",
      "        [15.6795],\n",
      "        [ 3.3452],\n",
      "        [16.3815],\n",
      "        [17.0166],\n",
      "        [ 6.8921]])\n"
     ]
    }
   ],
   "source": [
    "def data_generator(n=10):\n",
    "    w1 = 1\n",
    "    w2 = 2\n",
    "\n",
    "    x = torch.randint(10, (n, 1), dtype=torch.float32)\n",
    "\n",
    "    y = w1 + w2 * x + torch.randn((n, 1), dtype=torch.float32)\n",
    "\n",
    "    return x, y\n",
    "\n",
    "x, y = data_generator()\n",
    "\n",
    "print(x.shape)\n",
    "print(x, y)"
   ]
  },
  {
   "cell_type": "code",
   "execution_count": null,
   "metadata": {},
   "outputs": [
    {
     "name": "stdout",
     "output_type": "stream",
     "text": [
      "epoch 1, loss 218.283203125\n",
      "epoch 51, loss 135.5340576171875\n",
      "epoch 101, loss 78.82185363769531\n",
      "epoch 151, loss 42.983604431152344\n",
      "epoch 201, loss 22.000343322753906\n",
      "epoch 251, loss 10.713483810424805\n",
      "epoch 301, loss 5.172562599182129\n",
      "epoch 351, loss 2.6990091800689697\n",
      "epoch 401, loss 1.6949329376220703\n",
      "epoch 451, loss 1.3221454620361328\n",
      "epoch 501, loss 1.1927944421768188\n",
      "epoch 551, loss 1.1478227376937866\n",
      "epoch 601, loss 1.129150152206421\n",
      "epoch 651, loss 1.117835283279419\n",
      "epoch 701, loss 1.1083611249923706\n",
      "epoch 751, loss 1.0993118286132812\n",
      "epoch 801, loss 1.0903819799423218\n",
      "epoch 851, loss 1.0815378427505493\n",
      "epoch 901, loss 1.072801947593689\n",
      "epoch 951, loss 1.064204454421997\n"
     ]
    },
    {
     "data": {
      "image/png": "[encoded data removed]",
      "text/plain": [
       "<Figure size 640x480 with 1 Axes>"
      ]
     },
     "metadata": {},
     "output_type": "display_data"
    }
   ],
   "source": [
    "class LinearRegression(torch.nn.Module):\n",
    "    def __init__(self, \n",
    "                 input_n=1, \n",
    "                 output_n=1,\n",
    "                 lr=0.01):\n",
    "        super(LinearRegression, self).__init__()\n",
    "        self.linear = torch.nn.Linear(input_n, output_n)\n",
    "        self.optimizer = Adam(self.parameters(), lr=lr)\n",
    "\n",
    "    def forward(self, x):\n",
    "        out = self.linear(x)\n",
    "        return out\n",
    "\n",
    "    def train(self, x, y, epochs=1000):\n",
    "        losses = []\n",
    "        for i, epoch in enumerate(range(epochs)):\n",
    "            epoch += 1\n",
    "\n",
    "            # Clear gradients w.r.t. parameters\n",
    "            self.optimizer.zero_grad() \n",
    "\n",
    "            # Forward to get output\n",
    "            y_pred = self.forward(x_train)\n",
    "\n",
    "            # Calculate Loss\n",
    "            loss = torch.mean((y_train - y_pred)**2)\n",
    "\n",
    "            losses.append(loss.detach().numpy())\n",
    "\n",
    "            # Getting gradients w.r.t. parameters\n",
    "            loss.backward()\n",
    "\n",
    "            # Updating parameters\n",
    "            self.optimizer.step()\n",
    "\n",
    "            if i%50==0:\n",
    "                print('epoch {}, loss {}'.format(epoch, loss.item()))\n",
    "\n",
    "        return losses\n",
    "\n",
    "# Create training data\n",
    "x_train, y_train = data_generator()\n",
    "\n",
    "lr = LinearRegression()\n",
    "losses = lr.train(x_train, y_train)\n",
    "\n",
    "# Plot losses\n",
    "plt.title('Losses over training iterations')\n",
    "plt.plot(losses)\n",
    "plt.show()\n"
   ]
  },
  {
   "cell_type": "markdown",
   "metadata": {},
   "source": [
    "#### Test nograd on model trained in previous section"
   ]
  },
  {
   "cell_type": "code",
   "execution_count": null,
   "metadata": {},
   "outputs": [],
   "source": [
    "def inference(n=1000):\n",
    "    x_train, y_train = data_generator(n=n)\n",
    "    y_pred = lr(x_train)\n",
    "\n",
    "@torch.no_grad()\n",
    "def inference_nograd(n=1000):\n",
    "    x_train, y_train = data_generator(n=n)\n",
    "    y_pred = lr(x_train)"
   ]
  },
  {
   "cell_type": "code",
   "execution_count": null,
   "metadata": {},
   "outputs": [
    {
     "name": "stdout",
     "output_type": "stream",
     "text": [
      "146 µs ± 26.4 µs per loop (mean ± std. dev. of 7 runs, 1,000 loops each)\n"
     ]
    }
   ],
   "source": [
    "%%timeit\n",
    "inference()"
   ]
  },
  {
   "cell_type": "code",
   "execution_count": null,
   "metadata": {},
   "outputs": [
    {
     "name": "stdout",
     "output_type": "stream",
     "text": [
      "109 µs ± 4.25 µs per loop (mean ± std. dev. of 7 runs, 10,000 loops each)\n"
     ]
    }
   ],
   "source": [
    "%%timeit\n",
    "inference_nograd()"
   ]
  },
  {
   "cell_type": "markdown",
   "metadata": {},
   "source": [
    "#### Investigating how PyTorch accumulates gradients"
   ]
  },
  {
   "cell_type": "code",
   "execution_count": null,
   "metadata": {},
   "outputs": [
    {
     "name": "stdout",
     "output_type": "stream",
     "text": [
      "x: tensor(2., requires_grad=True)\n",
      "y: tensor(9., grad_fn=<AddBackward0>)\n",
      "x.grad first pass: tensor(12.)\n",
      "x.grad second pass: tensor(24.)\n",
      "x.grad third pass: tensor(36.)\n"
     ]
    }
   ],
   "source": [
    "# create tensors with requires_grad = true\n",
    "x = torch.tensor(2.0, requires_grad = True)\n",
    "\n",
    "# print the tensor\n",
    "print(\"x:\", x)\n",
    "\n",
    "# define a function y for the tensor, x\n",
    "y = x**3 + 1\n",
    "print(\"y:\", y)\n",
    "\n",
    "# First backward pass\n",
    "# Compute gradients using backward function for y\n",
    "y.backward(retain_graph=True)\n",
    "\n",
    "# Access the gradients using x.grad\n",
    "dx = x.grad\n",
    "print(\"x.grad first pass:\", dx)\n",
    "\n",
    "# Second backward pass\n",
    "y.backward(retain_graph=True)\n",
    "\n",
    "# Access the gradients using x.grad\n",
    "dx = x.grad\n",
    "print(\"x.grad second pass:\", dx)\n",
    "\n",
    "# Third backward pass\n",
    "y.backward()\n",
    "\n",
    "# Access the gradients using x.grad\n",
    "dx = x.grad\n",
    "print(\"x.grad third pass:\", dx)\n"
   ]
  },
  {
   "cell_type": "markdown",
   "metadata": {},
   "source": [
    "#### Pytorch random numbers vs Numpy then converting to Pytorch"
   ]
  },
  {
   "cell_type": "code",
   "execution_count": null,
   "metadata": {},
   "outputs": [
    {
     "name": "stdout",
     "output_type": "stream",
     "text": [
      "26 µs ± 4.13 µs per loop (mean ± std. dev. of 7 runs, 10,000 loops each)\n"
     ]
    }
   ],
   "source": [
    "%%timeit\n",
    "arr = np.random.randint(0, 10, (3, 3))\n",
    "arr_pt = torch.from_numpy(arr)"
   ]
  },
  {
   "cell_type": "code",
   "execution_count": null,
   "metadata": {},
   "outputs": [
    {
     "name": "stdout",
     "output_type": "stream",
     "text": [
      "6.13 µs ± 320 ns per loop (mean ± std. dev. of 7 runs, 100,000 loops each)\n"
     ]
    }
   ],
   "source": [
    "%%timeit\n",
    "arr_pt = torch.randint(10, (3, 3))"
   ]
  },
  {
   "cell_type": "markdown",
   "metadata": {},
   "source": [
    "#### Pytorch - Understanding categorical distribution and probability ratio"
   ]
  },
  {
   "cell_type": "code",
   "execution_count": null,
   "metadata": {},
   "outputs": [
    {
     "data": {
      "text/plain": [
       "tensor([[0.1000, 0.9000, 0.3000, 0.1000],\n",
       "        [0.9000, 0.6000, 0.3000, 0.2000]])"
      ]
     },
     "metadata": {},
     "output_type": "display_data"
    }
   ],
   "source": [
    "# Each row represents the action values taking 1 of 4 actions, as output from an actor network\n",
    "nn_output = torch.tensor([[0.1, 0.9, 0.3, 0.1],\n",
    "                          [0.9, 0.6, 0.3, 0.2]])\n",
    "nn_output\n"
   ]
  },
  {
   "cell_type": "code",
   "execution_count": null,
   "metadata": {},
   "outputs": [
    {
     "data": {
      "text/plain": [
       "tensor([[0.1836, 0.4086, 0.2242, 0.1836],\n",
       "        [0.3589, 0.2659, 0.1970, 0.1782]])"
      ]
     },
     "metadata": {},
     "output_type": "display_data"
    }
   ],
   "source": [
    "# These outputs are then fed through a softmax function to produce probabilities\n",
    "sm = torch.softmax(nn_output, dim=1)\n",
    "sm"
   ]
  },
  {
   "cell_type": "code",
   "execution_count": null,
   "metadata": {},
   "outputs": [
    {
     "name": "stdout",
     "output_type": "stream",
     "text": [
      "tensor(1.)\n",
      "tensor(1.)\n"
     ]
    }
   ],
   "source": [
    "# Checking that the probs sum to 1\n",
    "print(sm[0].sum())\n",
    "print(sm[1].sum())"
   ]
  },
  {
   "cell_type": "code",
   "execution_count": null,
   "metadata": {},
   "outputs": [
    {
     "data": {
      "text/plain": [
       "tensor([2, 0])"
      ]
     },
     "metadata": {},
     "output_type": "display_data"
    }
   ],
   "source": [
    "# Sampling from the distribution\n",
    "dist = Categorical(sm)\n",
    "action = dist.sample()\n",
    "\n",
    "action"
   ]
  },
  {
   "cell_type": "code",
   "execution_count": null,
   "metadata": {},
   "outputs": [
    {
     "data": {
      "text/plain": [
       "tensor([-1.6951, -1.3247])"
      ]
     },
     "metadata": {},
     "output_type": "display_data"
    }
   ],
   "source": [
    "# Given actions actually taken what are the probabilities of these actions using the latest output from the ann\n",
    "actions = torch.tensor([0, 1])\n",
    "\n",
    "new_probs = dist.log_prob(actions)\n",
    "new_probs"
   ]
  },
  {
   "cell_type": "code",
   "execution_count": null,
   "metadata": {},
   "outputs": [
    {
     "data": {
      "text/plain": [
       "tensor([1.0509, 1.0435])"
      ]
     },
     "metadata": {},
     "output_type": "display_data"
    }
   ],
   "source": [
    "# Calculating the probability ratio\n",
    "old_probs = torch.tensor([-1.6, -1.3])\n",
    "prob_ratio = new_probs.exp() / old_probs.exp()\n",
    "prob_ratio"
   ]
  },
  {
   "attachments": {},
   "cell_type": "markdown",
   "metadata": {},
   "source": [
    "### Understanding batched PPO dimensions"
   ]
  },
  {
   "cell_type": "code",
   "execution_count": 6,
   "metadata": {},
   "outputs": [
    {
     "name": "stdout",
     "output_type": "stream",
     "text": [
      "torch.Size([128, 8, 4])\n"
     ]
    }
   ],
   "source": [
    "num_steps = 128\n",
    "num_envs = 8\n",
    "action_space = 4\n",
    "device = 'cpu'\n",
    "\n",
    "actions = torch.zeros((num_steps, num_envs) + (action_space,)).to(device)\n",
    "print(actions.shape)"
   ]
  },
  {
   "cell_type": "code",
   "execution_count": 8,
   "metadata": {},
   "outputs": [
    {
     "name": "stdout",
     "output_type": "stream",
     "text": [
      "torch.Size([1024, 4])\n"
     ]
    }
   ],
   "source": [
    "b_actions = actions.reshape((-1,) + (action_space,))\n",
    "print(b_actions.shape)"
   ]
  },
  {
   "cell_type": "code",
   "execution_count": null,
   "metadata": {},
   "outputs": [],
   "source": []
  }
 ],
 "metadata": {
  "kernelspec": {
   "display_name": "Python 3.10.8 ('torch-env')",
   "language": "python",
   "name": "python3"
  },
  "language_info": {
   "codemirror_mode": {
    "name": "ipython",
    "version": 3
   },
   "file_extension": ".py",
   "mimetype": "text/x-python",
   "name": "python",
   "nbconvert_exporter": "python",
   "pygments_lexer": "ipython3",
   "version": "3.9.12"
  },
  "orig_nbformat": 4,
  "vscode": {
   "interpreter": {
    "hash": "8cd690e671e1ea295c2072b349b255c40ccf2d1e4972d8ea9053035da215f2ef"
   }
  }
 },
 "nbformat": 4,
 "nbformat_minor": 2
}
