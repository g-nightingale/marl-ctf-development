{
 "cells": [
  {
   "cell_type": "markdown",
   "metadata": {},
   "source": [
    "# Environment Testing"
   ]
  },
  {
   "cell_type": "code",
   "execution_count": 1,
   "metadata": {},
   "outputs": [],
   "source": [
    "from gridworld_ctf_mvp import GridworldCtf\n",
    "import numpy as np"
   ]
  },
  {
   "cell_type": "code",
   "execution_count": 2,
   "metadata": {},
   "outputs": [],
   "source": [
    "# create env\n",
    "config = {\n",
    "            'GRID_SIZE':7,\n",
    "            'RANDOMISE_FLAG_POSITIONS':False,\n",
    "            'AGENT_CONFIG':{\n",
    "                0: {'team':0, 'type':0},\n",
    "                1: {'team':1, 'type':0},\n",
    "                # 2: {'team':0, 'type':0},\n",
    "                # 3: {'team':1, 'type':0},\n",
    "            },\n",
    "            'DROP_FLAG_WHEN_NO_HP': False,\n",
    "            'ENABLE_OBSTACLES': False,\n",
    "            'MAX_BLOCK_TILE_PCT': 0.1\n",
    "        }\n",
    "\n",
    "\n",
    "env = GridworldCtf(**config)"
   ]
  },
  {
   "cell_type": "code",
   "execution_count": 3,
   "metadata": {},
   "outputs": [
    {
     "data": {
      "image/png": "[encoded data removed]",
      "text/plain": [
       "<Figure size 640x480 with 1 Axes>"
      ]
     },
     "metadata": {},
     "output_type": "display_data"
    }
   ],
   "source": [
    "env.reset()\n",
    "env.render()"
   ]
  },
  {
   "cell_type": "code",
   "execution_count": 4,
   "metadata": {},
   "outputs": [
    {
     "data": {
      "text/plain": [
       "array([[[[0, 0, 1, 0, 0, 0, 0],\n",
       "         [0, 0, 0, 0, 0, 0, 0],\n",
       "         [0, 0, 0, 0, 0, 0, 0],\n",
       "         [0, 0, 0, 0, 0, 0, 0],\n",
       "         [0, 0, 0, 0, 0, 0, 0],\n",
       "         [0, 0, 0, 0, 0, 0, 0],\n",
       "         [0, 0, 0, 0, 0, 0, 0]],\n",
       "\n",
       "        [[0, 0, 1, 0, 0, 0, 0],\n",
       "         [0, 0, 0, 0, 0, 0, 0],\n",
       "         [0, 0, 0, 0, 0, 0, 0],\n",
       "         [0, 0, 0, 0, 0, 0, 0],\n",
       "         [0, 0, 0, 0, 0, 0, 0],\n",
       "         [0, 0, 0, 0, 0, 0, 0],\n",
       "         [0, 0, 0, 0, 0, 0, 0]],\n",
       "\n",
       "        [[0, 0, 0, 0, 0, 0, 0],\n",
       "         [0, 0, 0, 0, 0, 0, 0],\n",
       "         [0, 0, 0, 0, 0, 0, 0],\n",
       "         [0, 0, 0, 0, 0, 0, 0],\n",
       "         [0, 0, 0, 0, 0, 0, 0],\n",
       "         [0, 0, 0, 0, 0, 0, 0],\n",
       "         [0, 0, 0, 0, 1, 0, 0]],\n",
       "\n",
       "        [[0, 0, 0, 0, 0, 0, 0],\n",
       "         [0, 1, 0, 0, 0, 0, 0],\n",
       "         [0, 0, 0, 0, 0, 0, 0],\n",
       "         [0, 0, 0, 0, 0, 0, 0],\n",
       "         [0, 0, 0, 0, 0, 0, 0],\n",
       "         [0, 0, 0, 0, 0, 0, 0],\n",
       "         [0, 0, 0, 0, 0, 0, 0]],\n",
       "\n",
       "        [[0, 0, 0, 0, 0, 0, 0],\n",
       "         [0, 0, 0, 0, 0, 0, 0],\n",
       "         [0, 0, 0, 0, 0, 0, 0],\n",
       "         [0, 0, 0, 0, 0, 0, 0],\n",
       "         [0, 0, 0, 0, 0, 0, 0],\n",
       "         [0, 0, 0, 0, 0, 1, 0],\n",
       "         [0, 0, 0, 0, 0, 0, 0]]]], dtype=uint8)"
      ]
     },
     "execution_count": 4,
     "metadata": {},
     "output_type": "execute_result"
    }
   ],
   "source": [
    "env.standardise_state(0, use_ego_state=True)"
   ]
  },
  {
   "cell_type": "code",
   "execution_count": 5,
   "metadata": {},
   "outputs": [
    {
     "data": {
      "text/plain": [
       "array([[[[0, 0, 0, 0, 0, 0, 0],\n",
       "         [0, 0, 0, 0, 0, 0, 0],\n",
       "         [0, 0, 0, 0, 0, 0, 0],\n",
       "         [0, 0, 0, 0, 0, 0, 0],\n",
       "         [0, 0, 0, 0, 0, 0, 0],\n",
       "         [0, 0, 0, 0, 0, 0, 0],\n",
       "         [0, 0, 0, 0, 1, 0, 0]],\n",
       "\n",
       "        [[0, 0, 1, 0, 0, 0, 0],\n",
       "         [0, 0, 0, 0, 0, 0, 0],\n",
       "         [0, 0, 0, 0, 0, 0, 0],\n",
       "         [0, 0, 0, 0, 0, 0, 0],\n",
       "         [0, 0, 0, 0, 0, 0, 0],\n",
       "         [0, 0, 0, 0, 0, 0, 0],\n",
       "         [0, 0, 0, 0, 0, 0, 0]],\n",
       "\n",
       "        [[0, 0, 0, 0, 0, 0, 0],\n",
       "         [0, 0, 0, 0, 0, 0, 0],\n",
       "         [0, 0, 0, 0, 0, 0, 0],\n",
       "         [0, 0, 0, 0, 0, 0, 0],\n",
       "         [0, 0, 0, 0, 0, 0, 0],\n",
       "         [0, 0, 0, 0, 0, 1, 0],\n",
       "         [0, 0, 0, 0, 0, 0, 0]],\n",
       "\n",
       "        [[0, 0, 0, 0, 0, 0, 0],\n",
       "         [0, 1, 0, 0, 0, 0, 0],\n",
       "         [0, 0, 0, 0, 0, 0, 0],\n",
       "         [0, 0, 0, 0, 0, 0, 0],\n",
       "         [0, 0, 0, 0, 0, 0, 0],\n",
       "         [0, 0, 0, 0, 0, 0, 0],\n",
       "         [0, 0, 0, 0, 0, 0, 0]]]], dtype=uint8)"
      ]
     },
     "execution_count": 5,
     "metadata": {},
     "output_type": "execute_result"
    }
   ],
   "source": [
    "env.standardise_state(1, use_ego_state=False)"
   ]
  },
  {
   "cell_type": "code",
   "execution_count": 6,
   "metadata": {},
   "outputs": [
    {
     "data": {
      "text/plain": [
       "(1, 5, 7, 7)"
      ]
     },
     "execution_count": 6,
     "metadata": {},
     "output_type": "execute_result"
    }
   ],
   "source": [
    "env.standardise_state(1, use_ego_state=True).shape"
   ]
  },
  {
   "cell_type": "code",
   "execution_count": 7,
   "metadata": {},
   "outputs": [
    {
     "data": {
      "text/plain": [
       "(1, 4, 7, 7)"
      ]
     },
     "execution_count": 7,
     "metadata": {},
     "output_type": "execute_result"
    }
   ],
   "source": [
    "env.standardise_state(0, use_ego_state=False).shape"
   ]
  },
  {
   "cell_type": "code",
   "execution_count": 8,
   "metadata": {},
   "outputs": [
    {
     "data": {
      "image/png": "[encoded data removed]",
      "text/plain": [
       "<Figure size 640x480 with 1 Axes>"
      ]
     },
     "metadata": {},
     "output_type": "display_data"
    },
    {
     "name": "stdout",
     "output_type": "stream",
     "text": [
      "Move 0\n",
      "Game exited\n"
     ]
    }
   ],
   "source": [
    "env.play()"
   ]
  },
  {
   "cell_type": "code",
   "execution_count": 8,
   "metadata": {},
   "outputs": [
    {
     "name": "stdout",
     "output_type": "stream",
     "text": [
      "[[0 0 0 0 0 0 0]\n",
      " [0 1 0 0 0 0 0]\n",
      " [0 0 0 0 0 0 0]\n",
      " [0 0 0 0 0 0 0]\n",
      " [0 0 0 0 0 0 0]\n",
      " [0 0 0 0 0 0 0]\n",
      " [0 0 0 0 0 0 0]]\n",
      "\n",
      "[[0 0 0 0 0 0 0]\n",
      " [0 0 0 0 0 0 0]\n",
      " [0 0 0 0 0 0 0]\n",
      " [0 0 0 0 0 0 0]\n",
      " [0 0 0 0 0 0 0]\n",
      " [0 0 0 0 0 1 0]\n",
      " [0 0 0 0 0 0 0]]\n"
     ]
    }
   ],
   "source": [
    "idx = 2\n",
    "print(env.standardise_state(0)[0, idx, :])\n",
    "print()\n",
    "print(env.standardise_state(0, reverse_grid=True)[0, idx, :])\n"
   ]
  },
  {
   "cell_type": "code",
   "execution_count": 15,
   "metadata": {},
   "outputs": [
    {
     "name": "stdout",
     "output_type": "stream",
     "text": [
      "14.5 µs ± 123 ns per loop (mean ± std. dev. of 7 runs, 100,000 loops each)\n"
     ]
    }
   ],
   "source": [
    "%%timeit\n",
    "env.get_env_metadata_local_old()"
   ]
  },
  {
   "cell_type": "code",
   "execution_count": 16,
   "metadata": {},
   "outputs": [
    {
     "name": "stdout",
     "output_type": "stream",
     "text": [
      "10.3 µs ± 13.9 ns per loop (mean ± std. dev. of 7 runs, 100,000 loops each)\n"
     ]
    }
   ],
   "source": [
    "%%timeit\n",
    "env.get_env_metadata_local(0)"
   ]
  },
  {
   "attachments": {},
   "cell_type": "markdown",
   "metadata": {},
   "source": [
    "### PPO Testing"
   ]
  },
  {
   "cell_type": "code",
   "execution_count": 9,
   "metadata": {},
   "outputs": [],
   "source": [
    "from ppo3_refactor import PPOTrainer\n",
    "import torch\n",
    "import torch.nn as nn\n",
    "from torch.distributions.categorical import Categorical"
   ]
  },
  {
   "cell_type": "code",
   "execution_count": 10,
   "metadata": {},
   "outputs": [],
   "source": [
    "class Agent(nn.Module):\n",
    "    def __init__(self, n_channels, grid_size, metadata_size):\n",
    "        super(Agent, self).__init__()\n",
    "        self.n_channels = n_channels\n",
    "        self.grid_size = grid_size\n",
    "        self.metadata_size = metadata_size\n",
    "        self.unrolled_conv_size = self.get_unrolled_conv_size()\n",
    "        self.conv1 = nn.Conv2d(n_channels, 16, kernel_size=3, stride=1)\n",
    "        self.conv2 = nn.Conv2d(16, 32, kernel_size=3, stride=1)\n",
    "        self.fc1 = nn.Linear(self.unrolled_conv_size + self.metadata_size, 256)\n",
    "        self.action_head = nn.Linear(256, 4)\n",
    "        self.value_head = nn.Linear(256, 1)\n",
    "\n",
    "    def get_unrolled_conv_size(self):\n",
    "        # Calculate number of dimensions for unrolled conv2 layer\n",
    "        dim1 = self.grid_size - 3 + 1\n",
    "        dim2 = dim1 - 3 + 1\n",
    "        return 32 * dim2 * dim2\n",
    "\n",
    "    def get_value(self, x, x2):\n",
    "        x = torch.tanh(self.conv1(x))        \n",
    "        x = torch.tanh(self.conv2(x))        \n",
    "        x = x.view(-1, self.unrolled_conv_size)\n",
    "\n",
    "        # Add in metadata\n",
    "        x = torch.concat((x, x2), dim=1)\n",
    "\n",
    "        x = torch.tanh(self.fc1(x))        \n",
    "        return self.value_head(x)\n",
    "\n",
    "    def get_action_and_value(self, x, x2, action=None):\n",
    "        x = torch.tanh(self.conv1(x))        \n",
    "        x = torch.tanh(self.conv2(x))        \n",
    "        x = x.view(-1, self.unrolled_conv_size)\n",
    "\n",
    "        # Add in metadata\n",
    "        x = torch.concat((x, x2), dim=1)\n",
    "\n",
    "        x = torch.tanh(self.fc1(x))        \n",
    "        logits = self.action_head(x)\n",
    "\n",
    "        probs = Categorical(logits=logits)\n",
    "        if action is None:\n",
    "            action = probs.sample()\n",
    "        return action, probs.log_prob(action), probs.entropy(), self.value_head(x)"
   ]
  },
  {
   "cell_type": "code",
   "execution_count": 13,
   "metadata": {},
   "outputs": [],
   "source": [
    "class TrainingConfig():\n",
    "    def __init__(self):\n",
    "        #---------- Overall config\n",
    "        self.wandb_project_name = \"MARL-CTF-Test\"\n",
    "        self.exp_name = \"Agent metrics logging\"\n",
    "        self.use_wandb_selfplay = True\n",
    "        self.use_wandb_ppo = False\n",
    "        self.seed = 42\n",
    "\n",
    "        #---------- Self-play config\n",
    "        self.number_of_iterations = 50\n",
    "        self.number_of_duels = 2\n",
    "        self.n_main_agents = 10\n",
    "        self.n_exploiters = 5\n",
    "        self.n_historical_agents = 10\n",
    "        self.main_agent_update_interval = 5\n",
    "        self.exploiter_update_interval = 5\n",
    "        self.historical_update_interval = 2\n",
    "        self.max_win_rate_diff = 1.0\n",
    "\n",
    "        #---------- Environment config\n",
    "        self.use_ego_state = True\n",
    "        self.env_config = {\n",
    "            'GRID_SIZE':7,\n",
    "            'AGENT_CONFIG':{\n",
    "                0: {'team':0, 'type':0},\n",
    "                1: {'team':1, 'type':0},\n",
    "                2: {'team':0, 'type':1},\n",
    "                3: {'team':1, 'type':1},\n",
    "            },\n",
    "            'GAME_STEPS': 256,\n",
    "            'GLOBAL_REWARDS': False,\n",
    "            'RANDOMISE_FLAG_POSITIONS':False,\n",
    "            'HOME_FLAG_CAPTURE': True,\n",
    "            'ENABLE_OBSTACLES': False,\n",
    "            'MAX_BLOCK_TILE_PCT': 0.05\n",
    "        }\n",
    "\n",
    "        #---------- PPO Config\n",
    "        self.learning_rate = 0.0003\n",
    "        self.total_timesteps = 5000\n",
    "        self.torch_deterministic = True\n",
    "        self.cuda = True\n",
    "        self.wandb_entity = None\n",
    "        self.capture_video = False\n",
    "        self.num_envs = 4\n",
    "        self.parallel_rollouts = True\n",
    "        self.num_agents = 1\n",
    "        self.num_steps = 256\n",
    "        self.anneal_lr = False\n",
    "        self.gae = True\n",
    "        self.gamma = 0.95\n",
    "        self.gae_lambda = 0.96\n",
    "        self.num_minibatches = 4\n",
    "        self.update_epochs = 4\n",
    "        self.norm_adv = False\n",
    "        self.clip_coef = 0.2\n",
    "        self.clip_vloss = True\n",
    "        self.ent_coef = 0.01\n",
    "        self.vf_coef = 0.5\n",
    "        self.max_grad_norm = 0.5\n",
    "        self.target_kl = None\n",
    "        self.batch_size = int(self.num_envs * self.num_steps * self.num_agents)\n",
    "        self.minibatch_size = int(self.batch_size // self.num_minibatches)\n",
    "        self.device = 'cpu'\n",
    "\n",
    "        #---------- Metrics config\n",
    "\n",
    "args = TrainingConfig()"
   ]
  },
  {
   "cell_type": "code",
   "execution_count": 14,
   "metadata": {},
   "outputs": [
    {
     "ename": "AttributeError",
     "evalue": "Can't pickle local object 'GridworldCtf.reset.<locals>.<lambda>'",
     "output_type": "error",
     "traceback": [
      "\u001b[0;31m---------------------------------------------------------------------------\u001b[0m",
      "\u001b[0;31mAttributeError\u001b[0m                            Traceback (most recent call last)",
      "\u001b[1;32m/Users/geoffrey.nightingale@contino.io/Documents/code/marl-ctf-development/mvp_environment/env_testing.ipynb Cell 16\u001b[0m in \u001b[0;36m2\n\u001b[1;32m     <a href='vscode-notebook-cell:/Users/geoffrey.nightingale%40contino.io/Documents/code/marl-ctf-development/mvp_environment/env_testing.ipynb#X23sZmlsZQ%3D%3D?line=15'>16</a>\u001b[0m \u001b[39m# Setup PPO trainer\u001b[39;00m\n\u001b[1;32m     <a href='vscode-notebook-cell:/Users/geoffrey.nightingale%40contino.io/Documents/code/marl-ctf-development/mvp_environment/env_testing.ipynb#X23sZmlsZQ%3D%3D?line=16'>17</a>\u001b[0m ppotrainer \u001b[39m=\u001b[39m PPOTrainer(args, local_grid_dims, local_metadata_dims)\n\u001b[0;32m---> <a href='vscode-notebook-cell:/Users/geoffrey.nightingale%40contino.io/Documents/code/marl-ctf-development/mvp_environment/env_testing.ipynb#X23sZmlsZQ%3D%3D?line=19'>20</a>\u001b[0m ppotrainer\u001b[39m.\u001b[39;49mtrain_ppo(args, env, agent, opponent)\n",
      "File \u001b[0;32m~/Documents/code/marl-ctf-development/mvp_environment/ppo3_refactor.py:324\u001b[0m, in \u001b[0;36mPPOTrainer.train_ppo\u001b[0;34m(self, args, env, agent, opponent, verbose)\u001b[0m\n\u001b[1;32m    322\u001b[0m \u001b[39melif\u001b[39;00m \u001b[39mself\u001b[39m\u001b[39m.\u001b[39margs\u001b[39m.\u001b[39mnum_envs \u001b[39m>\u001b[39m \u001b[39m1\u001b[39m:\n\u001b[1;32m    323\u001b[0m     \u001b[39mif\u001b[39;00m \u001b[39mself\u001b[39m\u001b[39m.\u001b[39margs\u001b[39m.\u001b[39mparallel_rollouts:\n\u001b[0;32m--> 324\u001b[0m         rollout_data_multiple \u001b[39m=\u001b[39m \u001b[39mself\u001b[39;49m\u001b[39m.\u001b[39;49mget_multiple_rollouts(env, agent, opponent)\n\u001b[1;32m    326\u001b[0m         \u001b[39mfor\u001b[39;00m r_idx, rollout_data \u001b[39min\u001b[39;00m \u001b[39menumerate\u001b[39m(rollout_data_multiple):\n\u001b[1;32m    327\u001b[0m             grid_states[:, r_idx, :, :, :] \u001b[39m=\u001b[39m rollout_data[\u001b[39m0\u001b[39m]\n",
      "File \u001b[0;32m~/Documents/code/marl-ctf-development/mvp_environment/ppo3_refactor.py:135\u001b[0m, in \u001b[0;36mPPOTrainer.get_multiple_rollouts\u001b[0;34m(self, env, agent, opponent)\u001b[0m\n\u001b[1;32m    132\u001b[0m         async_results\u001b[39m.\u001b[39mappend(async_result)\n\u001b[1;32m    134\u001b[0m     \u001b[39m# Collect the results\u001b[39;00m\n\u001b[0;32m--> 135\u001b[0m     results \u001b[39m=\u001b[39m [async_result\u001b[39m.\u001b[39mget() \u001b[39mfor\u001b[39;00m async_result \u001b[39min\u001b[39;00m async_results]\n\u001b[1;32m    137\u001b[0m \u001b[39mreturn\u001b[39;00m results\n",
      "File \u001b[0;32m~/Documents/code/marl-ctf-development/mvp_environment/ppo3_refactor.py:135\u001b[0m, in \u001b[0;36m<listcomp>\u001b[0;34m(.0)\u001b[0m\n\u001b[1;32m    132\u001b[0m         async_results\u001b[39m.\u001b[39mappend(async_result)\n\u001b[1;32m    134\u001b[0m     \u001b[39m# Collect the results\u001b[39;00m\n\u001b[0;32m--> 135\u001b[0m     results \u001b[39m=\u001b[39m [async_result\u001b[39m.\u001b[39;49mget() \u001b[39mfor\u001b[39;00m async_result \u001b[39min\u001b[39;00m async_results]\n\u001b[1;32m    137\u001b[0m \u001b[39mreturn\u001b[39;00m results\n",
      "File \u001b[0;32m~/opt/anaconda3/envs/torch-env/lib/python3.9/multiprocessing/pool.py:771\u001b[0m, in \u001b[0;36mApplyResult.get\u001b[0;34m(self, timeout)\u001b[0m\n\u001b[1;32m    769\u001b[0m     \u001b[39mreturn\u001b[39;00m \u001b[39mself\u001b[39m\u001b[39m.\u001b[39m_value\n\u001b[1;32m    770\u001b[0m \u001b[39melse\u001b[39;00m:\n\u001b[0;32m--> 771\u001b[0m     \u001b[39mraise\u001b[39;00m \u001b[39mself\u001b[39m\u001b[39m.\u001b[39m_value\n",
      "File \u001b[0;32m~/opt/anaconda3/envs/torch-env/lib/python3.9/multiprocessing/pool.py:537\u001b[0m, in \u001b[0;36mPool._handle_tasks\u001b[0;34m(taskqueue, put, outqueue, pool, cache)\u001b[0m\n\u001b[1;32m    535\u001b[0m     \u001b[39mbreak\u001b[39;00m\n\u001b[1;32m    536\u001b[0m \u001b[39mtry\u001b[39;00m:\n\u001b[0;32m--> 537\u001b[0m     put(task)\n\u001b[1;32m    538\u001b[0m \u001b[39mexcept\u001b[39;00m \u001b[39mException\u001b[39;00m \u001b[39mas\u001b[39;00m e:\n\u001b[1;32m    539\u001b[0m     job, idx \u001b[39m=\u001b[39m task[:\u001b[39m2\u001b[39m]\n",
      "File \u001b[0;32m~/opt/anaconda3/envs/torch-env/lib/python3.9/multiprocessing/connection.py:211\u001b[0m, in \u001b[0;36m_ConnectionBase.send\u001b[0;34m(self, obj)\u001b[0m\n\u001b[1;32m    209\u001b[0m \u001b[39mself\u001b[39m\u001b[39m.\u001b[39m_check_closed()\n\u001b[1;32m    210\u001b[0m \u001b[39mself\u001b[39m\u001b[39m.\u001b[39m_check_writable()\n\u001b[0;32m--> 211\u001b[0m \u001b[39mself\u001b[39m\u001b[39m.\u001b[39m_send_bytes(_ForkingPickler\u001b[39m.\u001b[39;49mdumps(obj))\n",
      "File \u001b[0;32m~/opt/anaconda3/envs/torch-env/lib/python3.9/multiprocessing/reduction.py:51\u001b[0m, in \u001b[0;36mForkingPickler.dumps\u001b[0;34m(cls, obj, protocol)\u001b[0m\n\u001b[1;32m     48\u001b[0m \u001b[39m@classmethod\u001b[39m\n\u001b[1;32m     49\u001b[0m \u001b[39mdef\u001b[39;00m \u001b[39mdumps\u001b[39m(\u001b[39mcls\u001b[39m, obj, protocol\u001b[39m=\u001b[39m\u001b[39mNone\u001b[39;00m):\n\u001b[1;32m     50\u001b[0m     buf \u001b[39m=\u001b[39m io\u001b[39m.\u001b[39mBytesIO()\n\u001b[0;32m---> 51\u001b[0m     \u001b[39mcls\u001b[39;49m(buf, protocol)\u001b[39m.\u001b[39;49mdump(obj)\n\u001b[1;32m     52\u001b[0m     \u001b[39mreturn\u001b[39;00m buf\u001b[39m.\u001b[39mgetbuffer()\n",
      "\u001b[0;31mAttributeError\u001b[0m: Can't pickle local object 'GridworldCtf.reset.<locals>.<lambda>'"
     ]
    }
   ],
   "source": [
    "env = GridworldCtf(**args.env_config)\n",
    "\n",
    "dims_data = env.get_env_dims()\n",
    "local_grid_dims = dims_data[0]\n",
    "global_grid_dims = dims_data[1]\n",
    "local_metadata_dims = dims_data[2]\n",
    "global_metadata_dims = dims_data[3]\n",
    "n_channels = local_grid_dims[0]\n",
    "\n",
    "#----------------------------------------------------------------------\n",
    "# Initialise agent population\n",
    "#----------------------------------------------------------------------\n",
    "agent = Agent(n_channels, env.GRID_SIZE, local_metadata_dims[0]).to(args.device)\n",
    "opponent = Agent(n_channels, env.GRID_SIZE, local_metadata_dims[0]).to(args.device)\n",
    "\n",
    "# Setup PPO trainer\n",
    "ppotrainer = PPOTrainer(args, local_grid_dims, local_metadata_dims)\n",
    "\n",
    "\n",
    "ppotrainer.train_ppo(args, env, agent, opponent)"
   ]
  },
  {
   "cell_type": "code",
   "execution_count": null,
   "metadata": {},
   "outputs": [],
   "source": []
  }
 ],
 "metadata": {
  "kernelspec": {
   "display_name": "Python 3.10.8 ('torch-env')",
   "language": "python",
   "name": "python3"
  },
  "language_info": {
   "codemirror_mode": {
    "name": "ipython",
    "version": 3
   },
   "file_extension": ".py",
   "mimetype": "text/x-python",
   "name": "python",
   "nbconvert_exporter": "python",
   "pygments_lexer": "ipython3",
   "version": "3.9.12"
  },
  "orig_nbformat": 4,
  "vscode": {
   "interpreter": {
    "hash": "8cd690e671e1ea295c2072b349b255c40ccf2d1e4972d8ea9053035da215f2ef"
   }
  }
 },
 "nbformat": 4,
 "nbformat_minor": 2
}
