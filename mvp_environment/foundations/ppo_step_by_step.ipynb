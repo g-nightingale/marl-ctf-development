{
 "cells": [
  {
   "cell_type": "code",
   "execution_count": 2,
   "metadata": {},
   "outputs": [],
   "source": [
    "import torch\n",
    "import torch.nn as nn\n",
    "import torch.nn.functional as F"
   ]
  },
  {
   "cell_type": "code",
   "execution_count": 22,
   "metadata": {},
   "outputs": [],
   "source": [
    "class PolicyNet(nn.Module):\n",
    "    def __init__(self):\n",
    "        super(PolicyNet, self).__init__()\n",
    "        self.conv1 = nn.Conv2d(1, 16, kernel_size=3, stride=1)\n",
    "        self.conv2 = nn.Conv2d(16, 32, kernel_size=3, stride=1)\n",
    "        self.fc1 = nn.Linear(32*2*2, 256)\n",
    "        self.action_head = nn.Linear(256, 4)\n",
    "        self.value_head = nn.Linear(256, 1)\n",
    "        \n",
    "    def forward(self, x):\n",
    "        print(f'input shape: {x.shape}')\n",
    "\n",
    "        x = F.relu(self.conv1(x))\n",
    "        print(f'shape after conv 1: {x.shape}')\n",
    "        \n",
    "        x = F.relu(self.conv2(x))\n",
    "        print(f'shape after conv 2: {x.shape}')\n",
    "        \n",
    "        x = x.view(-1, 32*2*2)\n",
    "        print(f'shape after flattening: {x.shape}')\n",
    "        \n",
    "        x = F.relu(self.fc1(x))\n",
    "        print(f'shape after FC layer: {x.shape}')\n",
    "        \n",
    "        action_scores = self.action_head(x)\n",
    "        print(f'action scores shape: {action_scores.shape}')\n",
    "\n",
    "        state_values = self.value_head(x)\n",
    "        print(f'state values shape: {state_values.shape}')\n",
    "\n",
    "        return F.softmax(action_scores, dim=-1), state_values\n"
   ]
  },
  {
   "cell_type": "code",
   "execution_count": 23,
   "metadata": {},
   "outputs": [
    {
     "name": "stdout",
     "output_type": "stream",
     "text": [
      "tensor([[[ 0.2799, -0.7359, -0.4680, -0.5308, -1.3366, -2.9482],\n",
      "         [-0.8219, -1.3620,  0.2111, -1.3075,  0.3672, -1.7308],\n",
      "         [ 0.7033,  0.5948,  0.5323, -0.7808, -1.2091, -0.5517],\n",
      "         [ 1.0189, -0.2869, -1.5958, -1.0252,  0.3963,  0.2542],\n",
      "         [ 0.3537,  1.4718,  0.1433, -1.0709,  1.0813,  2.0001],\n",
      "         [-0.5400, -0.1685, -0.7335, -1.1585,  0.9359, -1.6388]]])\n"
     ]
    }
   ],
   "source": [
    "pn = PolicyNet()\n",
    "\n",
    "x = torch.randn((1, 6, 6))\n",
    "print(x)"
   ]
  },
  {
   "cell_type": "code",
   "execution_count": 25,
   "metadata": {},
   "outputs": [
    {
     "name": "stdout",
     "output_type": "stream",
     "text": [
      "input shape: torch.Size([1, 6, 6])\n",
      "shape after conv 1: torch.Size([16, 4, 4])\n",
      "shape after conv 2: torch.Size([32, 2, 2])\n",
      "shape after flattening: torch.Size([1, 128])\n",
      "shape after FC layer: torch.Size([1, 256])\n",
      "action scores shape: torch.Size([1, 4])\n",
      "state values shape: torch.Size([1, 1])\n"
     ]
    }
   ],
   "source": [
    "probs, value = pn(x)"
   ]
  },
  {
   "cell_type": "code",
   "execution_count": 27,
   "metadata": {},
   "outputs": [
    {
     "data": {
      "text/plain": [
       "tensor([[0.4755, 0.5239, 0.5186, 0.4820]])"
      ]
     },
     "execution_count": 27,
     "metadata": {},
     "output_type": "execute_result"
    }
   ],
   "source": [
    "probs.detach() * 2"
   ]
  },
  {
   "cell_type": "code",
   "execution_count": null,
   "metadata": {},
   "outputs": [],
   "source": []
  }
 ],
 "metadata": {
  "kernelspec": {
   "display_name": "Python 3.10.8 ('torch-env')",
   "language": "python",
   "name": "python3"
  },
  "language_info": {
   "codemirror_mode": {
    "name": "ipython",
    "version": 3
   },
   "file_extension": ".py",
   "mimetype": "text/x-python",
   "name": "python",
   "nbconvert_exporter": "python",
   "pygments_lexer": "ipython3",
   "version": "3.10.8"
  },
  "orig_nbformat": 4,
  "vscode": {
   "interpreter": {
    "hash": "8cd690e671e1ea295c2072b349b255c40ccf2d1e4972d8ea9053035da215f2ef"
   }
  }
 },
 "nbformat": 4,
 "nbformat_minor": 2
}
