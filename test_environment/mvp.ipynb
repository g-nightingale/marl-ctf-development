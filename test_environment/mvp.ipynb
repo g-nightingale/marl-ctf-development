{
 "cells": [
  {
   "cell_type": "markdown",
   "metadata": {},
   "source": [
    "# GridWorld Capture the Flag MVP"
   ]
  },
  {
   "cell_type": "code",
   "execution_count": 1,
   "metadata": {},
   "outputs": [],
   "source": [
    "from gridworld_ctf import GridworldCtf\n",
    "import numpy as np\n",
    "import torch\n",
    "import torch.nn as nn\n",
    "import torch.nn.functional as F\n",
    "from IPython.display import clear_output\n",
    "import random\n",
    "from matplotlib import pyplot as plt\n",
    "from collections import deque\n",
    "import copy\n"
   ]
  },
  {
   "cell_type": "code",
   "execution_count": 21,
   "metadata": {},
   "outputs": [
    {
     "data": {
      "image/png": "[encoded data removed]",
      "text/plain": [
       "<Figure size 640x480 with 1 Axes>"
      ]
     },
     "metadata": {},
     "output_type": "display_data"
    }
   ],
   "source": [
    "# instantiate environment\n",
    "env = GridworldCtf(game_mode='random')\n",
    "env.render()"
   ]
  },
  {
   "cell_type": "code",
   "execution_count": 22,
   "metadata": {},
   "outputs": [
    {
     "data": {
      "image/png": "[encoded data removed]",
      "text/plain": [
       "<Figure size 640x480 with 1 Axes>"
      ]
     },
     "metadata": {},
     "output_type": "display_data"
    },
    {
     "name": "stdout",
     "output_type": "stream",
     "text": [
      "reward: -1, done: False\n",
      "You win!, total score 74\n"
     ]
    }
   ],
   "source": [
    "# Play the gridworld\n",
    "env.play()"
   ]
  },
  {
   "cell_type": "markdown",
   "metadata": {},
   "source": [
    "### DQN"
   ]
  },
  {
   "cell_type": "code",
   "execution_count": 23,
   "metadata": {},
   "outputs": [],
   "source": [
    "# models\n",
    "l1 = 100\n",
    "l2 = 150\n",
    "l3 = 100\n",
    "l4 = 4\n",
    "\n",
    "model = torch.nn.Sequential(\n",
    "    torch.nn.Linear(l1, l2),\n",
    "    torch.nn.ReLU(),\n",
    "    torch.nn.Linear(l2, l3),\n",
    "    torch.nn.ReLU(),\n",
    "    torch.nn.Linear(l3, l4)\n",
    ")\n",
    "\n",
    "model2 = copy.deepcopy(model) #A\n",
    "model2.load_state_dict(model.state_dict()) #B\n",
    "\n",
    "loss_fn = torch.nn.MSELoss()\n",
    "learning_rate = 0.0005\n",
    "optimizer = torch.optim.Adam(model.parameters(), lr=learning_rate)\n",
    "\n",
    "gamma = 0.9\n",
    "epsilon = 0.3"
   ]
  },
  {
   "cell_type": "code",
   "execution_count": 24,
   "metadata": {},
   "outputs": [],
   "source": [
    "# cnn model\n",
    "\n",
    "# Reminder: height and width of next conv layer = W_1 = [(W_0 + 2P - F)/S] + 1\n",
    "class Net(nn.Module):\n",
    "    def __init__(self):\n",
    "        super().__init__()\n",
    "        # channels / filters / filter size\n",
    "        self.conv1 = nn.Conv2d(1, 3, 3)\n",
    "        #self.pool = nn.MaxPool2d(2, 2)\n",
    "        self.conv2 = nn.Conv2d(3, 8, 3)\n",
    "        self.fc1 = nn.Linear(8*6*6, 128)\n",
    "        self.fc2 = nn.Linear(128, 4)\n",
    "\n",
    "    def forward(self, x):\n",
    "        x = F.relu(self.conv1(x))\n",
    "        x = F.relu(self.conv2(x))\n",
    "        x = torch.flatten(x, 1) # flatten all dimensions except batch\n",
    "        x = F.relu(self.fc1(x))\n",
    "        x = self.fc2(x)\n",
    "        return x"
   ]
  },
  {
   "cell_type": "code",
   "execution_count": 26,
   "metadata": {},
   "outputs": [
    {
     "name": "stdout",
     "output_type": "stream",
     "text": [
      "episode:0 \n",
      "score:-201 \n",
      "average score:-201.0\n"
     ]
    }
   ],
   "source": [
    "# train agent\n",
    "env = GridworldCtf(game_mode='random')\n",
    "\n",
    "# create models\n",
    "model = Net()\n",
    "print(model)\n",
    "model2 = copy.deepcopy(model) #A\n",
    "model2.load_state_dict(model.state_dict()) #B\n",
    "\n",
    "loss_fn = torch.nn.MSELoss()\n",
    "learning_rate = 0.0005\n",
    "optimizer = torch.optim.Adam(model.parameters(), lr=learning_rate)\n",
    "\n",
    "gamma = 0.9\n",
    "epsilon = 0.3\n",
    "\n",
    "# train agents\n",
    "env_dims = (1, 1, 10, 10)\n",
    "epochs = 2000\n",
    "losses = []\n",
    "score_history = []\n",
    "mem_size = 2000\n",
    "batch_size = 128\n",
    "replay = deque(maxlen=mem_size)\n",
    "n_random_steps = 500\n",
    "max_moves = 200\n",
    "h = 0\n",
    "sync_freq = 500 #A\n",
    "j = 0\n",
    "\n",
    "for i in range(epochs):\n",
    "    env.reset()\n",
    "\n",
    "    state1_ = env.grid.reshape(*env_dims) + np.random.rand(*env_dims)/100.0\n",
    "    state1 = torch.from_numpy(state1_).float()\n",
    "\n",
    "    status = 1\n",
    "    mov = 0\n",
    "    score = 0\n",
    "    while(status == 1): \n",
    "        j+=1\n",
    "        mov += 1\n",
    "        qval = model(state1)\n",
    "        qval_ = qval.data.numpy()\n",
    "\n",
    "        # random action selection\n",
    "        if (random.random() < epsilon) or (i < n_random_steps):\n",
    "            action_ = np.random.randint(0, 4)\n",
    "        else:\n",
    "            action_ = np.argmax(qval_)\n",
    "        \n",
    "        state2, reward, done = env.step(action_)\n",
    "        state2_ = state2.reshape(*env_dims) + np.random.rand(*env_dims)/100.0\n",
    "\n",
    "        score += reward\n",
    "\n",
    "        state2 = torch.from_numpy(state2_).float()\n",
    "\n",
    "        # Append replay buffer\n",
    "        exp =  (state1, action_, reward, state2, done)\n",
    "        replay.append(exp) #H\n",
    "        state1 = state2\n",
    "        \n",
    "        if len(replay) > batch_size and i >= n_random_steps:\n",
    "            minibatch = random.sample(replay, batch_size)\n",
    "            state1_batch = torch.cat([s1 for (s1,a,r,s2,d) in minibatch])\n",
    "            action_batch = torch.Tensor([a for (s1,a,r,s2,d) in minibatch])\n",
    "            reward_batch = torch.Tensor([r for (s1,a,r,s2,d) in minibatch])\n",
    "            state2_batch = torch.cat([s2 for (s1,a,r,s2,d) in minibatch])\n",
    "            done_batch = torch.Tensor([d for (s1,a,r,s2,d) in minibatch])\n",
    "            Q1 = model(state1_batch) \n",
    "            with torch.no_grad():\n",
    "                Q2 = model2(state2_batch) #B\n",
    "            \n",
    "            Y = reward_batch + gamma * ((1-done_batch) * torch.max(Q2,dim=1)[0])\n",
    "            X = Q1.gather(dim=1, index=action_batch.long().unsqueeze(dim=1)).squeeze()\n",
    "            loss = loss_fn(X, Y.detach())\n",
    "            optimizer.zero_grad()\n",
    "            loss.backward()\n",
    "            losses.append(loss.item())\n",
    "            optimizer.step()\n",
    "            \n",
    "            if j % sync_freq == 0: #C\n",
    "                model2.load_state_dict(model.state_dict())\n",
    "        if reward != -1 or mov > max_moves:\n",
    "            status = 0\n",
    "            mov = 0\n",
    "        \n",
    "    score_history.append(score)\n",
    "\n",
    "    if i % 100 == 0:\n",
    "        clear_output(wait=True)\n",
    "        print(f'episode:{i} \\nscore:{score} \\naverage score:{np.mean(score_history[-100:])}')\n",
    "\n",
    "losses = np.array(losses)\n",
    "\n",
    "#A Set the update frequency for synchronizing the target model parameters to the main DQN\n",
    "#B Use the target network to get the maiximum Q-value for the next state\n",
    "#C Copy the main model parameters to the target network"
   ]
  },
  {
   "cell_type": "code",
   "execution_count": 9,
   "metadata": {},
   "outputs": [
    {
     "data": {
      "image/png": "[encoded data removed]",
      "text/plain": [
       "<Figure size 800x600 with 1 Axes>"
      ]
     },
     "metadata": {},
     "output_type": "display_data"
    },
    {
     "data": {
      "image/png": "[encoded data removed]",
      "text/plain": [
       "<Figure size 800x600 with 1 Axes>"
      ]
     },
     "metadata": {},
     "output_type": "display_data"
    }
   ],
   "source": [
    "# Plot losses\n",
    "plt.figure(figsize=(8, 6))\n",
    "plt.title('loss')\n",
    "plt.plot(losses)\n",
    "plt.xlabel(\"episodes\")\n",
    "plt.ylabel(\"loss\")\n",
    "\n",
    "# Plot rewards\n",
    "plt.figure(figsize=(8, 6))\n",
    "plt.title('rewards')\n",
    "plt.plot(score_history, label='episode score')\n",
    "plt.plot([np.mean(score_history[::-1][i:i+100]) for i in range(len(score_history))][::-1], label='Average reward (last 100 episodes)')\n",
    "plt.xlabel(\"epochs\")\n",
    "plt.ylabel(\"reward\")\n",
    "plt.legend()\n",
    "plt.show()"
   ]
  },
  {
   "cell_type": "code",
   "execution_count": 18,
   "metadata": {},
   "outputs": [
    {
     "data": {
      "image/png": "[encoded data removed]",
      "text/plain": [
       "<Figure size 640x480 with 1 Axes>"
      ]
     },
     "metadata": {},
     "output_type": "display_data"
    },
    {
     "name": "stdout",
     "output_type": "stream",
     "text": [
      "Game won! score: 76\n"
     ]
    },
    {
     "data": {
      "text/plain": [
       "True"
      ]
     },
     "execution_count": 18,
     "metadata": {},
     "output_type": "execute_result"
    }
   ],
   "source": [
    "def test_model(env, model, env_dims, display=True, max_moves=30):\n",
    "    i = 0\n",
    "    env.reset()\n",
    "\n",
    "    state_ = env.grid.reshape(*env_dims) + np.random.rand(*env_dims)/100.0\n",
    "    state = torch.from_numpy(state_).float()\n",
    "    if display:\n",
    "        #print(\"Initial State:\")\n",
    "        #print(env.display_grid())\n",
    "        env.render(sleep_time=0.25)\n",
    "    status = 1\n",
    "    score = 0\n",
    "    while(status == 1): #A\n",
    "        qval = model(state)\n",
    "        qval_ = qval.data.numpy()\n",
    "        action_ = np.argmax(qval_) #B\n",
    "\n",
    "        state_, reward, done = env.step(action_)\n",
    "\n",
    "        state = state_.reshape(*env_dims) + np.random.rand(*env_dims)/100.0\n",
    "        state = torch.from_numpy(state).float()\n",
    "\n",
    "        score += reward\n",
    "        if display:\n",
    "            env.render(sleep_time=0.25)\n",
    "\n",
    "        if done:\n",
    "            status = 2\n",
    "            if display:\n",
    "                print(\"Game won! score: %s\" % (score,))\n",
    "        i += 1\n",
    "        if (i > max_moves):\n",
    "            if display:\n",
    "                print(f\"Game lost; too many moves. Final score: {score}\")\n",
    "            break\n",
    "    \n",
    "    win = True if status == 2 else False\n",
    "    return win\n",
    "\n",
    "env_dims = (1, 1, 10, 10)\n",
    "test_model(env, model, env_dims, display=True)"
   ]
  },
  {
   "cell_type": "markdown",
   "metadata": {},
   "source": [
    "### Reinforce"
   ]
  },
  {
   "cell_type": "code",
   "execution_count": 42,
   "metadata": {},
   "outputs": [],
   "source": [
    "class Net(nn.Module):\n",
    "    def __init__(self):\n",
    "        super().__init__()\n",
    "        # channels / filters / filter size\n",
    "        self.conv1 = nn.Conv2d(1, 3, 3)\n",
    "        #self.pool = nn.MaxPool2d(2, 2)\n",
    "        self.conv2 = nn.Conv2d(3, 8, 3)\n",
    "        self.fc1 = nn.Linear(8*6*6, 128)\n",
    "        self.fc2 = nn.Linear(128, 4)\n",
    "\n",
    "    def forward(self, x):\n",
    "        x = F.relu(self.conv1(x))\n",
    "        x = F.relu(self.conv2(x))\n",
    "        x = torch.flatten(x, 1) # flatten all dimensions except batch\n",
    "        x = F.relu(self.fc1(x))\n",
    "        x = F.softmax(self.fc2(x), dim=1)\n",
    "        return x"
   ]
  },
  {
   "cell_type": "code",
   "execution_count": 43,
   "metadata": {},
   "outputs": [
    {
     "name": "stdout",
     "output_type": "stream",
     "text": [
      "Net(\n",
      "  (conv1): Conv2d(1, 3, kernel_size=(3, 3), stride=(1, 1))\n",
      "  (conv2): Conv2d(3, 8, kernel_size=(3, 3), stride=(1, 1))\n",
      "  (fc1): Linear(in_features=288, out_features=128, bias=True)\n",
      "  (fc2): Linear(in_features=128, out_features=4, bias=True)\n",
      ")\n"
     ]
    }
   ],
   "source": [
    "def discount_rewards(rewards, gamma=0.99):\n",
    "    lenr = len(rewards)\n",
    "    disc_return = torch.pow(gamma,torch.arange(lenr).float()) * rewards #A\n",
    "    disc_return /= disc_return.max() #B\n",
    "    return disc_return\n",
    "\n",
    "#A Compute exponentially decaying rewards\n",
    "#B Normalize the rewards to be within the [0,1] interval to improve numerical stability\n",
    "\n",
    "def loss_fn(preds, r): #A\n",
    "    return -1 * torch.sum(r * torch.log(preds)) #B\n",
    "\n",
    "#A The loss function expects an array of action probabilities for the actions that were taken and the discounted rewards.\n",
    "#B It computes the log of the probabilities, multiplies by the discounted rewards, sums them all and flips the sign.\n",
    "\n",
    "\n",
    "# create models\n",
    "model = Net()\n",
    "print(model)\n",
    "model2 = copy.deepcopy(model) #A\n",
    "model2.load_state_dict(model.state_dict()) #B\n",
    "\n",
    "learning_rate = 0.0005\n",
    "optimizer = torch.optim.Adam(model.parameters(), lr=learning_rate)\n",
    "\n",
    "gamma = 0.9\n",
    "epsilon = 0.3"
   ]
  },
  {
   "cell_type": "code",
   "execution_count": 44,
   "metadata": {},
   "outputs": [
    {
     "name": "stdout",
     "output_type": "stream",
     "text": [
      "(10, 10)\n"
     ]
    },
    {
     "ename": "ValueError",
     "evalue": "At least one stride in the given numpy array is negative, and tensors with negative strides are not currently supported. (You can probably work around this by making a copy of your array  with array.copy().) ",
     "output_type": "error",
     "traceback": [
      "\u001b[1;31m---------------------------------------------------------------------------\u001b[0m",
      "\u001b[1;31mValueError\u001b[0m                                Traceback (most recent call last)",
      "Cell \u001b[1;32mIn [44], line 19\u001b[0m\n\u001b[0;32m     17\u001b[0m curr_state_, _, done \u001b[39m=\u001b[39m env\u001b[39m.\u001b[39mstep(action) \u001b[39m#F\u001b[39;00m\n\u001b[0;32m     18\u001b[0m \u001b[39mprint\u001b[39m(curr_state_\u001b[39m.\u001b[39mshape)\n\u001b[1;32m---> 19\u001b[0m curr_state \u001b[39m=\u001b[39m torch\u001b[39m.\u001b[39;49mfrom_numpy(curr_state_)\u001b[39m.\u001b[39mfloat()\n\u001b[0;32m     21\u001b[0m transitions\u001b[39m.\u001b[39mappend((prev_state, action, t\u001b[39m+\u001b[39m\u001b[39m1\u001b[39m)) \u001b[39m#G\u001b[39;00m\n\u001b[0;32m     22\u001b[0m \u001b[39mif\u001b[39;00m done: \u001b[39m#H\u001b[39;00m\n",
      "\u001b[1;31mValueError\u001b[0m: At least one stride in the given numpy array is negative, and tensors with negative strides are not currently supported. (You can probably work around this by making a copy of your array  with array.copy().) "
     ]
    }
   ],
   "source": [
    "MAX_DUR = 200\n",
    "MAX_EPISODES = 500\n",
    "gamma = 0.99\n",
    "score = [] #A\n",
    "expectation = 0.0\n",
    "for episode in range(MAX_EPISODES):\n",
    "    env.reset()\n",
    "    curr_state_ = env.grid.reshape(*env_dims) + np.random.rand(*env_dims)/100.0\n",
    "    curr_state = torch.from_numpy(curr_state_).float()\n",
    "    done = False\n",
    "    transitions = [] #B\n",
    "    \n",
    "    for t in range(MAX_DUR): #C\n",
    "        act_prob = model(curr_state)[0] #D\n",
    "        action = np.random.choice(np.arange(4), p=act_prob.data.numpy()) #E\n",
    "        prev_state = curr_state\n",
    "        curr_state_, _, done = env.step(action) #F\n",
    "        print(curr_state_.shape)\n",
    "        curr_state = torch.from_numpy(curr_state_).float()\n",
    "\n",
    "        transitions.append((prev_state, action, t+1)) #G\n",
    "        if done: #H\n",
    "            break\n",
    "\n",
    "    ep_len = len(transitions) #I\n",
    "    score.append(ep_len)\n",
    "    reward_batch = torch.Tensor([r for (s,a,r) in transitions]).flip(dims=(0,)) #J\n",
    "    disc_returns = discount_rewards(reward_batch) #K\n",
    "    state_batch = torch.Tensor([s for (s,a,r) in transitions]) #L\n",
    "    action_batch = torch.Tensor([a for (s,a,r) in transitions]) #M\n",
    "    pred_batch = model(state_batch) #N\n",
    "    prob_batch = pred_batch.gather(dim=1,index=action_batch.long().view(-1,1)).squeeze() #O\n",
    "    loss = loss_fn(prob_batch, disc_returns)\n",
    "    optimizer.zero_grad()\n",
    "    loss.backward()\n",
    "    optimizer.step()\n",
    "\n",
    "#A List to keep track of the episode length over training time\n",
    "#B List of state, action, rewards (but we ignore the reward)\n",
    "#C While in episode\n",
    "#D Get the action probabilities\n",
    "#E Select an action stochastically\n",
    "#F Take the action in the environment\n",
    "#G Store this transition\n",
    "#H If game is lost, break out of the loop\n",
    "#I Store the episode length\n",
    "#J Collect all the rewards in the episode in a single tensor\n",
    "#K Compute the discounted version of the rewards\n",
    "#L Collect the states in the episode in a single tensor\n",
    "#M Collect the actions in the episode in a single tensor\n",
    "#N Re-compute the action probabilities for all the states in the episode\n",
    "#O Subset the action-probabilities associated with the actions that were actually taken "
   ]
  },
  {
   "cell_type": "code",
   "execution_count": null,
   "metadata": {},
   "outputs": [],
   "source": []
  }
 ],
 "metadata": {
  "kernelspec": {
   "display_name": "Python 3.10.8 ('torch-env')",
   "language": "python",
   "name": "python3"
  },
  "language_info": {
   "codemirror_mode": {
    "name": "ipython",
    "version": 3
   },
   "file_extension": ".py",
   "mimetype": "text/x-python",
   "name": "python",
   "nbconvert_exporter": "python",
   "pygments_lexer": "ipython3",
   "version": "3.10.8"
  },
  "orig_nbformat": 4,
  "vscode": {
   "interpreter": {
    "hash": "8cd690e671e1ea295c2072b349b255c40ccf2d1e4972d8ea9053035da215f2ef"
   }
  }
 },
 "nbformat": 4,
 "nbformat_minor": 2
}
